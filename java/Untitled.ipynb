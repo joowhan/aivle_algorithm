{
 "cells": [
  {
   "cell_type": "code",
   "execution_count": 2,
   "id": "88f2f75d-d631-4446-bca9-537c4ccb3785",
   "metadata": {},
   "outputs": [
    {
     "name": "stdin",
     "output_type": "stream",
     "text": [
      " 3\n"
     ]
    }
   ],
   "source": [
    "n = int(input())"
   ]
  },
  {
   "cell_type": "code",
   "execution_count": 3,
   "id": "b460b4d8-9941-47d9-bc64-bb58a947f20e",
   "metadata": {},
   "outputs": [
    {
     "name": "stdin",
     "output_type": "stream",
     "text": [
      " 10 20 30\n"
     ]
    }
   ],
   "source": [
    "lis = list(map(int, input().split()))"
   ]
  },
  {
   "cell_type": "code",
   "execution_count": 4,
   "id": "5433e8fb-297f-41ab-b575-468fe13de4ba",
   "metadata": {},
   "outputs": [
    {
     "data": {
      "text/plain": [
       "[10, 20, 30]"
      ]
     },
     "execution_count": 4,
     "metadata": {},
     "output_type": "execute_result"
    }
   ],
   "source": [
    "lis"
   ]
  },
  {
   "cell_type": "code",
   "execution_count": 5,
   "id": "a424c98c-c4b8-46b5-9526-8f1106a37cb5",
   "metadata": {},
   "outputs": [],
   "source": [
    "m = max(lis)"
   ]
  },
  {
   "cell_type": "code",
   "execution_count": 8,
   "id": "1ebd94a7-62f0-4c00-a4ba-39643172c1c3",
   "metadata": {},
   "outputs": [],
   "source": [
    "for i in range(len(lis)):\n",
    "    lis[i] = lis[i]/m*100"
   ]
  },
  {
   "cell_type": "code",
   "execution_count": 9,
   "id": "065889cb-41d1-4a0f-b065-e09087c78ad4",
   "metadata": {},
   "outputs": [
    {
     "name": "stdout",
     "output_type": "stream",
     "text": [
      "[33.33333333333333, 66.66666666666666, 100.0]\n"
     ]
    }
   ],
   "source": [
    "print(lis)"
   ]
  },
  {
   "cell_type": "code",
   "execution_count": 11,
   "id": "d1dfa634-e953-4790-b9ae-03875820012c",
   "metadata": {},
   "outputs": [
    {
     "data": {
      "text/plain": [
       "66.66666666666667"
      ]
     },
     "execution_count": 11,
     "metadata": {},
     "output_type": "execute_result"
    }
   ],
   "source": [
    "sum(lis)/n"
   ]
  },
  {
   "cell_type": "code",
   "execution_count": null,
   "id": "846a940d-b9a4-4e87-b5bd-801bfaf4a581",
   "metadata": {},
   "outputs": [],
   "source": []
  }
 ],
 "metadata": {
  "kernelspec": {
   "display_name": "hanati",
   "language": "python",
   "name": "hanati"
  },
  "language_info": {
   "codemirror_mode": {
    "name": "ipython",
    "version": 3
   },
   "file_extension": ".py",
   "mimetype": "text/x-python",
   "name": "python",
   "nbconvert_exporter": "python",
   "pygments_lexer": "ipython3",
   "version": "3.8.18"
  }
 },
 "nbformat": 4,
 "nbformat_minor": 5
}
