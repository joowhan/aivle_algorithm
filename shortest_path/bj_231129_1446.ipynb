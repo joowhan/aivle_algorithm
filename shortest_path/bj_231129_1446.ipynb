{
 "cells": [
  {
   "cell_type": "code",
   "execution_count": 20,
   "id": "88f3047e-93ca-4ef9-86c8-c58f06d75c97",
   "metadata": {},
   "outputs": [
    {
     "name": "stdin",
     "output_type": "stream",
     "text": [
      " 2 100\n",
      " 10 60 40\n",
      " 50 90 20\n"
     ]
    },
    {
     "data": {
      "text/plain": [
       "100"
      ]
     },
     "execution_count": 20,
     "metadata": {},
     "output_type": "execute_result"
    }
   ],
   "source": [
    "# 지름길 개수, 고속도로 길이\n",
    "# 시작위치, 도착위치, 지름길 길이\n",
    "# 150에 완벽하게 도착하지 못할 수 있다. -> 각 \n",
    "import heapq\n",
    "\n",
    "INF = int(1e9)\n",
    "n,d = map(int, input().split())\n",
    "\n",
    "graph = [[] for _ in range(10001)]\n",
    "distance = [i for i in range(10001)]\n",
    "visited=[False]*(10001)\n",
    "queue =[]\n",
    "\n",
    "# 0, 50, 10\n",
    "for i in range(n):\n",
    "    a, b, c = map(int, input().split())\n",
    "    graph[a].append((b,c))\n",
    "\n",
    "\n",
    "heapq.heappush(queue, (0,0))\n",
    "distance[0] = 0\n",
    "last_visit = 0\n",
    "while queue:\n",
    "    dist, now = heapq.heappop(queue)\n",
    "    if distance[now] < dist:\n",
    "        continue\n",
    "    for i in graph[now]:\n",
    "        cost = dist+i[1]\n",
    "        if cost < distance[i[0]]:\n",
    "            distance[i[0]] = cost\n",
    "            visited[i[0]] = True\n",
    "            if i[0] <= d:\n",
    "                last_visit = i[0]\n",
    "            heapq.heappush(queue, (cost, i[0]))\n",
    "min(distance[d], distance[last_visit]+(d-last_visit))"
   ]
  },
  {
   "cell_type": "code",
   "execution_count": 22,
   "id": "87543b4f-cafa-444e-ad3a-b6076104f56d",
   "metadata": {},
   "outputs": [
    {
     "name": "stdin",
     "output_type": "stream",
     "text": [
      " 5 150\n",
      " 0 50 10\n",
      " 0 50 20\n",
      " 50 100 10\n",
      " 100 151 10\n",
      " 110 140 90\n"
     ]
    },
    {
     "name": "stdout",
     "output_type": "stream",
     "text": [
      "70\n"
     ]
    }
   ],
   "source": [
    "import heapq\n",
    "\n",
    "INF = int(1e9)\n",
    "n,d = map(int, input().split())\n",
    "    \n",
    "\n",
    "graph = [[] for _ in range(d+1)]\n",
    "distance = [INF for i in range(d+1)]\n",
    "\n",
    "\n",
    "for i in range(d):\n",
    "    graph[i].append((i+1, 1))\n",
    "\n",
    "for i in range(n):\n",
    "    a, b, c = map(int, input().split())\n",
    "    if b > d:\n",
    "        continue\n",
    "    graph[a].append((b,c))\n",
    "\n",
    "def dijkstra(start):\n",
    "    queue=[]\n",
    "    heapq.heappush(queue, (0, start))\n",
    "    distance[start] = 0\n",
    "    while queue:\n",
    "        dist, now = heapq.heappop(queue)\n",
    "        if distance[now] < dist:\n",
    "            continue\n",
    "        for i in graph[now]:\n",
    "            cost = dist+i[1]\n",
    "            if cost < distance[i[0]]:\n",
    "                distance[i[0]] = cost\n",
    "                heapq.heappush(queue, (cost, i[0]))\n",
    "dijkstra(0)\n",
    "print(distance[d])"
   ]
  },
  {
   "cell_type": "code",
   "execution_count": null,
   "id": "886b9687-0f4f-442f-ade4-123e659047cc",
   "metadata": {},
   "outputs": [],
   "source": []
  }
 ],
 "metadata": {
  "kernelspec": {
   "display_name": "Python 3",
   "language": "python",
   "name": "python3"
  },
  "language_info": {
   "codemirror_mode": {
    "name": "ipython",
    "version": 3
   },
   "file_extension": ".py",
   "mimetype": "text/x-python",
   "name": "python",
   "nbconvert_exporter": "python",
   "pygments_lexer": "ipython3",
   "version": "3.9.2"
  }
 },
 "nbformat": 4,
 "nbformat_minor": 5
}
