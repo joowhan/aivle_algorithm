{
 "cells": [
  {
   "cell_type": "code",
   "execution_count": 1,
   "id": "b8bf06da-ba41-4412-92bd-7552c0e45d65",
   "metadata": {},
   "outputs": [],
   "source": [
    "# 4 4 1\n",
    "# 1 2 10\n",
    "# 2 4 10\n",
    "# 1 3 1\n",
    "# 3 4 100"
   ]
  },
  {
   "cell_type": "code",
   "execution_count": 61,
   "id": "7cde57ab-03e5-4995-b676-2fb50bc26ea4",
   "metadata": {},
   "outputs": [
    {
     "name": "stdin",
     "output_type": "stream",
     "text": [
      " 4 4 1\n",
      " 1 2 10\n",
      " 2 4 10\n",
      " 1 3 1\n",
      " 3 4 100\n"
     ]
    }
   ],
   "source": [
    "import heapq\n",
    "INF = int(1e9)\n",
    "\n",
    "n,m,k = map(int, input().split())\n",
    "graph = [[] for _ in range(n+1)]\n",
    "queue=[]\n",
    "for _ in range(m):\n",
    "    a,b,c = map(int, input().split())\n",
    "    graph[a].append((b,c))\n",
    "    "
   ]
  },
  {
   "cell_type": "code",
   "execution_count": 28,
   "id": "eb941ae7-19ad-42aa-9f20-c204cab872c8",
   "metadata": {},
   "outputs": [
    {
     "data": {
      "text/plain": [
       "[[], [(2, 10), (3, 1)], [(4, 10)], [(4, 100)], []]"
      ]
     },
     "execution_count": 28,
     "metadata": {},
     "output_type": "execute_result"
    }
   ],
   "source": [
    "graph"
   ]
  },
  {
   "cell_type": "code",
   "execution_count": 62,
   "id": "3208fda3-5585-4fb5-8645-bccc557bdd26",
   "metadata": {},
   "outputs": [
    {
     "name": "stdout",
     "output_type": "stream",
     "text": [
      "0\n"
     ]
    }
   ],
   "source": [
    "distance[1] = 0\n",
    "history = [[]  for _ in range(n+1)]\n",
    "history[1].append(0)\n",
    "distance = [INF for _ in range(n+1)]\n",
    "def dijkstra(start):\n",
    "    heapq.heappush(queue, (start, 0))\n",
    "    while queue:\n",
    "        # 처음에는 시작점:1, 거리:0이 나온다.\n",
    "        now, dist = heapq.heappop(queue)\n",
    "        # 이미 최단 경로로 업데이트 되어 있는 노드라면?\n",
    "        if distance[now] < dist:\n",
    "            continue\n",
    "        # 노드 탐색\n",
    "        for node,fee in graph[now]:\n",
    "            # 기존의 거리와 출발점(dist)와 도착지까지의 비용 중 최소로 설정\n",
    "            # distance[node] = min(distance[node], dist+fee)\n",
    "            # 업데이트를 해야 한다면? \n",
    "            if distance[node] > (dist+fee):\n",
    "                distance[node] = dist+fee\n",
    "                history[node] = history[now]+[fee]\n",
    "                heapq.heappush(queue, (node, fee))\n",
    "            # 이미 업데이트 되어 있다면?\n",
    "            else:\n",
    "                temp = history[now]+[fee]\n",
    "                temp2 = sorted(history[node], reverse=True)\n",
    "                temp.sort(reverse=True)\n",
    "                if sum(temp[k:]) < sum(temp2[k:]):\n",
    "                    history[node] = temp\n",
    "                    heapq.heappush(queue, (node, fee))"
   ]
  },
  {
   "cell_type": "code",
   "execution_count": 63,
   "id": "54f5c3bc-fb93-4e82-8b71-2e2fbc08201f",
   "metadata": {},
   "outputs": [
    {
     "name": "stdout",
     "output_type": "stream",
     "text": [
      "1\n"
     ]
    }
   ],
   "source": [
    "dijkstra(1)\n",
    "print(sum(history[-1][k:]))            "
   ]
  },
  {
   "cell_type": "code",
   "execution_count": 34,
   "id": "05ed0a5d-7b8e-43c2-8658-cab268b93365",
   "metadata": {},
   "outputs": [
    {
     "name": "stdout",
     "output_type": "stream",
     "text": [
      "10\n",
      "1\n"
     ]
    }
   ],
   "source": [
    "for node,fee in graph[1]:\n",
    "    print(distance[node])"
   ]
  },
  {
   "cell_type": "code",
   "execution_count": 59,
   "id": "5472a581-efe4-4a83-85ed-223d16d51e52",
   "metadata": {},
   "outputs": [
    {
     "data": {
      "text/plain": [
       "0"
      ]
     },
     "execution_count": 59,
     "metadata": {},
     "output_type": "execute_result"
    }
   ],
   "source": [
    "sum(history[-1][0:])"
   ]
  },
  {
   "cell_type": "code",
   "execution_count": 60,
   "id": "73e6184c-07df-4745-8795-5ed968971e2a",
   "metadata": {},
   "outputs": [
    {
     "data": {
      "text/plain": [
       "[[], [0], [], [], []]"
      ]
     },
     "execution_count": 60,
     "metadata": {},
     "output_type": "execute_result"
    }
   ],
   "source": [
    "history"
   ]
  },
  {
   "cell_type": "code",
   "execution_count": 2,
   "id": "fcaf324e-982f-4754-b5f3-e3c0f2cb9f09",
   "metadata": {},
   "outputs": [
    {
     "name": "stdin",
     "output_type": "stream",
     "text": [
      " 4 4 1\n",
      " 1 2 10\n",
      " 2 4 10\n",
      " 1 3 1\n",
      " 3 4 100\n"
     ]
    },
    {
     "name": "stdout",
     "output_type": "stream",
     "text": [
      "1\n"
     ]
    }
   ],
   "source": [
    "# import sys\n",
    "# input = sys.stdin.readline\n",
    "import heapq\n",
    "\n",
    "INF = int(1e9)\n",
    "\n",
    "n,m,k = map(int, input().split())\n",
    "graph = [[] for _ in range(n+1)]\n",
    "queue=[]\n",
    "for _ in range(m):\n",
    "    a,b,c = map(int, input().split())\n",
    "    graph[a].append((b,c))\n",
    "\n",
    "history = [[]  for _ in range(n+1)]\n",
    "history[1].append(0)\n",
    "distance = [INF for _ in range(n+1)]\n",
    "distance[1] = 0\n",
    "\n",
    "def dijkstra(start):\n",
    "    heapq.heappush(queue, (start, 0))\n",
    "    while queue:\n",
    "        # 처음에는 시작점:1, 거리:0이 나온다.\n",
    "        now, dist = heapq.heappop(queue)\n",
    "        # 이미 최단 경로로 업데이트 되어 있는 노드라면?\n",
    "        if distance[now] < dist:\n",
    "            continue\n",
    "        # 노드 탐색\n",
    "        for node,fee in graph[now]:\n",
    "            # 기존의 거리와 출발점(dist)와 도착지까지의 비용 중 최소로 설정\n",
    "            # distance[node] = min(distance[node], dist+fee)\n",
    "            # 업데이트를 해야 한다면? \n",
    "            if distance[node] > (dist+fee):\n",
    "                distance[node] = dist+fee\n",
    "                history[node] = history[now]+[fee]\n",
    "                heapq.heappush(queue, (node, fee))\n",
    "            # 이미 업데이트 되어 있다면?\n",
    "            else:\n",
    "                temp = history[now]+[fee]\n",
    "                temp2 = sorted(history[node], reverse=True)\n",
    "                temp.sort(reverse=True)\n",
    "                if sum(temp[k:]) < sum(temp2[k:]):\n",
    "                    history[node] = temp\n",
    "                    heapq.heappush(queue, (node, fee))\n",
    "dijkstra(1)\n",
    "print(sum(history[-1][k:]))   "
   ]
  },
  {
   "cell_type": "code",
   "execution_count": null,
   "id": "2be26de1-5379-4a3c-a0ae-5857e1475b39",
   "metadata": {},
   "outputs": [],
   "source": [
    " # 4 4 1\n",
    " # 1 2 10\n",
    " # 2 4 10\n",
    " # 1 3 1\n",
    " # 3 4 100"
   ]
  }
 ],
 "metadata": {
  "kernelspec": {
   "display_name": "Python 3",
   "language": "python",
   "name": "python3"
  },
  "language_info": {
   "codemirror_mode": {
    "name": "ipython",
    "version": 3
   },
   "file_extension": ".py",
   "mimetype": "text/x-python",
   "name": "python",
   "nbconvert_exporter": "python",
   "pygments_lexer": "ipython3",
   "version": "3.9.2"
  }
 },
 "nbformat": 4,
 "nbformat_minor": 5
}
