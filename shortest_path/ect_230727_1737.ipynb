{
 "cells": [
  {
   "cell_type": "code",
   "execution_count": 8,
   "id": "3ade50b2-2c5a-4166-bff8-44ddf45ce641",
   "metadata": {},
   "outputs": [
    {
     "name": "stdin",
     "output_type": "stream",
     "text": [
      " 5\n"
     ]
    }
   ],
   "source": [
    "n = int(input())"
   ]
  },
  {
   "cell_type": "code",
   "execution_count": 9,
   "id": "d71a1151-d810-4d33-84fa-6b6658638183",
   "metadata": {},
   "outputs": [
    {
     "name": "stdin",
     "output_type": "stream",
     "text": [
      " 14\n"
     ]
    }
   ],
   "source": [
    "m = int(input())\n",
    "graph = [[int(1e9)] *(n+1) for _ in range(n+1)]\n"
   ]
  },
  {
   "cell_type": "code",
   "execution_count": 10,
   "id": "bced264e-3608-4f47-87b3-46a1b6475b54",
   "metadata": {},
   "outputs": [],
   "source": [
    "for i in range(n+1):\n",
    "    for j in range(n+1):\n",
    "        if i==j:\n",
    "            graph[i][j] = 0"
   ]
  },
  {
   "cell_type": "code",
   "execution_count": 13,
   "id": "af2801b5-926e-45d6-b774-4db7a9abc778",
   "metadata": {},
   "outputs": [
    {
     "name": "stdin",
     "output_type": "stream",
     "text": [
      " 1 2 2\n",
      " 1 3 3\n",
      " 1 4 1\n",
      " 1 5 10\n",
      " 2 4 2\n",
      " 3 4 1\n",
      " 3 5 1\n",
      " 4 5 3\n",
      " 3 5 10\n",
      " 3 1 8\n",
      " 1 4 2\n",
      " 5 1 7\n",
      " 3 4 2\n",
      " 5 2 4\n"
     ]
    }
   ],
   "source": [
    "for _ in range(m):\n",
    "    a,b,c = map(int, input().split())\n",
    "    graph[a][b] = min(graph[a][b], c)"
   ]
  },
  {
   "cell_type": "code",
   "execution_count": 15,
   "id": "9a2e380f-35f8-4ee2-9b05-125c63543fc9",
   "metadata": {},
   "outputs": [],
   "source": [
    "# k를 거쳐 가는 것 비교\n",
    "for k in range(1, n+1):\n",
    "    for i in range(1, n+1):\n",
    "        for j in range(1,n+1):\n",
    "            graph[i][j] = min(graph[i][j], graph[i][k]+graph[k][j])"
   ]
  },
  {
   "cell_type": "code",
   "execution_count": 17,
   "id": "85d53bd4-9336-45c4-84a7-aaf5106b0be6",
   "metadata": {},
   "outputs": [
    {
     "name": "stdout",
     "output_type": "stream",
     "text": [
      "0 2 3 2 5 \n",
      "12 0 15 2 5 \n",
      "8 9 0 2 5 \n",
      "10 7 13 0 3 \n",
      "7 4 10 6 0 \n"
     ]
    }
   ],
   "source": [
    "for i in range(1,n+1):\n",
    "    for j in range(1, n+1):\n",
    "        print(graph[i][j], end =' ')\n",
    "    print()"
   ]
  },
  {
   "cell_type": "code",
   "execution_count": null,
   "id": "ae8b4c42-187e-43d4-8197-c0f98af8386d",
   "metadata": {},
   "outputs": [],
   "source": []
  }
 ],
 "metadata": {
  "kernelspec": {
   "display_name": "Python 3",
   "language": "python",
   "name": "python3"
  },
  "language_info": {
   "codemirror_mode": {
    "name": "ipython",
    "version": 3
   },
   "file_extension": ".py",
   "mimetype": "text/x-python",
   "name": "python",
   "nbconvert_exporter": "python",
   "pygments_lexer": "ipython3",
   "version": "3.9.2"
  }
 },
 "nbformat": 4,
 "nbformat_minor": 5
}
