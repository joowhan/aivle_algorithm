{
 "cells": [
  {
   "cell_type": "code",
   "execution_count": null,
   "id": "147b7734-c2c8-49ca-ac3c-4c52ad1d6902",
   "metadata": {},
   "outputs": [],
   "source": [
    "class Node:\n",
    "    def __init__(self, data, left, right):\n",
    "        self.data = data\n",
    "        self.left = left\n",
    "        self.right = right\n",
    "# A->B->C\n",
    "def pre_order(node):\n",
    "    print(node.data, end='')\n",
    "    if node.left != '.':\n",
    "        pre_order(tree[node.left])\n",
    "    if node.right != '.':\n",
    "        pre_order(tree[node.right])\n",
    "# B->A->C\n",
    "def in_order(node):\n",
    "    if node.left != '.':\n",
    "        in_order(tree[node.left])\n",
    "    print(node.data, end='')\n",
    "    if node.right != '.':\n",
    "        in_order(tree[node.right])\n",
    "\n",
    "def post_order(node):\n",
    "    if node.left != '.':\n",
    "        post_order(tree[node.left])\n",
    "    if node.right != '.':\n",
    "        post_order(tree[node.right])    \n",
    "    print(node.data, end='')\n",
    "\n",
    "n = int(input())\n",
    "tree = {}\n",
    "for i in range(n):\n",
    "    n, l, r = input().split()\n",
    "    tree[n] = Node(n, l, r)\n",
    "pre_order(tree['A'])\n",
    "print()\n",
    "in_order(tree['A'])\n",
    "print()\n",
    "post_order(tree['A'])"
   ]
  },
  {
   "cell_type": "code",
   "execution_count": null,
   "id": "a323891a-fbd0-48d0-a232-826e668b500e",
   "metadata": {},
   "outputs": [],
   "source": []
  }
 ],
 "metadata": {
  "kernelspec": {
   "display_name": "Python 3",
   "language": "python",
   "name": "python3"
  },
  "language_info": {
   "codemirror_mode": {
    "name": "ipython",
    "version": 3
   },
   "file_extension": ".py",
   "mimetype": "text/x-python",
   "name": "python",
   "nbconvert_exporter": "python",
   "pygments_lexer": "ipython3",
   "version": "3.9.2"
  }
 },
 "nbformat": 4,
 "nbformat_minor": 5
}
