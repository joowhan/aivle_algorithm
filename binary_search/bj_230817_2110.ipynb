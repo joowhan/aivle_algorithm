{
 "cells": [
  {
   "cell_type": "markdown",
   "id": "dcdff266-781c-4f66-a5c3-29e3922ae174",
   "metadata": {},
   "source": [
    "https://www.acmicpc.net/problem/2110"
   ]
  },
  {
   "cell_type": "code",
   "execution_count": 1,
   "id": "988dee95-8611-4a6e-8756-b7720c414403",
   "metadata": {},
   "outputs": [
    {
     "name": "stdin",
     "output_type": "stream",
     "text": [
      " 5 3\n"
     ]
    }
   ],
   "source": [
    "n,c = map(int, input().split())"
   ]
  },
  {
   "cell_type": "code",
   "execution_count": 2,
   "id": "3d6cc3cc-7e65-4967-86c8-3aaeaa00f4de",
   "metadata": {},
   "outputs": [
    {
     "name": "stdin",
     "output_type": "stream",
     "text": [
      " 1\n",
      " 2\n",
      " 8\n",
      " 4\n",
      " 9\n"
     ]
    }
   ],
   "source": [
    "homes =[]\n",
    "for _ in range(n):\n",
    "    homes.append(int(input()))"
   ]
  },
  {
   "cell_type": "code",
   "execution_count": 19,
   "id": "e1766f4f-7436-444e-98a0-f122502b4529",
   "metadata": {},
   "outputs": [
    {
     "name": "stdout",
     "output_type": "stream",
     "text": [
      "3\n"
     ]
    }
   ],
   "source": [
    "n,c = map(int, input().split())\n",
    "homes =[]\n",
    "\n",
    "for _ in range(n):\n",
    "    homes.append(int(input()))\n",
    "\n",
    "homes.sort()\n",
    "\n",
    "#가장 인접한 두 점의 최소값\n",
    "start = homes[1]- homes[0]\n",
    "# 가장 인접한 두 점의 최대값\n",
    "end = homes[-1]-homes[0]\n",
    "\n",
    "result=0\n",
    "count =0\n",
    "# 이진 탐색으로 거리를 조정하며 최대 길이 찾기\n",
    "while(start <=end):\n",
    "    mid = (start+end)//2\n",
    "    val = homes[0]\n",
    "    count =1\n",
    "    # 각 거리가 mid값 이상인지 -> 공유기 설치\n",
    "    for i in range(1, n):\n",
    "        if homes[i] >= (val+mid):\n",
    "            # 공유기 설치\n",
    "            val = homes[i]\n",
    "            count +=1\n",
    "    if count >=c:\n",
    "        start = mid +1\n",
    "        result = mid\n",
    "    else:\n",
    "        end = mid -1\n",
    "print(result)"
   ]
  },
  {
   "cell_type": "code",
   "execution_count": 18,
   "id": "050f9187-0213-4a6b-a94f-ca7e3a69d2e8",
   "metadata": {},
   "outputs": [
    {
     "data": {
      "text/plain": [
       "3"
      ]
     },
     "execution_count": 18,
     "metadata": {},
     "output_type": "execute_result"
    }
   ],
   "source": [
    "result"
   ]
  },
  {
   "cell_type": "code",
   "execution_count": null,
   "id": "d3f8bbcc-6ad3-483f-b0f5-29c4dff58e86",
   "metadata": {},
   "outputs": [],
   "source": []
  }
 ],
 "metadata": {
  "kernelspec": {
   "display_name": "Python 3 (ipykernel)",
   "language": "python",
   "name": "python3"
  },
  "language_info": {
   "codemirror_mode": {
    "name": "ipython",
    "version": 3
   },
   "file_extension": ".py",
   "mimetype": "text/x-python",
   "name": "python",
   "nbconvert_exporter": "python",
   "pygments_lexer": "ipython3",
   "version": "3.9.15"
  }
 },
 "nbformat": 4,
 "nbformat_minor": 5
}
