{
 "cells": [
  {
   "cell_type": "code",
   "execution_count": 21,
   "id": "08836600-fde9-4a18-a168-fc2e5e19d448",
   "metadata": {},
   "outputs": [
    {
     "name": "stdin",
     "output_type": "stream",
     "text": [
      " 5 20\n",
      " 4 42 40 26 46\n"
     ]
    }
   ],
   "source": [
    "n,m = map(int, input().split())\n",
    "trees = list(map(int, input().split()))"
   ]
  },
  {
   "cell_type": "code",
   "execution_count": 25,
   "id": "19bfa0e2-3879-4699-a480-568f065c5937",
   "metadata": {},
   "outputs": [
    {
     "name": "stdout",
     "output_type": "stream",
     "text": [
      "36\n"
     ]
    }
   ],
   "source": [
    "start = 1\n",
    "end = trees[-1]\n",
    "while start < end:\n",
    "    mid = (start+end)//2\n",
    "    # temp = sum([trees[i]-mid for i in range(n) if trees[i]>mid])\n",
    "    temp = 0\n",
    "    for i in range(n):\n",
    "        if trees[i]>=mid:\n",
    "            temp += (trees[i]-mid)\n",
    "    # 숫자의 움직임 기준 => 높이의 최댓값으로 움직여야 한다. \n",
    "    # 현재 값이 목표 값 보다 작다면 나무를 더 잘라야 한다. = 높이를 낮춰야 한다. \n",
    "    if temp == m:\n",
    "        print(mid)\n",
    "        break\n",
    "    if temp < m:\n",
    "        end = mid-1\n",
    "    # 높이를 올린다. 높이를 올릴 떄 기존의 높이보다 \n",
    "    else:\n",
    "        start = mid+1"
   ]
  },
  {
   "cell_type": "code",
   "execution_count": null,
   "id": "8c128743-3093-42f1-b48e-035c648dc048",
   "metadata": {},
   "outputs": [],
   "source": [
    "import sys\n",
    "input = sys.stdin.readline\n",
    "\n",
    "n,m = map(int, input().split())\n",
    "trees = list(map(int, input().split()))\n",
    "\n",
    "start = 1\n",
    "end = max(trees)\n",
    "\n",
    "while start <= end:\n",
    "    \n",
    "    mid = (start+end)//2\n",
    "    \n",
    "    temp=0\n",
    "    for i in range(n):\n",
    "        if trees[i]>=mid:\n",
    "            temp += (trees[i]-mid)\n",
    "    # 숫자의 움직임 기준 => 높이의 최댓값으로 움직여야 한다. \n",
    "    # 현재 값이 목표 값 보다 작다면 나무를 더 잘라야 한다. = 높이를 낮춰야 한다. \n",
    "    if temp < m:\n",
    "        end = mid-1\n",
    "    # 높이를 올린다. 높이를 올릴 떄 기존의 높이보다 \n",
    "    else:\n",
    "        start = mid+1\n",
    "print(end)"
   ]
  }
 ],
 "metadata": {
  "kernelspec": {
   "display_name": "Python 3",
   "language": "python",
   "name": "python3"
  },
  "language_info": {
   "codemirror_mode": {
    "name": "ipython",
    "version": 3
   },
   "file_extension": ".py",
   "mimetype": "text/x-python",
   "name": "python",
   "nbconvert_exporter": "python",
   "pygments_lexer": "ipython3",
   "version": "3.9.2"
  }
 },
 "nbformat": 4,
 "nbformat_minor": 5
}
