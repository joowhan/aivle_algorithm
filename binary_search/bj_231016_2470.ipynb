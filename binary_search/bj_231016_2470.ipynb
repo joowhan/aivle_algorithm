{
 "cells": [
  {
   "cell_type": "code",
   "execution_count": 9,
   "id": "80ce8696-06d3-41f2-924a-857bae950456",
   "metadata": {},
   "outputs": [
    {
     "name": "stdin",
     "output_type": "stream",
     "text": [
      " 5\n"
     ]
    }
   ],
   "source": [
    "n = int(input())"
   ]
  },
  {
   "cell_type": "code",
   "execution_count": 10,
   "id": "b5001ec9-d437-4ed5-bdd6-31a8eb98dd9b",
   "metadata": {},
   "outputs": [
    {
     "name": "stdin",
     "output_type": "stream",
     "text": [
      " -2 4 -99 -1 98\n"
     ]
    }
   ],
   "source": [
    "lis = list(map(int, input().split()))"
   ]
  },
  {
   "cell_type": "code",
   "execution_count": 12,
   "id": "85bda4e9-d94a-4f4a-b5c6-173d807f966e",
   "metadata": {},
   "outputs": [
    {
     "data": {
      "text/plain": [
       "[-2, 4, -99, -1, 98]"
      ]
     },
     "execution_count": 12,
     "metadata": {},
     "output_type": "execute_result"
    }
   ],
   "source": [
    "lis"
   ]
  },
  {
   "cell_type": "code",
   "execution_count": 16,
   "id": "99558578-0669-4ced-9f03-7dbf26cc93db",
   "metadata": {},
   "outputs": [
    {
     "name": "stdout",
     "output_type": "stream",
     "text": [
      "-99 98\n"
     ]
    }
   ],
   "source": [
    "lis.sort()\n",
    "start = 0\n",
    "end = n-1\n",
    "\n",
    "answer = [lis[start], lis[end]]\n",
    "solution = lis[start]+lis[end]\n",
    "while start < end:\n",
    "    temp = lis[start]+lis[end]\n",
    "    \n",
    "    if temp ==0:\n",
    "        answer  = [lis[start], lis[end]]\n",
    "        break\n",
    "    if abs(temp) < solution:\n",
    "        solution = abs(temp)\n",
    "        answer  = [lis[start], lis[end]]\n",
    "    \n",
    "    # start 와 end를 움직이는 기준은 값이다. 양수면 양수 값을 조정하고, 음수면 음수값을 조정해야 한다. \n",
    "    if temp >0:\n",
    "        end -=1\n",
    "    else:\n",
    "        start +=1\n",
    "\n",
    "print(*answer)"
   ]
  }
 ],
 "metadata": {
  "kernelspec": {
   "display_name": "Python 3",
   "language": "python",
   "name": "python3"
  },
  "language_info": {
   "codemirror_mode": {
    "name": "ipython",
    "version": 3
   },
   "file_extension": ".py",
   "mimetype": "text/x-python",
   "name": "python",
   "nbconvert_exporter": "python",
   "pygments_lexer": "ipython3",
   "version": "3.9.2"
  }
 },
 "nbformat": 4,
 "nbformat_minor": 5
}
