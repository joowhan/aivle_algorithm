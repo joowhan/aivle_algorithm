{
 "cells": [
  {
   "cell_type": "code",
   "execution_count": 32,
   "id": "27f97482-1a74-4ecc-ae26-82f29c4fa2a5",
   "metadata": {},
   "outputs": [],
   "source": [
    "def solution(words, queries):\n",
    "    answer = []\n",
    "    # '?'전까지 문자열 찾기\n",
    "    # len이 query와 같고, 동일한 위치에 동일한 문자열이 있는가?\n",
    "    for query in queries:\n",
    "        s, e = query.index('?'), query.rindex('?')\n",
    "        sub_q = query[:s]+query[e+1:]\n",
    "        count = 0\n",
    "        for word in words:\n",
    "            if len(query) != len(word):\n",
    "                continue\n",
    "            else:\n",
    "                if sub_q == '':\n",
    "                    count +=1\n",
    "                temp = word[:s]+word[e+1:]\n",
    "                if temp == sub_q:\n",
    "                    count +=1\n",
    "        answer.append(count)\n",
    "            \n",
    "    return answer"
   ]
  },
  {
   "cell_type": "code",
   "execution_count": null,
   "id": "8909ff38-df06-43e9-8ca3-58eaba4b3245",
   "metadata": {},
   "outputs": [],
   "source": []
  }
 ],
 "metadata": {
  "kernelspec": {
   "display_name": "Python 3",
   "language": "python",
   "name": "python3"
  },
  "language_info": {
   "codemirror_mode": {
    "name": "ipython",
    "version": 3
   },
   "file_extension": ".py",
   "mimetype": "text/x-python",
   "name": "python",
   "nbconvert_exporter": "python",
   "pygments_lexer": "ipython3",
   "version": "3.9.2"
  }
 },
 "nbformat": 4,
 "nbformat_minor": 5
}
