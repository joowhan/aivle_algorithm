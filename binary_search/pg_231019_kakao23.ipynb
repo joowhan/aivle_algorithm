{
 "cells": [
  {
   "cell_type": "code",
   "execution_count": null,
   "id": "9a794574-044c-4777-a2fd-e87046142e56",
   "metadata": {},
   "outputs": [],
   "source": [
    "import math\n",
    "def check_full_binary_tree(nodes):\n",
    "    if len(nodes) == 1 or '1' not in nodes or '0' not in nodes:\n",
    "        return 1\n",
    "    \n",
    "    m = len(nodes)//2\n",
    "    #sub tree의 root 노드가 0이면 자식 노드가 없어야 한다. 더미 노드이기 때문에.\n",
    "    left  = nodes[:m]\n",
    "    right = nodes[m+1:]\n",
    "    if nodes[m] == '0':\n",
    "        return 0\n",
    "    return check_full_binary_tree(left) and check_full_binary_tree(right)\n",
    "    # return 1\n",
    "\n",
    "def solution(numbers):\n",
    "    answer = []\n",
    "    # 숫자를 이진수로 바꾸기\n",
    "    for num in numbers:\n",
    "        binary = bin(num)[2:]\n",
    "        \n",
    "        # 포화 이진 트리의 노드 개수는 2^h-1개, 따라서 부족한 노드만큼 더미 노드를 붙여야 한다.\n",
    "        n = 2**int(math.log(len(binary),2)+1)-1\n",
    "        binary = '0'*(n-len(binary))+binary\n",
    "        # print(len(binary))\n",
    "        answer.append(check_full_binary_tree(binary))\n",
    "    return answer"
   ]
  }
 ],
 "metadata": {
  "kernelspec": {
   "display_name": "Python 3",
   "language": "python",
   "name": "python3"
  },
  "language_info": {
   "codemirror_mode": {
    "name": "ipython",
    "version": 3
   },
   "file_extension": ".py",
   "mimetype": "text/x-python",
   "name": "python",
   "nbconvert_exporter": "python",
   "pygments_lexer": "ipython3",
   "version": "3.9.2"
  }
 },
 "nbformat": 4,
 "nbformat_minor": 5
}
