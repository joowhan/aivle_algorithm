{
 "cells": [
  {
   "cell_type": "code",
   "execution_count": 1,
   "id": "a7229ef6-6b6a-471b-999c-bea2e8bcbd32",
   "metadata": {
    "tags": []
   },
   "outputs": [
    {
     "name": "stdin",
     "output_type": "stream",
     "text": [
      " 5\n",
      " 7\n",
      " 3 8\n",
      " 8 1 0\n",
      " 2 7 4 4\n",
      " 4 5 2 6 5\n"
     ]
    }
   ],
   "source": [
    "n = int(input())\n",
    "triangle = []\n",
    "for i in range(n):\n",
    "    triangle.append(list(map(int, input().split())))\n",
    "# 5\n",
    "# 7\n",
    "# 3 8\n",
    "# 8 1 0\n",
    "# 2 7 4 4\n",
    "# 4 5 2 6 5"
   ]
  },
  {
   "cell_type": "code",
   "execution_count": 6,
   "id": "53999f52-b19d-4ebd-9b3e-333ed285f7ba",
   "metadata": {
    "tags": []
   },
   "outputs": [],
   "source": [
    "def solution(triangle):\n",
    "    floor = len(triangle)-1\n",
    "    while floor>0:\n",
    "        for i in range(floor):\n",
    "            triangle[floor-1][i] += max(triangle[floor][i], triangle[floor][i+1])\n",
    "        floor-=1\n",
    "    return triangle[0][0]"
   ]
  },
  {
   "cell_type": "code",
   "execution_count": 7,
   "id": "36fb9590-978e-4df3-ac8c-f4861e14fdef",
   "metadata": {
    "tags": []
   },
   "outputs": [
    {
     "data": {
      "text/plain": [
       "30"
      ]
     },
     "execution_count": 7,
     "metadata": {},
     "output_type": "execute_result"
    }
   ],
   "source": [
    "solution(triangle)"
   ]
  },
  {
   "cell_type": "code",
   "execution_count": null,
   "id": "bfc038fc-28a7-4187-8259-92e164ad7c30",
   "metadata": {},
   "outputs": [],
   "source": []
  }
 ],
 "metadata": {
  "kernelspec": {
   "display_name": "Python 3 (ipykernel)",
   "language": "python",
   "name": "python3"
  },
  "language_info": {
   "codemirror_mode": {
    "name": "ipython",
    "version": 3
   },
   "file_extension": ".py",
   "mimetype": "text/x-python",
   "name": "python",
   "nbconvert_exporter": "python",
   "pygments_lexer": "ipython3",
   "version": "3.8.18"
  }
 },
 "nbformat": 4,
 "nbformat_minor": 5
}
