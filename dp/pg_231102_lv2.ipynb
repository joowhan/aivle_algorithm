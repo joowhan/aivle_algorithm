{
 "cells": [
  {
   "cell_type": "code",
   "execution_count": null,
   "id": "b456cd0c-8463-44be-a83a-7b69e52bde71",
   "metadata": {},
   "outputs": [],
   "source": [
    "def solution(land):\n",
    "    answer = 0\n",
    "\n",
    "    # [실행] 버튼을 누르면 출력 값을 볼 수 있습니다.\n",
    "    dp = [[0]*len(land[0]) for _ in range(len(land))]\n",
    "    \n",
    "    for i in range(len(dp[0])):\n",
    "        dp[0][i] = land[0][i]\n",
    "    for i in range(1, len(land)):\n",
    "        # 1,2,3,4\n",
    "        for j in range(len(dp[0])):\n",
    "            dp[i][j] = land[i][j] + max(dp[i-1][:j]+dp[i-1][j+1:]) \n",
    "    answer = max(dp[-1])\n",
    "\n",
    "    return answer"
   ]
  }
 ],
 "metadata": {
  "kernelspec": {
   "display_name": "Python 3",
   "language": "python",
   "name": "python3"
  },
  "language_info": {
   "codemirror_mode": {
    "name": "ipython",
    "version": 3
   },
   "file_extension": ".py",
   "mimetype": "text/x-python",
   "name": "python",
   "nbconvert_exporter": "python",
   "pygments_lexer": "ipython3",
   "version": "3.9.2"
  }
 },
 "nbformat": 4,
 "nbformat_minor": 5
}
