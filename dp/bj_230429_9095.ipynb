{
 "cells": [
  {
   "cell_type": "markdown",
   "id": "393a960c-f444-4bce-87f3-eee1aa520f1e",
   "metadata": {},
   "source": [
    "https://www.acmicpc.net/problem/9095"
   ]
  },
  {
   "cell_type": "markdown",
   "id": "33a44a3c-818a-4679-bd3c-74f99a0a0ea3",
   "metadata": {},
   "source": [
    "정수 4를 1, 2, 3의 합으로 나타내는 방법은 총 7가지가 있다. 합을 나타낼 때는 수를 1개 이상 사용해야 한다.\n",
    "\n",
    "1+1+1+1\\\n",
    "1+1+2\\\n",
    "1+2+1\\\n",
    "2+1+1\\\n",
    "2+2\\\n",
    "1+3\\\n",
    "3+1\\\n",
    "정수 n이 주어졌을 때, n을 1, 2, 3의 합으로 나타내는 방법의 수를 구하는 프로그램을 작성하시오."
   ]
  },
  {
   "cell_type": "code",
   "execution_count": 68,
   "id": "8b1b4f2c-b6fd-467c-b753-8b2f22afa99d",
   "metadata": {},
   "outputs": [
    {
     "name": "stdin",
     "output_type": "stream",
     "text": [
      " 3\n",
      " 4\n"
     ]
    },
    {
     "name": "stdout",
     "output_type": "stream",
     "text": [
      "7\n"
     ]
    },
    {
     "name": "stdin",
     "output_type": "stream",
     "text": [
      " 7\n"
     ]
    },
    {
     "name": "stdout",
     "output_type": "stream",
     "text": [
      "44\n"
     ]
    },
    {
     "name": "stdin",
     "output_type": "stream",
     "text": [
      " 10\n"
     ]
    },
    {
     "name": "stdout",
     "output_type": "stream",
     "text": [
      "274\n"
     ]
    }
   ],
   "source": [
    "t = int(input())\n",
    "for _ in range(t):\n",
    "    lis=[]\n",
    "    n = int(input())\n",
    "    lis=[0]*(n+1)\n",
    "    lis[1] = 1\n",
    "    lis[2] = 2\n",
    "    lis[3] = 4\n",
    "    if n<4:\n",
    "        print(lis[n])\n",
    "    else:\n",
    "        for i in range(4, n+1):\n",
    "            lis[i] += lis[i-1]+lis[i-2]+lis[i-3]\n",
    "        print(lis[n])\n",
    "# for num in result:\n",
    "#     print(num)"
   ]
  },
  {
   "cell_type": "code",
   "execution_count": 67,
   "id": "dcb5003f-084e-42e8-81a9-4a1bf54badc4",
   "metadata": {},
   "outputs": [
    {
     "name": "stdin",
     "output_type": "stream",
     "text": [
      " 3\n",
      " 4\n"
     ]
    },
    {
     "name": "stdout",
     "output_type": "stream",
     "text": [
      "7\n"
     ]
    },
    {
     "name": "stdin",
     "output_type": "stream",
     "text": [
      " 7\n"
     ]
    },
    {
     "name": "stdout",
     "output_type": "stream",
     "text": [
      "44\n"
     ]
    },
    {
     "name": "stdin",
     "output_type": "stream",
     "text": [
      " 10\n"
     ]
    },
    {
     "name": "stdout",
     "output_type": "stream",
     "text": [
      "274\n"
     ]
    }
   ],
   "source": [
    "T = int(input())\n",
    "\n",
    "for i in range(T) :\n",
    "    n = int(input())\n",
    "    dp = [0]*(n+1)\n",
    "    if n == 1 :\n",
    "        print(1)\n",
    "    elif n == 2 :\n",
    "        print(2)\n",
    "    elif n == 3 :\n",
    "        print(4)\n",
    "    else :\n",
    "        dp[1] = 1\n",
    "        dp[2] = 2\n",
    "        dp[3] = 4\n",
    "        for j in range(4,n+1) :\n",
    "            dp[j] = dp[j-1] + dp[j-2] + dp[j-3]\n",
    "        print(dp[n])"
   ]
  },
  {
   "cell_type": "code",
   "execution_count": null,
   "id": "b9bdde81-dec9-4369-afbd-b48e7078d0b2",
   "metadata": {},
   "outputs": [],
   "source": []
  }
 ],
 "metadata": {
  "kernelspec": {
   "display_name": "Python 3",
   "language": "python",
   "name": "python3"
  },
  "language_info": {
   "codemirror_mode": {
    "name": "ipython",
    "version": 3
   },
   "file_extension": ".py",
   "mimetype": "text/x-python",
   "name": "python",
   "nbconvert_exporter": "python",
   "pygments_lexer": "ipython3",
   "version": "3.9.2"
  }
 },
 "nbformat": 4,
 "nbformat_minor": 5
}
