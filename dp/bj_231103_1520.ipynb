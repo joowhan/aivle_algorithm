{
 "cells": [
  {
   "cell_type": "code",
   "execution_count": 5,
   "id": "5f77f593-054a-47ff-80d8-10153e231aa5",
   "metadata": {},
   "outputs": [
    {
     "name": "stdin",
     "output_type": "stream",
     "text": [
      " 4 5\n",
      " 50 45 37 32 30\n",
      " 35 50 40 20 25\n",
      " 30 30 25 17 28\n",
      " 27 24 22 15 10\n"
     ]
    }
   ],
   "source": [
    "# 이동은 상하좌우\n",
    "# 항상 높이가 더 낮은 지점으로만 이동\n",
    "# dfs로 목적지까지 도달하면 visited = 0으로 바꾸기\n",
    "m,n = map(int, input().split())\n",
    "graph = []\n",
    "for i in range(m):\n",
    "    graph.append(list(map(int, input().split())))"
   ]
  },
  {
   "cell_type": "code",
   "execution_count": 7,
   "id": "08dc0254-efd6-4dc4-98f1-fb61f7f3c17d",
   "metadata": {},
   "outputs": [
    {
     "name": "stdout",
     "output_type": "stream",
     "text": [
      "3\n"
     ]
    }
   ],
   "source": [
    "visited = [[0]*n for _ in range(m)]\n",
    "visited[0][0] = 1\n",
    "answer = 0\n",
    "\n",
    "# dx: 높이m, dy: 너비n\n",
    "dx = [-1,1,0,0]\n",
    "dy = [0,0,-1,1]\n",
    "\n",
    "def dfs(x,y, visited):\n",
    "    global answer\n",
    "    if x == m-1 and y ==n-1:\n",
    "        answer +=1\n",
    "    else:\n",
    "        for i in range(4):\n",
    "            nx = x+dx[i]\n",
    "            ny = y+dy[i]\n",
    "            if nx >=m or nx<0 or ny>=n or ny<0:\n",
    "                continue\n",
    "            if graph[nx][ny] < graph[x][y] and visited[nx][ny] == 0:\n",
    "                visited[nx][ny] = 1\n",
    "                dfs(nx,ny, visited)\n",
    "                visited[nx][ny] = 0\n",
    "dfs(0,0, visited)\n",
    "print(answer)"
   ]
  },
  {
   "cell_type": "code",
   "execution_count": 25,
   "id": "33fc94db-fab0-4963-9af5-a2a239ce03eb",
   "metadata": {},
   "outputs": [
    {
     "name": "stdout",
     "output_type": "stream",
     "text": [
      "3\n"
     ]
    }
   ],
   "source": [
    "dp = [[-1]*n for _ in range(m)]\n",
    "answer = 0\n",
    "dx = [-1,1,0,0]\n",
    "dy = [0,0,-1,1]\n",
    "\n",
    "def dfs(x,y):\n",
    "    if x == m-1 and y ==n-1:\n",
    "        return 1\n",
    "    if dp[x][y] != -1:\n",
    "        return dp[x][y]\n",
    "    dp[x][y] = 0\n",
    "    for i in range(4):\n",
    "        nx = x+dx[i]\n",
    "        ny = y+dy[i]    \n",
    "        if nx >=m or nx<0 or ny>=n or ny<0:\n",
    "            continue    \n",
    "        if graph[x][y] > graph[nx][ny]:\n",
    "            dp[x][y] += dfs(nx,ny)\n",
    "    return dp[x][y]\n",
    "print(dfs(0,0))"
   ]
  },
  {
   "cell_type": "code",
   "execution_count": 26,
   "id": "874b13bc-6fa7-458f-a5d0-7b7b12fc1d28",
   "metadata": {},
   "outputs": [
    {
     "data": {
      "text/plain": [
       "[[3, 2, 2, 2, 1], [1, -1, -1, 1, 1], [1, -1, -1, 1, -1], [1, 1, 1, 1, -1]]"
      ]
     },
     "execution_count": 26,
     "metadata": {},
     "output_type": "execute_result"
    }
   ],
   "source": [
    "dp"
   ]
  },
  {
   "cell_type": "code",
   "execution_count": 22,
   "id": "f05dc426-6ee6-4655-80a7-44da52cdeb64",
   "metadata": {},
   "outputs": [],
   "source": [
    "dp = [[-1]*n for _ in range(m)]\n",
    "dp = [[-1] * n for _ in range(m)]\n",
    "answer = 0\n",
    "dx = [-1,1,0,0]\n",
    "dy = [0,0,-1,1]\n",
    "\n",
    "def dfs(sx, sy):\n",
    "    # 도착 지점에 도달하면 1(한 가지 경우의 수)를 리턴\n",
    "    if sx == m-1 and sy == n-1:\n",
    "        return 1\n",
    "\n",
    "    # 이미 방문한 적이 있다면 그 위치에서 출발하는 경우의 수를 리턴\n",
    "    if dp[sx][sy] != -1:\n",
    "        return dp[sx][sy]\n",
    "    \n",
    "    ways = 0\n",
    "    for i in range(4):\n",
    "        nx, ny = sx + dx[i], sy + dy[i]\n",
    "        if 0 <= nx < m and 0 <= ny < n and graph[sx][sy] > graph[nx][ny]:\n",
    "            ways += dfs(nx, ny)\n",
    "    \n",
    "    dp[sx][sy] = ways\n",
    "    return dp[sx][sy]"
   ]
  },
  {
   "cell_type": "code",
   "execution_count": 23,
   "id": "698e52a9-2a16-4acf-a43b-1351b5b2f5e6",
   "metadata": {},
   "outputs": [
    {
     "data": {
      "text/plain": [
       "3"
      ]
     },
     "execution_count": 23,
     "metadata": {},
     "output_type": "execute_result"
    }
   ],
   "source": [
    "dfs(0,0)"
   ]
  },
  {
   "cell_type": "code",
   "execution_count": 24,
   "id": "5f8046c6-ed14-43e7-825a-2632bd4d13d9",
   "metadata": {},
   "outputs": [
    {
     "data": {
      "text/plain": [
       "[[3, 2, 2, 2, 1], [1, -1, -1, 1, 1], [1, -1, -1, 1, -1], [1, 1, 1, 1, -1]]"
      ]
     },
     "execution_count": 24,
     "metadata": {},
     "output_type": "execute_result"
    }
   ],
   "source": [
    "dp"
   ]
  },
  {
   "cell_type": "code",
   "execution_count": null,
   "id": "f673afbd-93c0-4436-a720-956bc40ddde0",
   "metadata": {},
   "outputs": [],
   "source": []
  }
 ],
 "metadata": {
  "kernelspec": {
   "display_name": "Python 3",
   "language": "python",
   "name": "python3"
  },
  "language_info": {
   "codemirror_mode": {
    "name": "ipython",
    "version": 3
   },
   "file_extension": ".py",
   "mimetype": "text/x-python",
   "name": "python",
   "nbconvert_exporter": "python",
   "pygments_lexer": "ipython3",
   "version": "3.9.2"
  }
 },
 "nbformat": 4,
 "nbformat_minor": 5
}
