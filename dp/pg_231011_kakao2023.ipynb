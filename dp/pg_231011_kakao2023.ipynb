{
 "cells": [
  {
   "cell_type": "code",
   "execution_count": null,
   "id": "6f892663-d5fa-4b06-8877-a039f174cc11",
   "metadata": {},
   "outputs": [],
   "source": [
    "def solution(cap, n, deliveries, pickups):\n",
    "    answer = 0\n",
    "    #뒤에 부터 탐색하기\n",
    "    deliveries = deliveries[::-1]\n",
    "    pickups = pickups[::-1]\n",
    "    \n",
    "    delivery = 0\n",
    "    pickup = 0\n",
    "    \n",
    "    for i in range(n):\n",
    "        delivery +=deliveries[i]\n",
    "        pickup += pickups[i]\n",
    "        while delivery >0 or pickup > 0:\n",
    "            delivery -= cap\n",
    "            pickup -= cap\n",
    "            answer += (n-i)*2\n",
    "    return answer"
   ]
  }
 ],
 "metadata": {
  "kernelspec": {
   "display_name": "Python 3",
   "language": "python",
   "name": "python3"
  },
  "language_info": {
   "codemirror_mode": {
    "name": "ipython",
    "version": 3
   },
   "file_extension": ".py",
   "mimetype": "text/x-python",
   "name": "python",
   "nbconvert_exporter": "python",
   "pygments_lexer": "ipython3",
   "version": "3.9.2"
  }
 },
 "nbformat": 4,
 "nbformat_minor": 5
}
