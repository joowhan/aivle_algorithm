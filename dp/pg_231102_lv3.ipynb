{
 "cells": [
  {
   "cell_type": "code",
   "execution_count": null,
   "id": "6167fed7-248a-4d76-8787-677cb731b91c",
   "metadata": {},
   "outputs": [],
   "source": [
    "def solution(m, n, puddles):\n",
    "    answer = 0\n",
    "    dp = [[0]*(m+1) for _ in range(n+1)]\n",
    "    dp[1][1] = 1\n",
    "    for puddle in puddles:\n",
    "        dp[puddle[1]][puddle[0]] = -1\n",
    "    for i in range(1,n+1):\n",
    "        for j in range(1,m+1):\n",
    "            if dp[i][j] == -1:\n",
    "                dp[i][j] = 0\n",
    "                continue\n",
    "            dp[i][j] += dp[i-1][j]+dp[i][j-1]\n",
    "    answer = dp[n][m]%1000000007\n",
    "    return answer"
   ]
  }
 ],
 "metadata": {
  "kernelspec": {
   "display_name": "Python 3",
   "language": "python",
   "name": "python3"
  },
  "language_info": {
   "codemirror_mode": {
    "name": "ipython",
    "version": 3
   },
   "file_extension": ".py",
   "mimetype": "text/x-python",
   "name": "python",
   "nbconvert_exporter": "python",
   "pygments_lexer": "ipython3",
   "version": "3.9.2"
  }
 },
 "nbformat": 4,
 "nbformat_minor": 5
}
