{
 "cells": [
  {
   "cell_type": "code",
   "execution_count": 1,
   "id": "8595ff2c-1db3-4f2e-b51c-5aac6b6cfbb7",
   "metadata": {},
   "outputs": [
    {
     "name": "stdin",
     "output_type": "stream",
     "text": [
      " 100 50\n"
     ]
    },
    {
     "name": "stdout",
     "output_type": "stream",
     "text": [
      "48\n"
     ]
    }
   ],
   "source": [
    "n,m = map(int, input().split())\n",
    "answer = 0\n",
    "if n ==1:\n",
    "    answer = 1\n",
    "elif n ==2:\n",
    "    if m<=6:\n",
    "        answer = (m+1)//2\n",
    "    else:\n",
    "        answer = 4\n",
    "elif n>=3:\n",
    "    if m<=6:\n",
    "        answer = min(4, m)\n",
    "    else:\n",
    "        answer = m-2"
   ]
  },
  {
   "cell_type": "code",
   "execution_count": null,
   "id": "9a16be0e-1238-4d33-b743-b120c6aa08bf",
   "metadata": {},
   "outputs": [],
   "source": []
  }
 ],
 "metadata": {
  "kernelspec": {
   "display_name": "Python 3",
   "language": "python",
   "name": "python3"
  },
  "language_info": {
   "codemirror_mode": {
    "name": "ipython",
    "version": 3
   },
   "file_extension": ".py",
   "mimetype": "text/x-python",
   "name": "python",
   "nbconvert_exporter": "python",
   "pygments_lexer": "ipython3",
   "version": "3.9.2"
  }
 },
 "nbformat": 4,
 "nbformat_minor": 5
}
