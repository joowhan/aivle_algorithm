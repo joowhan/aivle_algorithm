{
 "cells": [
  {
   "cell_type": "code",
   "execution_count": 1,
   "id": "7c323525-e4ef-4c8f-a100-89f0d09335c7",
   "metadata": {},
   "outputs": [
    {
     "name": "stdin",
     "output_type": "stream",
     "text": [
      " 3 5 10\n"
     ]
    }
   ],
   "source": [
    "#최대 길이가 정해져 있다 = max 값이 정해져 있다. \n",
    "n,s,m = map(int, input().split())"
   ]
  },
  {
   "cell_type": "code",
   "execution_count": 11,
   "id": "c406fd10-84a1-42c1-a351-93b6cc144f02",
   "metadata": {},
   "outputs": [
    {
     "name": "stdin",
     "output_type": "stream",
     "text": [
      " 3 5 7\n"
     ]
    }
   ],
   "source": [
    "gt=list(map(int, input().split()))"
   ]
  },
  {
   "cell_type": "code",
   "execution_count": 18,
   "id": "68483ac6-6f7e-4530-bff2-aef40e57be86",
   "metadata": {},
   "outputs": [],
   "source": [
    "dp = [False for _ in range(m+1)]\n",
    "dp[s] = True\n",
    "\n",
    "for i in range(n):\n",
    "    for j in range(m+1):\n",
    "        if dp[j] == True:\n",
    "            #더했을 때 범위를 벗어나지 않는다면\n",
    "            if j+gt[i] <=m:\n",
    "                dp[j+gt[i]] = True\n",
    "            if j-gt[i] >=0:\n",
    "                dp[j-gt[i]] = True\n",
    "            if j != m:\n",
    "                dp[j] = False\n",
    "            "
   ]
  },
  {
   "cell_type": "code",
   "execution_count": 22,
   "id": "aa7e2791-b844-4d97-92ca-4d0d187ab883",
   "metadata": {},
   "outputs": [
    {
     "name": "stdout",
     "output_type": "stream",
     "text": [
      "10\n"
     ]
    }
   ],
   "source": [
    "for i in range(len(dp)-1,-1,-1):\n",
    "    if dp[i] ==True:\n",
    "        print(i)\n",
    "        break"
   ]
  },
  {
   "cell_type": "code",
   "execution_count": null,
   "id": "c2f9e051-7876-40a1-9963-4ba85cef9ccd",
   "metadata": {},
   "outputs": [],
   "source": [
    "n,s,m = map(int, input().split())\n",
    "v = list(map(int, input().split()))\n",
    "dp = [[0]*(m+1) for _ in range(n+1)]\n",
    "dp[0][s] = 1\n",
    "for i in range(1,n+1):\n",
    "    for j in range(m+1):\n",
    "        if dp[i-1][j] == 0:\n",
    "            continue\n",
    "        if j-v[i-1] >=0:\n",
    "            dp[i][j-v[i-1]] = 1 \n",
    "        if j+v[i-1] <=m:\n",
    "            dp[i][j+v[i-1]] = 1 \n",
    "result = -1\n",
    "for i in range(m,-1,-1):\n",
    "    if dp[-1][i] == 1:\n",
    "        result = i\n",
    "        break\n",
    "print(result)"
   ]
  }
 ],
 "metadata": {
  "kernelspec": {
   "display_name": "Python 3",
   "language": "python",
   "name": "python3"
  },
  "language_info": {
   "codemirror_mode": {
    "name": "ipython",
    "version": 3
   },
   "file_extension": ".py",
   "mimetype": "text/x-python",
   "name": "python",
   "nbconvert_exporter": "python",
   "pygments_lexer": "ipython3",
   "version": "3.9.2"
  }
 },
 "nbformat": 4,
 "nbformat_minor": 5
}
