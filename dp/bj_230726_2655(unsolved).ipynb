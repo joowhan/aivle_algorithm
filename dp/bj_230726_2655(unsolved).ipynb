{
 "cells": [
  {
   "cell_type": "code",
   "execution_count": 1,
   "id": "29c3efb7-b704-4fc6-98eb-63bdaf773e95",
   "metadata": {},
   "outputs": [
    {
     "name": "stdin",
     "output_type": "stream",
     "text": [
      " 5\n"
     ]
    }
   ],
   "source": [
    "n = int(input())"
   ]
  },
  {
   "cell_type": "code",
   "execution_count": 3,
   "id": "9b9df2ca-0190-4f94-90cb-749d462ecc99",
   "metadata": {},
   "outputs": [
    {
     "name": "stdin",
     "output_type": "stream",
     "text": [
      " 25 3 4\n",
      " 4 4 6\n",
      " 9 2 3\n",
      " 16 2 5\n",
      " 1 5 2\n"
     ]
    }
   ],
   "source": [
    "brick=[0]\n",
    "for i in range(n):\n",
    "    area, height, weight = map(int, input().split())\n",
    "    brick.append((area,weight, height))"
   ]
  },
  {
   "cell_type": "code",
   "execution_count": 4,
   "id": "0b4b77d7-4c91-422e-bb5e-d79866a8fcb3",
   "metadata": {},
   "outputs": [
    {
     "data": {
      "text/plain": [
       "[0, (25, 4, 3), (4, 6, 4), (9, 3, 2), (16, 5, 2), (1, 2, 5)]"
      ]
     },
     "execution_count": 4,
     "metadata": {},
     "output_type": "execute_result"
    }
   ],
   "source": [
    "brick"
   ]
  },
  {
   "cell_type": "code",
   "execution_count": 5,
   "id": "b3316567-3f45-4c10-8413-c0cdc675abcc",
   "metadata": {},
   "outputs": [
    {
     "data": {
      "text/plain": [
       "(25, 4, 3)"
      ]
     },
     "execution_count": 5,
     "metadata": {},
     "output_type": "execute_result"
    }
   ],
   "source": [
    "brick[1]"
   ]
  },
  {
   "cell_type": "code",
   "execution_count": null,
   "id": "4733fc3b-89fe-499e-93aa-4cde0b41c723",
   "metadata": {},
   "outputs": [],
   "source": []
  }
 ],
 "metadata": {
  "kernelspec": {
   "display_name": "Python 3",
   "language": "python",
   "name": "python3"
  },
  "language_info": {
   "codemirror_mode": {
    "name": "ipython",
    "version": 3
   },
   "file_extension": ".py",
   "mimetype": "text/x-python",
   "name": "python",
   "nbconvert_exporter": "python",
   "pygments_lexer": "ipython3",
   "version": "3.9.2"
  }
 },
 "nbformat": 4,
 "nbformat_minor": 5
}
