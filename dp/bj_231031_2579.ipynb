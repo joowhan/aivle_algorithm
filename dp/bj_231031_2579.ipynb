{
 "cells": [
  {
   "cell_type": "code",
   "execution_count": 20,
   "id": "a0591ffd-f93a-4645-9d5a-f56f29a511f6",
   "metadata": {},
   "outputs": [
    {
     "name": "stdin",
     "output_type": "stream",
     "text": [
      " 3\n",
      " 50\n",
      " 50\n",
      " 10\n"
     ]
    }
   ],
   "source": [
    "n = int(input())\n",
    "stairs = []\n",
    "dp=[0 for _ in range(n)]\n",
    "for i in range(n):\n",
    "    stairs.append(int(input()))\n",
    "dp[0] = stairs[0]\n",
    "dp[1] = stairs[0]+stairs[1]\n",
    "dp[2] = max(stairs[0]+stairs[2], stairs[1]+stairs[2])"
   ]
  },
  {
   "cell_type": "code",
   "execution_count": 21,
   "id": "8e693133-b024-41d6-857d-d05d8acb1906",
   "metadata": {},
   "outputs": [],
   "source": [
    "for i in range(3,n):\n",
    "    dp[i] = max(dp[i-3]+stairs[i-1]+stairs[i], stairs[i]+dp[i-2])\n",
    "    \n",
    "    "
   ]
  },
  {
   "cell_type": "code",
   "execution_count": 22,
   "id": "f6ad586b-433e-4c48-8b17-856d4ed95667",
   "metadata": {},
   "outputs": [
    {
     "data": {
      "text/plain": [
       "60"
      ]
     },
     "execution_count": 22,
     "metadata": {},
     "output_type": "execute_result"
    }
   ],
   "source": [
    "dp[-1]"
   ]
  },
  {
   "cell_type": "code",
   "execution_count": 19,
   "id": "2208ace1-d88c-42b7-94f5-89127230599b",
   "metadata": {},
   "outputs": [
    {
     "data": {
      "text/plain": [
       "[10, 30, 35, 55, 65, 75]"
      ]
     },
     "execution_count": 19,
     "metadata": {},
     "output_type": "execute_result"
    }
   ],
   "source": [
    "dp"
   ]
  },
  {
   "cell_type": "code",
   "execution_count": null,
   "id": "73bd49d8-e923-482c-a2fb-6b0a48655a05",
   "metadata": {},
   "outputs": [],
   "source": [
    "N = int(input())\n",
    "stair = [0]*301\n",
    "for i in range(N):\n",
    "    stair[i]=int(input())\n",
    "\n",
    "DP = [0]*301\n",
    "DP[0] = stair[0]\n",
    "DP[1] = stair[0]+stair[1]\n",
    "DP[2] = max(stair[0]+stair[2], stair[1]+stair[2])\n",
    "\n",
    "for i in range(3, N):\n",
    "    DP[i] = max(DP[i-3] + stair[i-1] + stair[i], DP[i-2]+stair[i])\n",
    "\n",
    "print(DP[N-1])"
   ]
  }
 ],
 "metadata": {
  "kernelspec": {
   "display_name": "Python 3",
   "language": "python",
   "name": "python3"
  },
  "language_info": {
   "codemirror_mode": {
    "name": "ipython",
    "version": 3
   },
   "file_extension": ".py",
   "mimetype": "text/x-python",
   "name": "python",
   "nbconvert_exporter": "python",
   "pygments_lexer": "ipython3",
   "version": "3.9.2"
  }
 },
 "nbformat": 4,
 "nbformat_minor": 5
}
