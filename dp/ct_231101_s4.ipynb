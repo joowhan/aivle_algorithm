{
 "cells": [
  {
   "cell_type": "code",
   "execution_count": null,
   "id": "c2585ffc-8429-4cd2-a76a-8ff32aa8c356",
   "metadata": {},
   "outputs": [],
   "source": [
    "n = int(input())\n",
    "lis = []\n",
    "for i in range(n):\n",
    "    lis.append(int(input()))\n",
    "temp = lis.copy()\n",
    "temp.sort()\n",
    "cnt = 0\n",
    "for i in range(n):\n",
    "    if temp[i] != lis[i]:\n",
    "        cnt +=1\n",
    "print(cnt-1)"
   ]
  }
 ],
 "metadata": {
  "kernelspec": {
   "display_name": "Python 3",
   "language": "python",
   "name": "python3"
  },
  "language_info": {
   "codemirror_mode": {
    "name": "ipython",
    "version": 3
   },
   "file_extension": ".py",
   "mimetype": "text/x-python",
   "name": "python",
   "nbconvert_exporter": "python",
   "pygments_lexer": "ipython3",
   "version": "3.9.2"
  }
 },
 "nbformat": 4,
 "nbformat_minor": 5
}
