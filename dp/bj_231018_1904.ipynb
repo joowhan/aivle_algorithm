{
 "cells": [
  {
   "cell_type": "code",
   "execution_count": 1,
   "id": "b109ca29-e531-401b-ada0-a4f45c2bebe0",
   "metadata": {},
   "outputs": [
    {
     "name": "stdin",
     "output_type": "stream",
     "text": [
      " 4\n"
     ]
    }
   ],
   "source": [
    "n = int(input())"
   ]
  },
  {
   "cell_type": "code",
   "execution_count": 3,
   "id": "721009a2-8f13-4df9-97b4-690519ab912b",
   "metadata": {},
   "outputs": [
    {
     "name": "stdout",
     "output_type": "stream",
     "text": [
      "5\n"
     ]
    }
   ],
   "source": [
    "dp = [0]*1000001\n",
    "dp[1] = 1\n",
    "dp[2] = 2\n",
    "for i in range(3, n+1):\n",
    "    dp[i] = (dp[i-1] + dp[i-2])%15746\n",
    "print(dp[i])"
   ]
  },
  {
   "cell_type": "code",
   "execution_count": null,
   "id": "5cf44ecc-bcaf-440b-8c85-65b405be43cb",
   "metadata": {},
   "outputs": [],
   "source": [
    "n = int(input())\n",
    "dp = [0]*1000001\n",
    "dp[0] = 1\n",
    "dp[1] = 2\n",
    "if n>2:\n",
    "    for i in range(2, n):\n",
    "        dp[i] = (dp[i-1]+dp[i-2])%15746\n",
    "print(dp[n-1])"
   ]
  }
 ],
 "metadata": {
  "kernelspec": {
   "display_name": "Python 3",
   "language": "python",
   "name": "python3"
  },
  "language_info": {
   "codemirror_mode": {
    "name": "ipython",
    "version": 3
   },
   "file_extension": ".py",
   "mimetype": "text/x-python",
   "name": "python",
   "nbconvert_exporter": "python",
   "pygments_lexer": "ipython3",
   "version": "3.9.2"
  }
 },
 "nbformat": 4,
 "nbformat_minor": 5
}
