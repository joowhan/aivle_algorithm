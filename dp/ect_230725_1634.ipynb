{
 "cells": [
  {
   "cell_type": "code",
   "execution_count": 1,
   "id": "3d001f13-3bbe-46b9-ab73-34de0260301e",
   "metadata": {},
   "outputs": [
    {
     "name": "stdin",
     "output_type": "stream",
     "text": [
      " 7\n"
     ]
    }
   ],
   "source": [
    "n = int(input())"
   ]
  },
  {
   "cell_type": "code",
   "execution_count": 16,
   "id": "4a225ada-50db-4ab3-83f1-7ad0005b4eac",
   "metadata": {},
   "outputs": [
    {
     "name": "stdin",
     "output_type": "stream",
     "text": [
      " 15 11 4 8 5 2 4\n"
     ]
    }
   ],
   "source": [
    "soldier = list(map(int, input().split()))"
   ]
  },
  {
   "cell_type": "code",
   "execution_count": 17,
   "id": "0eca67c3-2936-4a2a-8f70-2a30c17fccf0",
   "metadata": {},
   "outputs": [],
   "source": [
    "#i번째에서 감소하는 최장 수열\n",
    "lis = [1 for _ in range(n)]"
   ]
  },
  {
   "cell_type": "code",
   "execution_count": 18,
   "id": "fb271a43-8a97-4742-ae6c-ab057db8f19c",
   "metadata": {},
   "outputs": [],
   "source": [
    "for i in range(n):\n",
    "    for j in range(i):\n",
    "        #최대 길이가 i이고 현재 j번째 숫자가 i번째 숫자보다 크다면\n",
    "        if soldier[j]> soldier[i]:\n",
    "            #i번째에서 최대 길이 = j까지 추가했을 때의 길이와 기존의 길이 중 최대로 갱신\n",
    "            lis[i] = max(lis[j]+1, lis[i])"
   ]
  },
  {
   "cell_type": "code",
   "execution_count": 24,
   "id": "40b6157c-dc9a-41e3-a7ca-c0d65762b7ff",
   "metadata": {},
   "outputs": [
    {
     "name": "stdout",
     "output_type": "stream",
     "text": [
      "2\n"
     ]
    }
   ],
   "source": [
    "print(len(soldier) - max(lis))"
   ]
  },
  {
   "cell_type": "code",
   "execution_count": null,
   "id": "8ed16fc7-f1d3-4266-9e5b-9fe8fee95fd5",
   "metadata": {},
   "outputs": [],
   "source": []
  }
 ],
 "metadata": {
  "kernelspec": {
   "display_name": "Python 3",
   "language": "python",
   "name": "python3"
  },
  "language_info": {
   "codemirror_mode": {
    "name": "ipython",
    "version": 3
   },
   "file_extension": ".py",
   "mimetype": "text/x-python",
   "name": "python",
   "nbconvert_exporter": "python",
   "pygments_lexer": "ipython3",
   "version": "3.9.2"
  }
 },
 "nbformat": 4,
 "nbformat_minor": 5
}
