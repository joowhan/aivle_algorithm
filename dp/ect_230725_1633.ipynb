{
 "cells": [
  {
   "cell_type": "code",
   "execution_count": 58,
   "id": "40f4504e-20e7-4e03-a502-e52c6385df23",
   "metadata": {},
   "outputs": [
    {
     "name": "stdin",
     "output_type": "stream",
     "text": [
      " 10\n"
     ]
    }
   ],
   "source": [
    "n = int(input())"
   ]
  },
  {
   "cell_type": "code",
   "execution_count": 59,
   "id": "2dae77db-7329-4b0b-9bdb-4a07bd7b6623",
   "metadata": {},
   "outputs": [
    {
     "name": "stdin",
     "output_type": "stream",
     "text": [
      " 1 1\n",
      " 1 2\n",
      " 1 3\n",
      " 1 4\n",
      " 1 5\n",
      " 1 6\n",
      " 1 7\n",
      " 1 8\n",
      " 1 9\n",
      " 1 10\n"
     ]
    }
   ],
   "source": [
    "work=[(0,0)]\n",
    "for _ in range(n):\n",
    "    t,p = map(int, input().split())\n",
    "    work.append((t,p))\n",
    "    "
   ]
  },
  {
   "cell_type": "code",
   "execution_count": 82,
   "id": "10ac847e-e500-4d09-aaae-9084b3058f16",
   "metadata": {},
   "outputs": [],
   "source": [
    "dp=[0 for _ in range(n+1)]\n",
    "# dp[1] = work[1][1]"
   ]
  },
  {
   "cell_type": "code",
   "execution_count": 78,
   "id": "89c5fd94-5090-40b5-8266-e27e882db2f2",
   "metadata": {},
   "outputs": [
    {
     "name": "stdout",
     "output_type": "stream",
     "text": [
      "55\n"
     ]
    }
   ],
   "source": [
    "for i in range(1, n+1):\n",
    "    t,p = work[i]\n",
    "    if i+t >n:\n",
    "        if t==1:\n",
    "            dp[-1]+=p\n",
    "        break\n",
    "    # print(i, dp[i+t], dp[i]+work[i][1])\n",
    "    dp[i+t] = max(dp[i+t], dp[i]+work[i][1])\n",
    "    # print(dp)\n",
    "print(dp[-1])"
   ]
  },
  {
   "cell_type": "code",
   "execution_count": 83,
   "id": "99a562a0-c46c-476b-8cb1-e63bf0ca6467",
   "metadata": {},
   "outputs": [
    {
     "data": {
      "text/plain": [
       "[0, 0, 0, 0, 0, 0, 0, 0, 0, 0, 0]"
      ]
     },
     "execution_count": 83,
     "metadata": {},
     "output_type": "execute_result"
    }
   ],
   "source": [
    "dp"
   ]
  },
  {
   "cell_type": "code",
   "execution_count": 84,
   "id": "ad95b514-1503-4829-bb79-05663e1817e1",
   "metadata": {},
   "outputs": [
    {
     "name": "stdout",
     "output_type": "stream",
     "text": [
      "45\n"
     ]
    }
   ],
   "source": [
    "res=0\n",
    "for i in range(n-1,-1,-1):\n",
    "    t,p = work[i]\n",
    "    temp = t + i\n",
    "    if temp <=n:\n",
    "        dp[i] = max(p+dp[temp], res)\n",
    "        res = dp[i]\n",
    "    else:\n",
    "        dp[i] = res\n",
    "print(res)"
   ]
  },
  {
   "cell_type": "code",
   "execution_count": null,
   "id": "9708eac1-76a0-41f1-a25e-71289fbe12bc",
   "metadata": {},
   "outputs": [],
   "source": []
  }
 ],
 "metadata": {
  "kernelspec": {
   "display_name": "Python 3",
   "language": "python",
   "name": "python3"
  },
  "language_info": {
   "codemirror_mode": {
    "name": "ipython",
    "version": 3
   },
   "file_extension": ".py",
   "mimetype": "text/x-python",
   "name": "python",
   "nbconvert_exporter": "python",
   "pygments_lexer": "ipython3",
   "version": "3.9.2"
  }
 },
 "nbformat": 4,
 "nbformat_minor": 5
}
