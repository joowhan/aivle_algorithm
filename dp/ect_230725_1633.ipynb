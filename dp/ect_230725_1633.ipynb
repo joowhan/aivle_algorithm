{
 "cells": [
  {
   "cell_type": "code",
   "execution_count": 1,
   "id": "40f4504e-20e7-4e03-a502-e52c6385df23",
   "metadata": {},
   "outputs": [
    {
     "name": "stdin",
     "output_type": "stream",
     "text": [
      " 7\n"
     ]
    }
   ],
   "source": [
    "n = int(input())"
   ]
  },
  {
   "cell_type": "code",
   "execution_count": 13,
   "id": "2dae77db-7329-4b0b-9bdb-4a07bd7b6623",
   "metadata": {},
   "outputs": [
    {
     "name": "stdin",
     "output_type": "stream",
     "text": [
      " 3 10\n",
      " 5 20\n",
      " 1 10\n",
      " 1 20\n",
      " 2 15\n",
      " 4 40\n",
      " 2 200\n"
     ]
    }
   ],
   "source": [
    "work=[]\n",
    "for _ in range(n):\n",
    "    t,p = map(int, input().split())\n",
    "    work.append((t,p))\n"
   ]
  },
  {
   "cell_type": "code",
   "execution_count": 16,
   "id": "10ac847e-e500-4d09-aaae-9084b3058f16",
   "metadata": {},
   "outputs": [],
   "source": [
    "dp=[]\n"
   ]
  },
  {
   "cell_type": "code",
   "execution_count": 5,
   "id": "89c5fd94-5090-40b5-8266-e27e882db2f2",
   "metadata": {},
   "outputs": [
    {
     "ename": "TypeError",
     "evalue": "'map' object is not subscriptable",
     "output_type": "error",
     "traceback": [
      "\u001b[0;31m---------------------------------------------------------------------------\u001b[0m",
      "\u001b[0;31mTypeError\u001b[0m                                 Traceback (most recent call last)",
      "\u001b[0;32m<ipython-input-5-b96c2a035d23>\u001b[0m in \u001b[0;36m<module>\u001b[0;34m\u001b[0m\n\u001b[0;32m----> 1\u001b[0;31m \u001b[0mdp\u001b[0m\u001b[0;34m[\u001b[0m\u001b[0;36m1\u001b[0m\u001b[0;34m]\u001b[0m\u001b[0;34m\u001b[0m\u001b[0;34m\u001b[0m\u001b[0m\n\u001b[0m",
      "\u001b[0;31mTypeError\u001b[0m: 'map' object is not subscriptable"
     ]
    }
   ],
   "source": []
  },
  {
   "cell_type": "code",
   "execution_count": null,
   "id": "99a562a0-c46c-476b-8cb1-e63bf0ca6467",
   "metadata": {},
   "outputs": [],
   "source": []
  }
 ],
 "metadata": {
  "kernelspec": {
   "display_name": "Python 3",
   "language": "python",
   "name": "python3"
  },
  "language_info": {
   "codemirror_mode": {
    "name": "ipython",
    "version": 3
   },
   "file_extension": ".py",
   "mimetype": "text/x-python",
   "name": "python",
   "nbconvert_exporter": "python",
   "pygments_lexer": "ipython3",
   "version": "3.9.2"
  }
 },
 "nbformat": 4,
 "nbformat_minor": 5
}
