{
 "cells": [
  {
   "cell_type": "code",
   "execution_count": null,
   "id": "5a47847c-b20a-4f59-a762-db910aa048dd",
   "metadata": {},
   "outputs": [],
   "source": [
    "def date_calculate(today, date, added):\n",
    "    year, month, day  = int(date[0:4]), int(date[5:7]), int(date[8:])\n",
    "    # 년도에 month만큼 더하기\n",
    "    # 일이 1보다 작아지면 month를 1 빼기 -> month가 1보다 작아지면 year를 1로 빼고 month를 12로\n",
    "    # 12를 넘으면 1로 바꾸고 year를 +=1\n",
    "    # 현재 날짜를 년도, month, day 순으로 비교\n",
    "    tyear, tmonth,tday = int(today[0:4]), int(today[5:7]), int(today[8:])\n",
    "    y = (tyear-year)*(28*12)\n",
    "    m = (tmonth-month)*28\n",
    "    d = tday-day\n",
    "    if added*28 <= (y+m+d):\n",
    "        return True\n",
    "    else:\n",
    "        return False\n",
    "def solution(today, terms, privacies):\n",
    "    answer = []\n",
    "    # 개인정보 n개 -> 유효기간이 정해져 있다. \n",
    "    # 개인정보가 어떤 약관으로 수집되었는지 알고 있음 -> 유효기간 전까지 보관 가능, 지나면 파기\n",
    "    # 파기해야 할 정보를 오름차ㄴ순으로 배열에 담아 return\n",
    "    # 모든 달은 28일까지 있다고 가정\n",
    "    # 6달이면 6달까지 보관 가능하고 그 다음날에 파기\n",
    "    table = {}\n",
    "    for term in terms:\n",
    "        table[term[0]] = int(term[1:])\n",
    "    for i, privacy in enumerate(privacies):\n",
    "        if date_calculate(today, privacy[:-2] , table[privacy[-1]]):\n",
    "            answer.append(i+1)\n",
    "    answer.sort()\n",
    "    return answer"
   ]
  }
 ],
 "metadata": {
  "kernelspec": {
   "display_name": "Python 3",
   "language": "python",
   "name": "python3"
  },
  "language_info": {
   "codemirror_mode": {
    "name": "ipython",
    "version": 3
   },
   "file_extension": ".py",
   "mimetype": "text/x-python",
   "name": "python",
   "nbconvert_exporter": "python",
   "pygments_lexer": "ipython3",
   "version": "3.9.2"
  }
 },
 "nbformat": 4,
 "nbformat_minor": 5
}
