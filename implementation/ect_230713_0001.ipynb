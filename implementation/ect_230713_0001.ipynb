{
 "cells": [
  {
   "cell_type": "code",
   "execution_count": 5,
   "id": "44368c5d-319b-4a86-a34f-f48af594db53",
   "metadata": {},
   "outputs": [
    {
     "data": {
      "text/plain": [
       "3"
      ]
     },
     "execution_count": 5,
     "metadata": {},
     "output_type": "execute_result"
    }
   ],
   "source": [
    "abs(10-12)+abs(1-0)"
   ]
  },
  {
   "cell_type": "code",
   "execution_count": 6,
   "id": "3670e424-bea2-4088-ac5c-4bb6d583ea53",
   "metadata": {},
   "outputs": [],
   "source": [
    "n, weak, dist = 12, [1, 5, 6, 10], [1, 2, 3, 4]"
   ]
  },
  {
   "cell_type": "code",
   "execution_count": null,
   "id": "9e2b0886-9b38-4346-a414-1785ac42b431",
   "metadata": {},
   "outputs": [],
   "source": [
    "# 시계, 반시계 방향으로 이동 가능\n",
    "# 시작점 찾기\n",
    "# how: 길을 어떻게 찾나? 거리 측정 방식\n",
    "# 어떻게 풀어야지? \n"
   ]
  }
 ],
 "metadata": {
  "kernelspec": {
   "display_name": "Python 3 (ipykernel)",
   "language": "python",
   "name": "python3"
  },
  "language_info": {
   "codemirror_mode": {
    "name": "ipython",
    "version": 3
   },
   "file_extension": ".py",
   "mimetype": "text/x-python",
   "name": "python",
   "nbconvert_exporter": "python",
   "pygments_lexer": "ipython3",
   "version": "3.9.13"
  }
 },
 "nbformat": 4,
 "nbformat_minor": 5
}
