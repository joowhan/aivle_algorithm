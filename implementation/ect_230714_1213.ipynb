{
 "cells": [
  {
   "cell_type": "code",
   "execution_count": 2,
   "id": "4432391a-23f8-495f-a9fc-5d16d90d3cf5",
   "metadata": {},
   "outputs": [],
   "source": [
    "# 치킨집과 모든 집 사이의 거리 파악\n",
    "# 남겨야 하는 치킨집의 수 파악\n",
    "# 1. 모든 집에서 치킨집까지 거리를 측정\n",
    "# 2. 적은 순으로 정렬\n",
    "# 3. \n",
    "# 딱 보고 어떻게 풀어야 한다? 이게 있어야 하나?"
   ]
  },
  {
   "cell_type": "code",
   "execution_count": 2,
   "id": "0947b458-d4e7-46f0-be60-27bc0419a8ae",
   "metadata": {},
   "outputs": [
    {
     "name": "stdin",
     "output_type": "stream",
     "text": [
      " 5 3\n",
      " 0 0 1 0 0\n",
      " 0 0 2 0 1\n",
      " 0 1 2 0 0\n",
      " 0 0 1 0 0\n",
      " 0 0 0 0 2\n"
     ]
    }
   ],
   "source": [
    "# 집, 치킨집 위치 파악\n",
    "# 5 3\n",
    "# 0 0 1 0 0\n",
    "# 0 0 2 0 1\n",
    "# 0 1 2 0 0\n",
    "# 0 0 1 0 0\n",
    "# 0 0 0 0 2\n",
    "n,m = map(int, input().split())\n",
    "lis = []\n",
    "for _ in range(n):\n",
    "    lis.append(list(map(int, input().split())))"
   ]
  },
  {
   "cell_type": "code",
   "execution_count": 3,
   "id": "64e8afba-f08a-42e6-a692-3d96e6e036cd",
   "metadata": {},
   "outputs": [],
   "source": [
    "# 치킨집 위치, 집 위치 파악\n",
    "home=[]\n",
    "chicken=[]\n",
    "for i in range(len(lis)):\n",
    "    for j in range(len(lis[i])):\n",
    "        if lis[i][j] == 1:\n",
    "            home.append((i,j))\n",
    "        elif lis[i][j] ==2:\n",
    "            chicken.append((i,j))"
   ]
  },
  {
   "cell_type": "code",
   "execution_count": 4,
   "id": "6481bbe9-0741-4f35-a764-3ccde8d166f5",
   "metadata": {},
   "outputs": [
    {
     "data": {
      "text/plain": [
       "[(0, 2), (1, 4), (2, 1), (3, 2)]"
      ]
     },
     "execution_count": 4,
     "metadata": {},
     "output_type": "execute_result"
    }
   ],
   "source": [
    "home"
   ]
  },
  {
   "cell_type": "code",
   "execution_count": 5,
   "id": "ee4edda6-2e66-4b6a-8e80-12e0dfcc2b48",
   "metadata": {},
   "outputs": [
    {
     "data": {
      "text/plain": [
       "[(1, 2), (2, 2), (4, 4)]"
      ]
     },
     "execution_count": 5,
     "metadata": {},
     "output_type": "execute_result"
    }
   ],
   "source": [
    "chicken"
   ]
  },
  {
   "cell_type": "code",
   "execution_count": 6,
   "id": "23e44bba-e114-48c1-85bc-3b2b2eff559b",
   "metadata": {},
   "outputs": [],
   "source": [
    "from itertools import combinations"
   ]
  },
  {
   "cell_type": "code",
   "execution_count": 7,
   "id": "cea63bd0-d1fd-4847-b847-9fd583d6ff98",
   "metadata": {},
   "outputs": [],
   "source": [
    "survive = list(combinations(chicken, m))"
   ]
  },
  {
   "cell_type": "code",
   "execution_count": 10,
   "id": "da2678a8-80f1-4398-b4ed-66764c2ad1dd",
   "metadata": {},
   "outputs": [
    {
     "data": {
      "text/plain": [
       "((1, 2), (2, 2), (4, 4))"
      ]
     },
     "execution_count": 10,
     "metadata": {},
     "output_type": "execute_result"
    }
   ],
   "source": [
    "survive[0]"
   ]
  },
  {
   "cell_type": "code",
   "execution_count": 11,
   "id": "b0f108d9-38b2-4ad7-bec9-33abde352ab4",
   "metadata": {},
   "outputs": [],
   "source": [
    "result =1e9\n",
    "for chickens in survive:\n",
    "    res = 0\n",
    "    for h in home:\n",
    "        ch_load=1e9\n",
    "        for ch in chickens:\n",
    "            temp = abs(h[0]- ch[0])+abs(h[1]-ch[1])\n",
    "            ch_load = min(ch_load, temp)\n",
    "\n",
    "        res += ch_load\n",
    "    result = min(result, res)"
   ]
  },
  {
   "cell_type": "code",
   "execution_count": 13,
   "id": "cbc048ea-84f1-4131-839b-e3a90589417a",
   "metadata": {},
   "outputs": [
    {
     "name": "stdout",
     "output_type": "stream",
     "text": [
      "5\n"
     ]
    }
   ],
   "source": [
    "print(result)"
   ]
  },
  {
   "cell_type": "code",
   "execution_count": null,
   "id": "0c04e4be-b5d2-42ea-bd0d-3c2cd3484fd8",
   "metadata": {},
   "outputs": [],
   "source": []
  }
 ],
 "metadata": {
  "kernelspec": {
   "display_name": "Python 3",
   "language": "python",
   "name": "python3"
  },
  "language_info": {
   "codemirror_mode": {
    "name": "ipython",
    "version": 3
   },
   "file_extension": ".py",
   "mimetype": "text/x-python",
   "name": "python",
   "nbconvert_exporter": "python",
   "pygments_lexer": "ipython3",
   "version": "3.9.2"
  }
 },
 "nbformat": 4,
 "nbformat_minor": 5
}
