{
 "cells": [
  {
   "cell_type": "code",
   "execution_count": 17,
   "id": "7cf8596e-6fd4-4d1c-86f5-285d5f511d9b",
   "metadata": {},
   "outputs": [
    {
     "name": "stdin",
     "output_type": "stream",
     "text": [
      " 64 120\n",
      " 1\n"
     ]
    }
   ],
   "source": [
    "a, b = map(int, input().split())\n",
    "n = int(input())"
   ]
  },
  {
   "cell_type": "code",
   "execution_count": 18,
   "id": "e09a6d4a-19e1-4a81-8d9c-bf6becb66478",
   "metadata": {},
   "outputs": [
    {
     "name": "stdin",
     "output_type": "stream",
     "text": [
      " 567\n"
     ]
    }
   ],
   "source": [
    "saved =[]\n",
    "for i in range(n):\n",
    "    saved.append(int(input()))"
   ]
  },
  {
   "cell_type": "code",
   "execution_count": 21,
   "id": "a0910bb1-2fb5-4a7c-9b36-a4f52f341097",
   "metadata": {},
   "outputs": [
    {
     "name": "stdout",
     "output_type": "stream",
     "text": [
      "56\n"
     ]
    }
   ],
   "source": [
    "count = 0\n",
    "minimum = abs(a-b)\n",
    "min_val = a\n",
    "if b in saved:\n",
    "    count +=1\n",
    "    print(count)\n",
    "else:\n",
    "    #즐거찾기와 절대값이 가장 작은 값을 선정\n",
    "\n",
    "    for i in range(n):\n",
    "        temp =abs(saved[i]-b)\n",
    "        if temp < minimum:\n",
    "            minimum = temp\n",
    "            min_val = saved[i]\n",
    "            count = 1\n",
    "    print(minimum+count)"
   ]
  },
  {
   "cell_type": "code",
   "execution_count": 9,
   "id": "c0490663-3d05-44ad-8f94-7a1993724338",
   "metadata": {},
   "outputs": [
    {
     "data": {
      "text/plain": [
       "100"
      ]
     },
     "execution_count": 9,
     "metadata": {},
     "output_type": "execute_result"
    }
   ],
   "source": [
    "min_val"
   ]
  },
  {
   "cell_type": "code",
   "execution_count": 20,
   "id": "93051df8-8621-42e0-acec-7679671fad46",
   "metadata": {},
   "outputs": [
    {
     "data": {
      "text/plain": [
       "56"
      ]
     },
     "execution_count": 20,
     "metadata": {},
     "output_type": "execute_result"
    }
   ],
   "source": [
    "120-64"
   ]
  },
  {
   "cell_type": "code",
   "execution_count": null,
   "id": "40ca93a2-0a8d-40fa-9ac8-799ab7286604",
   "metadata": {},
   "outputs": [],
   "source": []
  }
 ],
 "metadata": {
  "kernelspec": {
   "display_name": "Python 3",
   "language": "python",
   "name": "python3"
  },
  "language_info": {
   "codemirror_mode": {
    "name": "ipython",
    "version": 3
   },
   "file_extension": ".py",
   "mimetype": "text/x-python",
   "name": "python",
   "nbconvert_exporter": "python",
   "pygments_lexer": "ipython3",
   "version": "3.9.2"
  }
 },
 "nbformat": 4,
 "nbformat_minor": 5
}
