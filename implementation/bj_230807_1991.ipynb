{
 "cells": [
  {
   "cell_type": "code",
   "execution_count": 1,
   "id": "d8361186-e39f-4def-be2b-63f58f9ddc47",
   "metadata": {},
   "outputs": [
    {
     "name": "stdin",
     "output_type": "stream",
     "text": [
      " 7\n"
     ]
    }
   ],
   "source": [
    "n = int(input())"
   ]
  },
  {
   "cell_type": "code",
   "execution_count": 5,
   "id": "142ae3da-b5bd-44b1-b05c-a9ad9451976e",
   "metadata": {},
   "outputs": [],
   "source": [
    "def charToInt(ch):\n",
    "    if ch == '.':\n",
    "        return -1\n",
    "    return ord(ch) - ord('A')\n",
    "def intToChar(num):\n",
    "    if num == -1:\n",
    "        return \".\"\n",
    "    return chr(num+ord('A'))"
   ]
  },
  {
   "cell_type": "code",
   "execution_count": 10,
   "id": "56ce46f4-f5f2-489f-965a-de834ea4f383",
   "metadata": {},
   "outputs": [
    {
     "name": "stdin",
     "output_type": "stream",
     "text": [
      " A B C\n",
      " B D .\n",
      " C E F\n",
      " E . .\n",
      " F . G\n",
      " D . .\n",
      " G . .\n"
     ]
    }
   ],
   "source": [
    "# 입력을 뭐를 넣어야 하지?\n",
    "graph = [[] for _ in range(n)]\n",
    "for i in range(n):\n",
    "    node, left, right = input().split()\n",
    "    graph[charToInt(node)].append((charToInt(left), charToInt(right)))"
   ]
  },
  {
   "cell_type": "code",
   "execution_count": 11,
   "id": "7c0cec21-fb61-4e15-8d1a-115f3014aa3d",
   "metadata": {},
   "outputs": [
    {
     "data": {
      "text/plain": [
       "[[(1, 2)],\n",
       " [(3, -1)],\n",
       " [(4, 5)],\n",
       " [(-1, -1)],\n",
       " [(-1, -1)],\n",
       " [(-1, 6)],\n",
       " [(-1, -1)],\n",
       " []]"
      ]
     },
     "execution_count": 11,
     "metadata": {},
     "output_type": "execute_result"
    }
   ],
   "source": [
    "graph"
   ]
  },
  {
   "cell_type": "code",
   "execution_count": null,
   "id": "c6a2ed18-9dab-415b-b676-0176ac55ce23",
   "metadata": {},
   "outputs": [],
   "source": [
    "\n",
    "# preorder: 전위 순회한 결과 : ABDCEFG // (루트) (왼쪽 자식) (오른쪽 자식)\n",
    "# inorder: 중위 순회한 결과 : DBAECFG // (왼쪽 자식) (루트) (오른쪽 자식)\n",
    "# postorder: 후위 순회한 결과 : DBEGFCA // (왼쪽 자식) (오른쪽 자식) (루트)\n"
   ]
  }
 ],
 "metadata": {
  "kernelspec": {
   "display_name": "Python 3",
   "language": "python",
   "name": "python3"
  },
  "language_info": {
   "codemirror_mode": {
    "name": "ipython",
    "version": 3
   },
   "file_extension": ".py",
   "mimetype": "text/x-python",
   "name": "python",
   "nbconvert_exporter": "python",
   "pygments_lexer": "ipython3",
   "version": "3.9.2"
  }
 },
 "nbformat": 4,
 "nbformat_minor": 5
}
