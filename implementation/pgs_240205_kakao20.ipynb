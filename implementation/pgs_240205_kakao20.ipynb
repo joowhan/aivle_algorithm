{
 "cells": [
  {
   "cell_type": "code",
   "execution_count": null,
   "id": "041456e4-84d4-4d3e-a2cb-45aa379258ce",
   "metadata": {},
   "outputs": [],
   "source": [
    "import re\n",
    "from itertools import permutations\n",
    "\n",
    "def calculation(op,x,y):\n",
    "    if op=='+':\n",
    "        return int(x)+int(y)\n",
    "    elif op=='*':\n",
    "        return int(x)*int(y)\n",
    "    else:\n",
    "        return int(x)-int(y)\n",
    "\n",
    "def solution(expression):\n",
    "    answer = 0\n",
    "    # 3가지 연산만으로 이루어진 수식 전달, 연산자의 우선순위를 자유롭게 재정의 가능 -> 만들 수 있는 가장 큰 수 제출\n",
    "    # 2가지 연산자가 동일한 우선순위를 가질 수 없다. \n",
    "    # 가장 큰 상금을 return\n",
    "    \n",
    "    # 부호와 숫자를 분리 \n",
    "    oper = [expression[i] for i in range(len(expression)) if not expression[i].isdigit()]\n",
    "    lis = re.split(r'-|\\*|\\+',expression)\n",
    "    priority = permutations(list(set(oper)))\n",
    "    for p in priority:\n",
    "        temp = oper.copy()\n",
    "        nums = lis.copy()\n",
    "        \n",
    "        # print(\"oper: \",temp, \" p: \",p)\n",
    "        for op in p: \n",
    "            # print(op)\n",
    "            while op in temp:\n",
    "                i = temp.index(op)\n",
    "                x,y = nums[i], nums[i+1]\n",
    "                res = calculation(op, x,y)\n",
    "                nums = nums[:i]+[res]+nums[i+2:]\n",
    "                # print(nums)\n",
    "                temp.remove(op)\n",
    "                \n",
    "                # print(temp)\n",
    "        if abs(nums[0]) > answer:\n",
    "            answer = abs(nums[0])\n",
    "    return answer"
   ]
  }
 ],
 "metadata": {
  "kernelspec": {
   "display_name": "Python 3 (ipykernel)",
   "language": "python",
   "name": "python3"
  },
  "language_info": {
   "codemirror_mode": {
    "name": "ipython",
    "version": 3
   },
   "file_extension": ".py",
   "mimetype": "text/x-python",
   "name": "python",
   "nbconvert_exporter": "python",
   "pygments_lexer": "ipython3",
   "version": "3.8.18"
  }
 },
 "nbformat": 4,
 "nbformat_minor": 5
}
