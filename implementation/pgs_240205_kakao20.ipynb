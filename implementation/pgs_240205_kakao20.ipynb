{
 "cells": [
  {
   "cell_type": "code",
   "execution_count": null,
   "id": "041456e4-84d4-4d3e-a2cb-45aa379258ce",
   "metadata": {},
   "outputs": [],
   "source": [
    "import re\n",
    "from itertools import permutations\n",
    "\n",
    "def calculation(op,x,y):\n",
    "    if op=='+':\n",
    "        return int(x)+int(y)\n",
    "    elif op=='*':\n",
    "        return int(x)*int(y)\n",
    "    else:\n",
    "        return int(x)-int(y)\n",
    "\n",
    "def solution(expression):\n",
    "    answer = 0\n",
    "    \n",
    "    # 부호와 숫자를 분리 \n",
    "    oper = [expression[i] for i in range(len(expression)) if not expression[i].isdigit()]\n",
    "    lis = re.split(r'-|\\*|\\+',expression)\n",
    "    priority = permutations(list(set(oper)))\n",
    "    for p in priority:\n",
    "        temp = oper.copy()\n",
    "        nums = lis.copy()\n",
    "        for op in p: \n",
    "            while op in temp:\n",
    "                i = temp.index(op)\n",
    "                x,y = nums[i], nums[i+1]\n",
    "                res = calculation(op, x,y)\n",
    "                nums = nums[:i]+[res]+nums[i+2:]\n",
    "                temp.remove(op)\n",
    "        if abs(nums[0]) > answer:\n",
    "            answer = abs(nums[0])\n",
    "    return answer"
   ]
  }
 ],
 "metadata": {
  "kernelspec": {
   "display_name": "Python 3 (ipykernel)",
   "language": "python",
   "name": "python3"
  },
  "language_info": {
   "codemirror_mode": {
    "name": "ipython",
    "version": 3
   },
   "file_extension": ".py",
   "mimetype": "text/x-python",
   "name": "python",
   "nbconvert_exporter": "python",
   "pygments_lexer": "ipython3",
   "version": "3.8.18"
  }
 },
 "nbformat": 4,
 "nbformat_minor": 5
}
