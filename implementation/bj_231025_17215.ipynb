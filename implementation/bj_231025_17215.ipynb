{
 "cells": [
  {
   "cell_type": "code",
   "execution_count": 1,
   "id": "a85b24b1-0b34-4dc5-bf65-09f240234e7e",
   "metadata": {},
   "outputs": [
    {
     "name": "stdin",
     "output_type": "stream",
     "text": [
      " 9-8P72S9P-9S-P9-SS8\n"
     ]
    }
   ],
   "source": [
    "# 시스템 오류로 인해 점수판에 집계가 되지 않음\n",
    "# 1게임 = 10프레임\n",
    "# 각 프레임에 2분에 기회 제공\n",
    "# 첫 시도에 모두 쓰러뜨리는 것 S \n",
    "    # -> 마지막 프레임이 아닐 때 스트라이크 치면 두번째 기회는 없다. \n",
    "    # -> 마지막 프레임일 때, 두번의 보너스 기회, 추가점수는 없다.\n",
    "# 두 번째까지 모두 쓰러뜨리는 것 P \n",
    "    # -> 다음 한번의 기회동안 쓰러뜨린 개수만큼 추가점수\n",
    "    # -> 마지막 프레임이라면, 한번의 보너스 기회 제공\n",
    "# S면 프레임에서 쓰러뜨린 볼링 핀의 개수만큼 추가점수\n",
    "game = input()"
   ]
  },
  {
   "cell_type": "code",
   "execution_count": 2,
   "id": "ad1fba4a-b250-4753-9b7a-7e222261fc73",
   "metadata": {},
   "outputs": [
    {
     "data": {
      "text/plain": [
       "'9-8P72S9P-9S-P9-SS8'"
      ]
     },
     "execution_count": 2,
     "metadata": {},
     "output_type": "execute_result"
    }
   ],
   "source": [
    "while frame"
   ]
  },
  {
   "cell_type": "code",
   "execution_count": null,
   "id": "58b53123-c775-41d8-b592-acee69c67398",
   "metadata": {},
   "outputs": [],
   "source": []
  }
 ],
 "metadata": {
  "kernelspec": {
   "display_name": "Python 3",
   "language": "python",
   "name": "python3"
  },
  "language_info": {
   "codemirror_mode": {
    "name": "ipython",
    "version": 3
   },
   "file_extension": ".py",
   "mimetype": "text/x-python",
   "name": "python",
   "nbconvert_exporter": "python",
   "pygments_lexer": "ipython3",
   "version": "3.9.2"
  }
 },
 "nbformat": 4,
 "nbformat_minor": 5
}
