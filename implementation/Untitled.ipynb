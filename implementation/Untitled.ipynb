{
 "cells": [
  {
   "cell_type": "code",
   "execution_count": 22,
   "id": "940ac807-3241-40f7-9972-c4451d23d48f",
   "metadata": {},
   "outputs": [],
   "source": [
    "s = \"{{2},{2,1},{2,1,3},{2,1,3,4}}\"\n",
    "def solution(s):\n",
    "    answer = []\n",
    "    tp=[]\n",
    "    temp=[]\n",
    "    i=1\n",
    "    # print(s[i:].index('}'))\n",
    "    cnt = 0\n",
    "    while i < len(s)-1:\n",
    "        \n",
    "    print(tp)"
   ]
  },
  {
   "cell_type": "code",
   "execution_count": 23,
   "id": "3867f026-1646-455f-8438-489a719753d9",
   "metadata": {},
   "outputs": [
    {
     "name": "stdout",
     "output_type": "stream",
     "text": [
      "1 3\n",
      "8 0\n",
      "2 0\n",
      "2 0\n",
      "['{2}', '', '', '']\n"
     ]
    }
   ],
   "source": [
    "solution(s)"
   ]
  },
  {
   "cell_type": "code",
   "execution_count": 40,
   "id": "5498862a-5c2c-4c2e-9605-b6836b4b4850",
   "metadata": {},
   "outputs": [
    {
     "name": "stdout",
     "output_type": "stream",
     "text": [
      "{2},{2,1},{2,1,3},{2,1,3,4}\n"
     ]
    }
   ],
   "source": [
    "import re\n",
    "s = \"{{2},{2,1},{2,1,3},{2,1,3,4}}\"\n",
    "s= s[1:-1]\n",
    "temp = re.split(r'{|\\}', s)"
   ]
  },
  {
   "cell_type": "code",
   "execution_count": 48,
   "id": "e0fe8f9a-cc9f-42d1-83f7-4114c7103e21",
   "metadata": {},
   "outputs": [
    {
     "name": "stdout",
     "output_type": "stream",
     "text": [
      "['', '2', ',', '2,1', ',', '2,1,3', ',', '2,1,3,4', '']\n"
     ]
    }
   ],
   "source": [
    "import re\n",
    "s = \"{{2},{2,1},{2,1,3},{2,1,3,4}}\"\n",
    "s= s[1:-1]\n",
    "temp = re.split(r'{|\\}', s)\n",
    "tp=[]\n",
    "for t in temp:\n",
    "    if t!='' and t!=',':\n",
    "        x = t.split(',')\n",
    "        tp.append(x)"
   ]
  },
  {
   "cell_type": "code",
   "execution_count": 49,
   "id": "74e993f9-277b-43d2-aab6-9d30ba329b6b",
   "metadata": {},
   "outputs": [
    {
     "data": {
      "text/plain": [
       "[['2'], ['2', '1'], ['2', '1', '3'], ['2', '1', '3', '4']]"
      ]
     },
     "execution_count": 49,
     "metadata": {},
     "output_type": "execute_result"
    }
   ],
   "source": [
    "tp"
   ]
  },
  {
   "cell_type": "code",
   "execution_count": null,
   "id": "c6fe7bd1-435c-42e8-9bd9-6a93e662c8d2",
   "metadata": {},
   "outputs": [],
   "source": []
  },
  {
   "cell_type": "code",
   "execution_count": null,
   "id": "e34cde5a-0cfd-41aa-a09f-27084aea41c2",
   "metadata": {},
   "outputs": [],
   "source": []
  }
 ],
 "metadata": {
  "kernelspec": {
   "display_name": "hanati",
   "language": "python",
   "name": "hanati"
  },
  "language_info": {
   "codemirror_mode": {
    "name": "ipython",
    "version": 3
   },
   "file_extension": ".py",
   "mimetype": "text/x-python",
   "name": "python",
   "nbconvert_exporter": "python",
   "pygments_lexer": "ipython3",
   "version": "3.8.18"
  }
 },
 "nbformat": 4,
 "nbformat_minor": 5
}
