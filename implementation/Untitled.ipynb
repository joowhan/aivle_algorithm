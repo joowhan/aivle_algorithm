{
 "cells": [
  {
   "cell_type": "code",
   "execution_count": 2,
   "id": "4432391a-23f8-495f-a9fc-5d16d90d3cf5",
   "metadata": {},
   "outputs": [],
   "source": [
    "# 치킨집과 모든 집 사이의 거리 파악\n",
    "# 남겨야 하는 치킨집의 수 파악\n",
    "# 1. 모든 집에서 치킨집까지 거리를 측정\n",
    "# 2. 적은 순으로 정렬\n",
    "# 3. \n",
    "# 딱 보고 어떻게 풀어야 한다? 이게 있어야 하나?"
   ]
  },
  {
   "cell_type": "code",
   "execution_count": 3,
   "id": "0947b458-d4e7-46f0-be60-27bc0419a8ae",
   "metadata": {},
   "outputs": [
    {
     "name": "stdin",
     "output_type": "stream",
     "text": [
      " 5 3\n",
      " 0 0 1 0 0\n",
      " 0 0 2 0 1\n",
      " 0 1 2 0 0\n",
      " 0 0 1 0 0\n",
      " 0 0 0 0 2\n"
     ]
    }
   ],
   "source": [
    "# 집, 치킨집 위치 파악\n",
    "# 5 3\n",
    "# 0 0 1 0 0\n",
    "# 0 0 2 0 1\n",
    "# 0 1 2 0 0\n",
    "# 0 0 1 0 0\n",
    "# 0 0 0 0 2\n",
    "n,m = map(int, input().split())\n",
    "lis = []\n",
    "for _ in range(n):\n",
    "    lis.append(list(map(int, input().split())))"
   ]
  },
  {
   "cell_type": "code",
   "execution_count": 5,
   "id": "64e8afba-f08a-42e6-a692-3d96e6e036cd",
   "metadata": {},
   "outputs": [],
   "source": [
    "# 치킨집 위치, 집 위치 파악\n",
    "home=[]\n",
    "chicken=[]\n",
    "for i in range(len(lis)):\n",
    "    for j in range(len(lis[i])):\n",
    "        if lis[i][j] == 1:\n",
    "            home.append((i,j))\n",
    "        elif lis[i][j] ==2:\n",
    "            chicken.append((i,j))"
   ]
  },
  {
   "cell_type": "code",
   "execution_count": 6,
   "id": "6481bbe9-0741-4f35-a764-3ccde8d166f5",
   "metadata": {},
   "outputs": [
    {
     "data": {
      "text/plain": [
       "[(0, 2), (1, 4), (2, 1), (3, 2)]"
      ]
     },
     "execution_count": 6,
     "metadata": {},
     "output_type": "execute_result"
    }
   ],
   "source": [
    "home"
   ]
  },
  {
   "cell_type": "code",
   "execution_count": 7,
   "id": "ee4edda6-2e66-4b6a-8e80-12e0dfcc2b48",
   "metadata": {},
   "outputs": [
    {
     "data": {
      "text/plain": [
       "[(1, 2), (2, 2), (4, 4)]"
      ]
     },
     "execution_count": 7,
     "metadata": {},
     "output_type": "execute_result"
    }
   ],
   "source": [
    "chicken"
   ]
  },
  {
   "cell_type": "code",
   "execution_count": null,
   "id": "23e44bba-e114-48c1-85bc-3b2b2eff559b",
   "metadata": {},
   "outputs": [],
   "source": []
  }
 ],
 "metadata": {
  "kernelspec": {
   "display_name": "Python 3 (ipykernel)",
   "language": "python",
   "name": "python3"
  },
  "language_info": {
   "codemirror_mode": {
    "name": "ipython",
    "version": 3
   },
   "file_extension": ".py",
   "mimetype": "text/x-python",
   "name": "python",
   "nbconvert_exporter": "python",
   "pygments_lexer": "ipython3",
   "version": "3.9.13"
  }
 },
 "nbformat": 4,
 "nbformat_minor": 5
}
