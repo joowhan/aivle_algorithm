{
 "cells": [
  {
   "cell_type": "code",
   "execution_count": 5,
   "id": "44368c5d-319b-4a86-a34f-f48af594db53",
   "metadata": {},
   "outputs": [
    {
     "data": {
      "text/plain": [
       "3"
      ]
     },
     "execution_count": 5,
     "metadata": {},
     "output_type": "execute_result"
    }
   ],
   "source": [
    "abs(10-12)+abs(1-0)"
   ]
  },
  {
   "cell_type": "code",
   "execution_count": 3,
   "id": "3670e424-bea2-4088-ac5c-4bb6d583ea53",
   "metadata": {},
   "outputs": [],
   "source": [
    "n, weak, dist = 12, [1, 5, 6, 10], [1, 2, 3, 4]"
   ]
  },
  {
   "cell_type": "code",
   "execution_count": 4,
   "id": "9e2b0886-9b38-4346-a414-1785ac42b431",
   "metadata": {},
   "outputs": [
    {
     "data": {
      "text/plain": [
       "[(1, 2, 3, 4),\n",
       " (1, 2, 4, 3),\n",
       " (1, 3, 2, 4),\n",
       " (1, 3, 4, 2),\n",
       " (1, 4, 2, 3),\n",
       " (1, 4, 3, 2),\n",
       " (2, 1, 3, 4),\n",
       " (2, 1, 4, 3),\n",
       " (2, 3, 1, 4),\n",
       " (2, 3, 4, 1),\n",
       " (2, 4, 1, 3),\n",
       " (2, 4, 3, 1),\n",
       " (3, 1, 2, 4),\n",
       " (3, 1, 4, 2),\n",
       " (3, 2, 1, 4),\n",
       " (3, 2, 4, 1),\n",
       " (3, 4, 1, 2),\n",
       " (3, 4, 2, 1),\n",
       " (4, 1, 2, 3),\n",
       " (4, 1, 3, 2),\n",
       " (4, 2, 1, 3),\n",
       " (4, 2, 3, 1),\n",
       " (4, 3, 1, 2),\n",
       " (4, 3, 2, 1)]"
      ]
     },
     "execution_count": 4,
     "metadata": {},
     "output_type": "execute_result"
    }
   ],
   "source": [
    "list(permutations(dist, len(dist)))"
   ]
  },
  {
   "cell_type": "code",
   "execution_count": 2,
   "id": "13b698c4-53a4-4bf5-8a94-9a5cff199ee3",
   "metadata": {},
   "outputs": [],
   "source": [
    "from itertools import permutations"
   ]
  },
  {
   "cell_type": "code",
   "execution_count": 7,
   "id": "e2f61d8c-92a1-49e3-be1a-7932f26c04e1",
   "metadata": {},
   "outputs": [],
   "source": [
    "# 어떤 친구가 먼저 오는지에 대한 모든 순열을 계산한다. \n",
    "def solution(n, weak, dist):\n",
    "    length = len(weak)\n",
    "    for i in range(length):\n",
    "        weak.append(weak[i]+n)\n",
    "    answer = len(dist)+1\n",
    "    for start in range(length):\n",
    "        for friends in list(permutations(dist, len(dist))):\n",
    "            count = 1\n",
    "            position = weak[start]+friends[count-1]\n",
    "            for index in range(start, start+length):\n",
    "                if position < weak[index]:\n",
    "                    count +=1\n",
    "                    if count > len(dist):\n",
    "                        break\n",
    "                    position = weak[index]+friends[count-1]\n",
    "            answer = min(answer, count)\n",
    "        if answer > len(dist):\n",
    "            return -1\n",
    "        return answer"
   ]
  },
  {
   "cell_type": "code",
   "execution_count": null,
   "id": "6d304f8c-daea-4e02-a997-88594c370fc3",
   "metadata": {},
   "outputs": [],
   "source": []
  }
 ],
 "metadata": {
  "kernelspec": {
   "display_name": "Python 3",
   "language": "python",
   "name": "python3"
  },
  "language_info": {
   "codemirror_mode": {
    "name": "ipython",
    "version": 3
   },
   "file_extension": ".py",
   "mimetype": "text/x-python",
   "name": "python",
   "nbconvert_exporter": "python",
   "pygments_lexer": "ipython3",
   "version": "3.9.2"
  }
 },
 "nbformat": 4,
 "nbformat_minor": 5
}
