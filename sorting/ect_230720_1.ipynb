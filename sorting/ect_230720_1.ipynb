{
 "cells": [
  {
   "cell_type": "code",
   "execution_count": 10,
   "id": "b24eb369-a31d-4afe-a5ce-46d13aefd6ad",
   "metadata": {},
   "outputs": [
    {
     "name": "stdin",
     "output_type": "stream",
     "text": [
      " 4\n"
     ]
    }
   ],
   "source": [
    "n = int(input())"
   ]
  },
  {
   "cell_type": "code",
   "execution_count": 11,
   "id": "bbd34936-bd68-4145-b7a7-a0faff757e92",
   "metadata": {},
   "outputs": [
    {
     "name": "stdin",
     "output_type": "stream",
     "text": [
      " 10\n",
      " 20\n",
      " 30\n",
      " 40\n"
     ]
    }
   ],
   "source": [
    "cards =[]\n",
    "for i in range(n):\n",
    "    cards.append(int(input()))"
   ]
  },
  {
   "cell_type": "code",
   "execution_count": 12,
   "id": "14483af6-1a3f-472c-8d50-674c323299e1",
   "metadata": {},
   "outputs": [],
   "source": [
    "cards.sort()"
   ]
  },
  {
   "cell_type": "code",
   "execution_count": 13,
   "id": "21d57797-dd61-4d61-92d8-c020296e0db1",
   "metadata": {},
   "outputs": [
    {
     "data": {
      "text/plain": [
       "[10, 20, 30, 40]"
      ]
     },
     "execution_count": 13,
     "metadata": {},
     "output_type": "execute_result"
    }
   ],
   "source": [
    "cards"
   ]
  },
  {
   "cell_type": "code",
   "execution_count": 14,
   "id": "67123aee-9a63-4986-85bb-0c71f18df22d",
   "metadata": {},
   "outputs": [],
   "source": [
    "for i in range(n-1):\n",
    "    cards[i+1] = cards[i] + cards[i+1]"
   ]
  },
  {
   "cell_type": "code",
   "execution_count": 16,
   "id": "9ce875c1-c08c-472e-b511-dd260d886e07",
   "metadata": {},
   "outputs": [
    {
     "data": {
      "text/plain": [
       "190"
      ]
     },
     "execution_count": 16,
     "metadata": {},
     "output_type": "execute_result"
    }
   ],
   "source": [
    "sum(cards[1:])"
   ]
  },
  {
   "cell_type": "code",
   "execution_count": null,
   "id": "fce3837a-7f81-4608-848d-f2f4ac2540c6",
   "metadata": {},
   "outputs": [],
   "source": [
    "# wrong answer\n",
    "# 정렬해서 순차적으로 더하기는 옳은 방법이 아니다. \n",
    "n = int(input())\n",
    "cards =[]\n",
    "for i in range(n):\n",
    "    cards.append(int(input()))\n",
    "cards.sort()\n",
    "for i in range(n-1):\n",
    "    cards[i+1] = cards[i] + cards[i+1]\n",
    "print(sum(cards[1:]))"
   ]
  },
  {
   "cell_type": "code",
   "execution_count": null,
   "id": "9d2935c4-4d06-4def-99e7-29a3c3442ad9",
   "metadata": {},
   "outputs": [],
   "source": []
  },
  {
   "cell_type": "code",
   "execution_count": null,
   "id": "48779b57-a62b-4fde-933a-0509834cb988",
   "metadata": {},
   "outputs": [],
   "source": []
  }
 ],
 "metadata": {
  "kernelspec": {
   "display_name": "Python 3",
   "language": "python",
   "name": "python3"
  },
  "language_info": {
   "codemirror_mode": {
    "name": "ipython",
    "version": 3
   },
   "file_extension": ".py",
   "mimetype": "text/x-python",
   "name": "python",
   "nbconvert_exporter": "python",
   "pygments_lexer": "ipython3",
   "version": "3.9.2"
  }
 },
 "nbformat": 4,
 "nbformat_minor": 5
}
