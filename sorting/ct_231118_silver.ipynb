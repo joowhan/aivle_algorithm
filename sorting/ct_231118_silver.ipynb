{
 "cells": [
  {
   "cell_type": "code",
   "execution_count": null,
   "id": "d6aef4b4-1f0c-4fcf-8809-5c9e0010111b",
   "metadata": {},
   "outputs": [],
   "source": [
    "n = int(input())\n",
    "temp = {}\n",
    "for i in range(n):\n",
    "    cows = list(input().split())\n",
    "    cows.sort()\n",
    "    cows = tuple(cows)\n",
    "    if cows in temp.keys():\n",
    "        temp[cows] += 1\n",
    "    else:\n",
    "        temp[cows] = 1\n",
    "answer = sorted(temp.items(), key=lambda x:x[1], reverse=True)\n",
    "print(answer[0][1])\n",
    "\n"
   ]
  }
 ],
 "metadata": {
  "kernelspec": {
   "display_name": "Python 3",
   "language": "python",
   "name": "python3"
  },
  "language_info": {
   "codemirror_mode": {
    "name": "ipython",
    "version": 3
   },
   "file_extension": ".py",
   "mimetype": "text/x-python",
   "name": "python",
   "nbconvert_exporter": "python",
   "pygments_lexer": "ipython3",
   "version": "3.9.2"
  }
 },
 "nbformat": 4,
 "nbformat_minor": 5
}
