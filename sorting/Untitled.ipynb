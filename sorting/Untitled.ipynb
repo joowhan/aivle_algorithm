{
 "cells": [
  {
   "cell_type": "code",
   "execution_count": 52,
   "id": "56dde0f1-8b16-4141-9f48-e03aaa14695b",
   "metadata": {},
   "outputs": [
    {
     "name": "stdin",
     "output_type": "stream",
     "text": [
      " 6\n",
      " 1000 999 1000 999 1000 999\n"
     ]
    }
   ],
   "source": [
    "n = int(input())\n",
    "lis = list(map(int, input().split()))\n",
    "coordinate = set(lis)"
   ]
  },
  {
   "cell_type": "code",
   "execution_count": 55,
   "id": "d46ae212-2f9f-44ba-b9c8-581e924b8fff",
   "metadata": {},
   "outputs": [
    {
     "name": "stdout",
     "output_type": "stream",
     "text": [
      "1 0 1 0 1 0 "
     ]
    }
   ],
   "source": [
    "temp = list(coordinate)\n",
    "temp.sort(reverse=True)\n",
    "for cor in lis:\n",
    "    s = temp.index(cor)\n",
    "    print(len(temp[s+1:]), end= ' ')"
   ]
  },
  {
   "cell_type": "code",
   "execution_count": 56,
   "id": "966f85f3-a58e-45eb-974c-c2f6f7f244db",
   "metadata": {},
   "outputs": [],
   "source": [
    "temp.sort()\n",
    "sy = {temp[i]:i for i in range(len(temp))}"
   ]
  },
  {
   "cell_type": "code",
   "execution_count": 58,
   "id": "7e1c8b60-62bb-4ac0-a47c-2eb11ac1ae39",
   "metadata": {},
   "outputs": [
    {
     "name": "stdout",
     "output_type": "stream",
     "text": [
      "1 0 1 0 1 0 "
     ]
    }
   ],
   "source": [
    "for i in range(n):\n",
    "    print(sy[lis[i]], end=' ')"
   ]
  },
  {
   "cell_type": "code",
   "execution_count": null,
   "id": "fd5899a8-84bc-4178-88ef-8a235052a1ec",
   "metadata": {},
   "outputs": [],
   "source": []
  }
 ],
 "metadata": {
  "kernelspec": {
   "display_name": "aivle",
   "language": "python",
   "name": "aivle"
  },
  "language_info": {
   "codemirror_mode": {
    "name": "ipython",
    "version": 3
   },
   "file_extension": ".py",
   "mimetype": "text/x-python",
   "name": "python",
   "nbconvert_exporter": "python",
   "pygments_lexer": "ipython3",
   "version": "3.9.15"
  }
 },
 "nbformat": 4,
 "nbformat_minor": 5
}
