{
 "cells": [
  {
   "cell_type": "markdown",
   "id": "fe5a19e2-a047-43eb-8ca0-302d86d475d5",
   "metadata": {},
   "source": [
    "https://www.acmicpc.net/problem/1707"
   ]
  },
  {
   "cell_type": "code",
   "execution_count": 2,
   "id": "466cb151-c274-44dd-9e40-95eb680e0cdd",
   "metadata": {},
   "outputs": [
    {
     "name": "stdin",
     "output_type": "stream",
     "text": [
      " 3 2\n"
     ]
    }
   ],
   "source": [
    "v,e = map(int, input().split())"
   ]
  },
  {
   "cell_type": "code",
   "execution_count": 3,
   "id": "716c2df6-358c-4f34-bf02-d9548992da16",
   "metadata": {},
   "outputs": [
    {
     "name": "stdin",
     "output_type": "stream",
     "text": [
      " 1 3\n",
      " 2 3\n"
     ]
    }
   ],
   "source": [
    "graph =[[] for _ in range(v+1)]\n",
    "for i in range(e):\n",
    "    a,b = map(int, input().split())\n",
    "    graph[a].append(b)\n",
    "\n"
   ]
  },
  {
   "cell_type": "code",
   "execution_count": null,
   "id": "3be4c49f-2f44-43c2-b2d2-5e291ac25f0a",
   "metadata": {},
   "outputs": [],
   "source": []
  },
  {
   "cell_type": "code",
   "execution_count": null,
   "id": "377a3dfd-cb48-4dbf-8d6b-1c5a12ec8391",
   "metadata": {},
   "outputs": [],
   "source": []
  },
  {
   "cell_type": "code",
   "execution_count": null,
   "id": "9a56a5b5-de0e-48ac-bb03-f79012ebeffb",
   "metadata": {},
   "outputs": [],
   "source": []
  },
  {
   "cell_type": "code",
   "execution_count": null,
   "id": "8b1e9312-37c7-466a-b25c-3d05de516d71",
   "metadata": {},
   "outputs": [],
   "source": [
    "from collections import deque\n",
    "\n",
    "def bfs(graph, start, visited):\n",
    "    # 시작 노드를 큐에 넣기\n",
    "    q = deque([start])\n",
    "    visited[start] = 0\n",
    "    while q:\n",
    "        curr = q.popleft()        \n",
    "        for i in graph[curr]:\n",
    "            if visited[i] == -1:\n",
    "                q.append(i)\n",
    "                visited[i] = (visited[curr]+1)%2\n",
    "\n",
    "def is_bipartite():\n",
    "    for nodes in range(1,v+1):\n",
    "        for node in graph[nodes]:\n",
    "            if visited[node] == visited[nodes]:\n",
    "                return False\n",
    "    return True\n",
    "\n",
    "case = int(input())\n",
    "for _ in range(case):\n",
    "    graph=[]\n",
    "    visited = []\n",
    "    v,e= map(int, input().split())\n",
    "    visited = [-1]*(v+1)\n",
    "    color = [-1]*(v+1)\n",
    "    graph = [[] for _ in range(v+1)]\n",
    "    bipartite = [[] for _ in range(v+1)]\n",
    "    for i in range(e):\n",
    "        u,k = map(int, input().split())\n",
    "        graph[u].append(k)\n",
    "        graph[k].append(u)\n",
    "    color[1] = 1\n",
    "    bfs(graph, 1, visited)\n",
    "    for x in range(1,v+1):\n",
    "        if visited[x] == -1:\n",
    "            bfs(graph, x, visited)\n",
    "    if is_bipartite(): print(\"YES\")\n",
    "    else: print(\"NO\")"
   ]
  },
  {
   "cell_type": "code",
   "execution_count": null,
   "id": "0d7b3ef3-4bee-4037-9b64-1f7c572fe8d6",
   "metadata": {},
   "outputs": [],
   "source": []
  }
 ],
 "metadata": {
  "kernelspec": {
   "display_name": "Python 3",
   "language": "python",
   "name": "python3"
  },
  "language_info": {
   "codemirror_mode": {
    "name": "ipython",
    "version": 3
   },
   "file_extension": ".py",
   "mimetype": "text/x-python",
   "name": "python",
   "nbconvert_exporter": "python",
   "pygments_lexer": "ipython3",
   "version": "3.9.2"
  }
 },
 "nbformat": 4,
 "nbformat_minor": 5
}
