{
 "cells": [
  {
   "cell_type": "code",
   "execution_count": 1,
   "id": "4d23771f-c73b-4d6a-a686-21641ba4369c",
   "metadata": {},
   "outputs": [
    {
     "name": "stdin",
     "output_type": "stream",
     "text": [
      " 3 3\n"
     ]
    }
   ],
   "source": [
    "n,k = map(int, input().split())"
   ]
  },
  {
   "cell_type": "code",
   "execution_count": null,
   "id": "5bd7ae0f-1f78-40d5-9845-f4ba2e390495",
   "metadata": {},
   "outputs": [
    {
     "name": "stdin",
     "output_type": "stream",
     "text": [
      " 1 0 2\n",
      " 0 0 0\n",
      " 3 0 0\n"
     ]
    }
   ],
   "source": [
    "lis=[]\n",
    "for _ in range(n):\n",
    "    lis.append(list(map(int, input().split())))"
   ]
  },
  {
   "cell_type": "code",
   "execution_count": 4,
   "id": "1cae9d56-2af9-4d2f-98c3-fa1fe8c887c9",
   "metadata": {},
   "outputs": [
    {
     "data": {
      "text/plain": [
       "[[1, 0, 2], [0, 0, 0], [3, 0, 0]]"
      ]
     },
     "execution_count": 4,
     "metadata": {},
     "output_type": "execute_result"
    }
   ],
   "source": [
    "lis"
   ]
  },
  {
   "cell_type": "code",
   "execution_count": 6,
   "id": "0bcf38ed-670a-41f5-beb6-8dfe5d5c9b8c",
   "metadata": {},
   "outputs": [
    {
     "name": "stdin",
     "output_type": "stream",
     "text": [
      " 2 3 2\n"
     ]
    }
   ],
   "source": [
    "seconds, tx,ty = map(int, input().split())"
   ]
  },
  {
   "cell_type": "code",
   "execution_count": 11,
   "id": "ecdedf28-9dde-4a07-b0e0-a3d9476a32ad",
   "metadata": {},
   "outputs": [],
   "source": [
    "covid =[]\n",
    "for i in range(n):\n",
    "    for j in range(n):\n",
    "        if lis[i][j] != 0:\n",
    "            covid.append((lis[i][j], i,j,0))"
   ]
  },
  {
   "cell_type": "code",
   "execution_count": 33,
   "id": "f1a39015-9a35-4e37-a3ca-014c33e3ac28",
   "metadata": {},
   "outputs": [],
   "source": [
    "dx = [-1,1,0,0]\n",
    "dy = [0,0,-1,1]\n",
    "def bfs(lis, data):\n",
    "    while data:\n",
    "        virus, x,y, time = data.popleft()\n",
    "        if time == seconds:\n",
    "            break\n",
    "        for i in range(4):\n",
    "            nx = x + dx[i]\n",
    "            ny = y + dy[i]\n",
    "            # 범위 내에 있으면?\n",
    "            if nx>=0 and nx<n and ny>=0 and ny<n:\n",
    "                # is empty\n",
    "                print(nx,ny)\n",
    "                if lis[nx][ny] == 0:\n",
    "                    lis[nx][ny] = virus\n",
    "                    data.append((virus,nx,ny,time+1))\n",
    "                "
   ]
  },
  {
   "cell_type": "code",
   "execution_count": 34,
   "id": "77c2743e-2319-4f30-87d1-17784fc29699",
   "metadata": {},
   "outputs": [],
   "source": [
    "from collections import deque"
   ]
  },
  {
   "cell_type": "code",
   "execution_count": 35,
   "id": "b1eec693-a725-447c-bbba-656352a2a2ba",
   "metadata": {},
   "outputs": [],
   "source": [
    "covid.sort()\n",
    "data = deque(covid)"
   ]
  },
  {
   "cell_type": "code",
   "execution_count": 36,
   "id": "7a9666b3-940d-402d-93fa-a77dcb084c2f",
   "metadata": {},
   "outputs": [
    {
     "name": "stdout",
     "output_type": "stream",
     "text": [
      "1 0\n",
      "0 1\n",
      "1 2\n",
      "0 1\n",
      "1 0\n",
      "2 1\n",
      "1 1\n",
      "2 0\n",
      "2 2\n"
     ]
    }
   ],
   "source": [
    "bfs(lis,data)"
   ]
  },
  {
   "cell_type": "code",
   "execution_count": 38,
   "id": "7b7ef5d5-9eca-4e29-a8f1-deeb48be1943",
   "metadata": {},
   "outputs": [
    {
     "data": {
      "text/plain": [
       "3"
      ]
     },
     "execution_count": 38,
     "metadata": {},
     "output_type": "execute_result"
    }
   ],
   "source": [
    "lis[tx-1][ty-1]"
   ]
  },
  {
   "cell_type": "code",
   "execution_count": null,
   "id": "5c1b43b8-1742-4f15-bad8-781336a84b49",
   "metadata": {},
   "outputs": [],
   "source": []
  }
 ],
 "metadata": {
  "kernelspec": {
   "display_name": "Python 3",
   "language": "python",
   "name": "python3"
  },
  "language_info": {
   "codemirror_mode": {
    "name": "ipython",
    "version": 3
   },
   "file_extension": ".py",
   "mimetype": "text/x-python",
   "name": "python",
   "nbconvert_exporter": "python",
   "pygments_lexer": "ipython3",
   "version": "3.9.2"
  }
 },
 "nbformat": 4,
 "nbformat_minor": 5
}
