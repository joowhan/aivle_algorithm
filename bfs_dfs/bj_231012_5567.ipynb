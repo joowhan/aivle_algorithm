{
 "cells": [
  {
   "cell_type": "code",
   "execution_count": 19,
   "id": "3502fdff-b615-4c7f-9215-908b92007080",
   "metadata": {},
   "outputs": [
    {
     "name": "stdin",
     "output_type": "stream",
     "text": [
      " 6\n",
      " 5\n",
      " 1 2\n",
      " 1 3\n",
      " 3 4\n",
      " 2 3\n",
      " 4 5\n"
     ]
    }
   ],
   "source": [
    "n = int(input())\n",
    "m = int(input())\n",
    "graph=[[] for _ in range(n+1)]\n",
    "for i in range(m):\n",
    "    a,b = map(int, input().split())\n",
    "    graph[a].append(b)\n",
    "    graph[b].append(a)"
   ]
  },
  {
   "cell_type": "code",
   "execution_count": 3,
   "id": "5797e553-3bf6-412c-b27b-8ce90c6b197b",
   "metadata": {},
   "outputs": [
    {
     "data": {
      "text/plain": [
       "[[], [2, 3], [3], [4], [5], [], []]"
      ]
     },
     "execution_count": 3,
     "metadata": {},
     "output_type": "execute_result"
    }
   ],
   "source": [
    "graph"
   ]
  },
  {
   "cell_type": "code",
   "execution_count": 36,
   "id": "fbed22f7-aae9-4813-a93f-dc3f4f3fe578",
   "metadata": {},
   "outputs": [
    {
     "name": "stdout",
     "output_type": "stream",
     "text": [
      "* 1 0\n",
      "2 0\n",
      "deque([(2, 1)])\n",
      "3 0\n",
      "deque([(2, 1), (3, 1)])\n",
      "* 2 1\n",
      "* 3 1\n",
      "4 1\n",
      "deque([(4, 2)])\n",
      "* 4 2\n",
      "3\n"
     ]
    }
   ],
   "source": [
    "from collections import deque\n",
    "\n",
    "visited = [False for _ in range(n+1)]\n",
    "queue = deque([(1,0)])\n",
    "visited[1] =True\n",
    "result = 0\n",
    "while queue:\n",
    "    curr, cnt = queue.popleft()\n",
    "    print('*',curr, cnt)\n",
    "    result +=1\n",
    "    if cnt >=2:\n",
    "        continue\n",
    "    for friend in graph[curr]:\n",
    "        if not visited[friend]:\n",
    "            print(friend, cnt)\n",
    "            visited[friend] = True\n",
    "            queue.append((friend, cnt+1))\n",
    "            # result +=1\n",
    "            print(queue)\n",
    "print(result-1)"
   ]
  },
  {
   "cell_type": "code",
   "execution_count": null,
   "id": "138b7f7d-7718-4381-af61-7cc058fd1e0d",
   "metadata": {},
   "outputs": [],
   "source": []
  },
  {
   "cell_type": "code",
   "execution_count": 17,
   "id": "94f98298-7701-47c3-9659-6055a0d6994a",
   "metadata": {},
   "outputs": [
    {
     "data": {
      "text/plain": [
       "0"
      ]
     },
     "execution_count": 17,
     "metadata": {},
     "output_type": "execute_result"
    }
   ],
   "source": [
    "result"
   ]
  },
  {
   "cell_type": "code",
   "execution_count": 8,
   "id": "a3e1ee1b-bf9b-471b-95ff-675acc592de0",
   "metadata": {},
   "outputs": [
    {
     "data": {
      "text/plain": [
       "deque([])"
      ]
     },
     "execution_count": 8,
     "metadata": {},
     "output_type": "execute_result"
    }
   ],
   "source": [
    "queue"
   ]
  },
  {
   "cell_type": "code",
   "execution_count": null,
   "id": "8fa65289-c0f6-4bca-b407-3fa2b0054fd7",
   "metadata": {},
   "outputs": [],
   "source": []
  }
 ],
 "metadata": {
  "kernelspec": {
   "display_name": "Python 3",
   "language": "python",
   "name": "python3"
  },
  "language_info": {
   "codemirror_mode": {
    "name": "ipython",
    "version": 3
   },
   "file_extension": ".py",
   "mimetype": "text/x-python",
   "name": "python",
   "nbconvert_exporter": "python",
   "pygments_lexer": "ipython3",
   "version": "3.9.2"
  }
 },
 "nbformat": 4,
 "nbformat_minor": 5
}
