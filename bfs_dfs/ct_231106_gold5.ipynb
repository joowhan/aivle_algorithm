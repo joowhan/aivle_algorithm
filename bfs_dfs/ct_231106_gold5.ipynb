{
 "cells": [
  {
   "cell_type": "code",
   "execution_count": null,
   "id": "119aca90-0d7e-408e-b057-d4ef5b9d6930",
   "metadata": {},
   "outputs": [],
   "source": [
    "import sys\n",
    "from collections import deque\n",
    "\n",
    "# input = sys.stdin.readline\n",
    "\n",
    "n, m = map(int, input().split())\n",
    "graph =[]\n",
    "for i in range(n):\n",
    "    graph.append(list(map(int, input().split())))\n",
    "visited = [[10**7] * m for _ in range(n)]\n",
    "\n",
    "# 먼저 시작점인 1인 곳들을 queue에 집어넣는다. 이때 움직이지 않았으니 cost = 0도 함께 넣어준다.\n",
    "# queue에서 하나씩 꺼낸다. 그리고 주변을 탐색해서 방문가능한 지역인지 확인하고 방문이 가능할 때 visited에서 그 위치의 값 보다 cost+1이 작다면 방문한다.\n",
    "# visited는 무한대로 초기화되어 있는데, 이때 첫 방문이면 cost+1 값이 저장되고 queue에도 똑같이 저장한다. 그러면 이제 턴이 지날 때 방문 값은 1,2,3,..하고 커지게 된다. \n",
    "# 모든 탐색이 끝났으면 max 값을 찾는다. 근데 이때 visited 안에 무한대 값이 존재한다면 -1을 return 해야 한다. \n",
    "queue = deque()\n",
    "\n",
    "for i in range(n):\n",
    "    for j in range(m):\n",
    "        if graph[i][j] == 1:\n",
    "            visited[i][j] = 0   \n",
    "            queue.append([i,j,0])\n",
    "        elif graph[i][j] == -1:\n",
    "            visited[i][j] = 0\n",
    "\n",
    "dx = [-1,1,0,0]\n",
    "dy = [0,0,-1,1]\n",
    "\n",
    "while queue:\n",
    "    x,y, cost = queue.popleft()\n",
    "    for i in range(4):\n",
    "        nx = dx[i] + x\n",
    "        ny = dy[i] + y\n",
    "        if nx>=n or nx<0 or ny >=m or ny < 0:\n",
    "            continue\n",
    "        # 방문 가능한 땅일 때\n",
    "        if graph[nx][ny] == 0:\n",
    "            if visited[nx][ny] > cost+1:\n",
    "                visited[nx][ny] = cost+1\n",
    "                queue.append([nx,ny, cost+1])\n",
    "\n",
    "answer = 0\n",
    "\n",
    "for i in range(n):\n",
    "    for j in range(m):\n",
    "        if graph[i][j] == -1:\n",
    "            continue\n",
    "        elif visited[i][j] == 10**7:\n",
    "            answer = -1\n",
    "            break\n",
    "        if visited[i][j] > answer:\n",
    "            answer = visited[i][j]\n",
    "    if answer == -1:\n",
    "        break\n",
    "print(answer)"
   ]
  },
  {
   "cell_type": "code",
   "execution_count": null,
   "id": "bb23cd33-04b5-4ed0-a0d0-80ac56a75bfc",
   "metadata": {},
   "outputs": [],
   "source": [
    "4 6\n",
    "0 -1 0 0 0 0\n",
    "-1 0 0 0 0 0\n",
    "0 0 0 0 0 0\n",
    "0 0 0 0 0 1"
   ]
  }
 ],
 "metadata": {
  "kernelspec": {
   "display_name": "Python 3",
   "language": "python",
   "name": "python3"
  },
  "language_info": {
   "codemirror_mode": {
    "name": "ipython",
    "version": 3
   },
   "file_extension": ".py",
   "mimetype": "text/x-python",
   "name": "python",
   "nbconvert_exporter": "python",
   "pygments_lexer": "ipython3",
   "version": "3.9.2"
  }
 },
 "nbformat": 4,
 "nbformat_minor": 5
}
