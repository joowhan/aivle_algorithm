{
 "cells": [
  {
   "cell_type": "code",
   "execution_count": 1,
   "id": "6772300f-346f-4114-ac51-18ba56a9ee55",
   "metadata": {},
   "outputs": [],
   "source": [
    "# 9\n",
    "# 0\n",
    "# 12345678\n",
    "# 1\n",
    "# 2\n",
    "# 0\n",
    "# 0\n",
    "# 0\n",
    "# 0\n",
    "# 32"
   ]
  },
  {
   "cell_type": "code",
   "execution_count": null,
   "id": "f73e2db3-a144-4e4f-9266-b6fc3c29022f",
   "metadata": {},
   "outputs": [
    {
     "name": "stdin",
     "output_type": "stream",
     "text": [
      " 9\n"
     ]
    }
   ],
   "source": [
    "n = int(input())"
   ]
  },
  {
   "cell_type": "code",
   "execution_count": null,
   "id": "0eab65d5-dffb-430d-a622-2493ddf79298",
   "metadata": {},
   "outputs": [],
   "source": [
    "n = int(input())\n",
    "import heapq\n",
    "lis=[]\n",
    "res=[]\n",
    "for i in range(n):\n",
    "    a = int(input())\n",
    "    if a ==0 and len(lis) > 0:\n",
    "        res.append(heapq.heappop(lis))\n",
    "    elif a==0:\n",
    "        res.append(0)\n",
    "    else:\n",
    "        heapq.heappush(lis,a)\n",
    "for r in res:\n",
    "    print(r)"
   ]
  },
  {
   "cell_type": "code",
   "execution_count": null,
   "id": "3619bc1a-1939-4c11-8efd-ea35a81a9741",
   "metadata": {},
   "outputs": [],
   "source": []
  }
 ],
 "metadata": {
  "kernelspec": {
   "display_name": "Python 3",
   "language": "python",
   "name": "python3"
  },
  "language_info": {
   "codemirror_mode": {
    "name": "ipython",
    "version": 3
   },
   "file_extension": ".py",
   "mimetype": "text/x-python",
   "name": "python",
   "nbconvert_exporter": "python",
   "pygments_lexer": "ipython3",
   "version": "3.9.2"
  }
 },
 "nbformat": 4,
 "nbformat_minor": 5
}
