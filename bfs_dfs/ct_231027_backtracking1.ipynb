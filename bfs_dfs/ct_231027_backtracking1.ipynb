{
 "cells": [
  {
   "cell_type": "code",
   "execution_count": null,
   "id": "85a43ee8-51b0-4528-8bf5-fbc202161298",
   "metadata": {},
   "outputs": [],
   "source": [
    "# A나 B에 의해 이미 방문한 곳은 다시 방문하지 않는다.\n",
    "# k개의 이동할 수 없는 칸이 있고, 이 땅은 밟을 수 없다. \n",
    "# 최종적으로 같은 칸을 밟게 된다. -> 이동가능한 칸을 전부 방문하게 되는 서로 다른 가지수를 구하기 \n",
    "import sys\n",
    "input = sys.stdin.readline\n",
    "\n",
    "\n",
    "N = 5\n",
    "answer = 0\n",
    "\n",
    "graph =[[0]*N for _ in range(N)]\n",
    "visited=[[0]*N for _ in range(N)]\n",
    "\n",
    "k = int(input())\n",
    "\n",
    "for _ in range(k):\n",
    "    a,b = map(int, input().split())\n",
    "    graph[a-1][b-1] = 1\n",
    "\n",
    "# 25-2-k\n",
    "rest  = 23 - k\n",
    "dx = [-1,1,0,0]\n",
    "dy = [0,0,-1,1]\n",
    "\n",
    "visited[0][0] = 1\n",
    "visited[4][4] = 1\n",
    "\n",
    "def dfs(x1,y1, x2,y2, rest, N):\n",
    "    global answer\n",
    "\n",
    "    for i in range(4):\n",
    "        nx1, ny1 = dx[i]+x1, dy[i]+y1\n",
    "        if nx1 >=N or nx1 < 0 or ny1>=N or ny1 <0:\n",
    "            continue\n",
    "        # 처음 방문한다면? -> 방문 처리\n",
    "        if graph[nx1][ny1] == 0 and visited[nx1][ny1] == 0:\n",
    "            visited[nx1][ny1] = 1\n",
    "            # A가 방문했을 때 => B도 함께 방문한다. \n",
    "            for j in range(4):\n",
    "                nx2, ny2 = dx[j]+x2, dy[j]+y2\n",
    "                if nx2 >=N or nx2 < 0 or ny2>=N or ny2 <0:\n",
    "                    continue\n",
    "                # 만약 B도 움직였을 때 -> 아직 방문하지 않은 땅일 때\n",
    "                if graph[nx2][ny2] == 0:\n",
    "                    # A와 B가 같은 위치에 있을 때, 그리고 이미 대부분의 땅을 밟았을 때 \n",
    "                    if nx1==nx2 and ny1==ny2 and rest ==1:\n",
    "                        answer +=1\n",
    "                    else:\n",
    "                        if visited[nx2][ny2] == 0:\n",
    "                            visited[nx2][ny2] = 1\n",
    "                            dfs(nx1,ny1, nx2, ny2, rest-2, N)\n",
    "                            visited[nx2][ny2] = 0\n",
    "            visited[nx1][ny1] = 0\n",
    "dfs(0,0,4,4,rest, N)\n",
    "print(answer)"
   ]
  }
 ],
 "metadata": {
  "kernelspec": {
   "display_name": "Python 3",
   "language": "python",
   "name": "python3"
  },
  "language_info": {
   "codemirror_mode": {
    "name": "ipython",
    "version": 3
   },
   "file_extension": ".py",
   "mimetype": "text/x-python",
   "name": "python",
   "nbconvert_exporter": "python",
   "pygments_lexer": "ipython3",
   "version": "3.9.2"
  }
 },
 "nbformat": 4,
 "nbformat_minor": 5
}
