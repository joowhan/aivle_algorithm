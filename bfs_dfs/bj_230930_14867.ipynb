{
 "cells": [
  {
   "cell_type": "code",
   "execution_count": 9,
   "metadata": {},
   "outputs": [
    {
     "name": "stdin",
     "output_type": "stream",
     "text": [
      " 3 7 3 2\n"
     ]
    }
   ],
   "source": [
    "a,b,c,d = map(int, input().split())"
   ]
  },
  {
   "cell_type": "code",
   "execution_count": 19,
   "metadata": {},
   "outputs": [],
   "source": [
    "\n",
    "def M(ta,tb,x,y):\n",
    "    if x <= tb-y:\n",
    "        y +=x\n",
    "        x = 0\n",
    "    else:\n",
    "        x-=(tb-y)\n",
    "        y = tb\n",
    "    return (x,y)\n"
   ]
  },
  {
   "cell_type": "code",
   "execution_count": 20,
   "metadata": {},
   "outputs": [],
   "source": [
    "from collections import deque\n",
    "\n",
    "que = deque([(0,0,0)])\n",
    "visited = set()\n",
    "result = -1\n",
    "while que:\n",
    "    curr_a, curr_b, cnt = que.popleft()\n",
    "    temp = cnt\n",
    "    if curr_a == c and curr_b == d:\n",
    "        result = cnt\n",
    "        break\n",
    "    # Fill\n",
    "    ## Fill A\n",
    "    if (a, curr_b) not in visited:\n",
    "        visited.add((a, curr_b))\n",
    "        temp = cnt +1\n",
    "        que.append((a, curr_b, temp))\n",
    "    ## Fill B\n",
    "    if (curr_a, b) not in visited:\n",
    "        visited.add((curr_a, b))\n",
    "        temp = cnt +1\n",
    "        que.append((curr_a, b, temp))\n",
    "    \n",
    "    # Empty\n",
    "    ## Empty A\n",
    "    if (0, curr_b) not in visited:\n",
    "        visited.add((0, curr_b))\n",
    "        temp = cnt +1\n",
    "        que.append((0, curr_b, temp))     \n",
    "    ## Empty B\n",
    "    if (curr_a, 0) not in visited:\n",
    "        visited.add((curr_a, 0))\n",
    "        temp = cnt +1\n",
    "        que.append((curr_a, 0, temp))\n",
    "        \n",
    "    # Move water from a to b\n",
    "    temp_a, temp_b = M(a,b,curr_a, curr_b)\n",
    "    if (temp_a, temp_b) not in visited:\n",
    "        visited.add((temp_a, temp_b))\n",
    "        temp = cnt +1\n",
    "        que.append((temp_a, temp_b, temp))\n",
    "        \n",
    "    # Move water from b to a\n",
    "    temp_b, temp_a = M(b,a,curr_b, curr_a)\n",
    "    if (temp_a, temp_b) not in visited:\n",
    "        visited.add((temp_a, temp_b))\n",
    "        temp = cnt +1\n",
    "        que.append((temp_a, temp_b, temp))"
   ]
  },
  {
   "cell_type": "code",
   "execution_count": 21,
   "metadata": {},
   "outputs": [
    {
     "data": {
      "text/plain": [
       "9"
      ]
     },
     "execution_count": 21,
     "metadata": {},
     "output_type": "execute_result"
    }
   ],
   "source": [
    "result"
   ]
  },
  {
   "cell_type": "code",
   "execution_count": null,
   "metadata": {},
   "outputs": [],
   "source": []
  }
 ],
 "metadata": {
  "kernelspec": {
   "display_name": "Python 3",
   "language": "python",
   "name": "python3"
  },
  "language_info": {
   "codemirror_mode": {
    "name": "ipython",
    "version": 3
   },
   "file_extension": ".py",
   "mimetype": "text/x-python",
   "name": "python",
   "nbconvert_exporter": "python",
   "pygments_lexer": "ipython3",
   "version": "3.8.5"
  }
 },
 "nbformat": 4,
 "nbformat_minor": 4
}
