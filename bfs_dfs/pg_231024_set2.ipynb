{
 "cells": [
  {
   "cell_type": "code",
   "execution_count": null,
   "id": "cb5c0fa6-a368-4abe-9e07-246a5e797cd0",
   "metadata": {},
   "outputs": [],
   "source": [
    "import sys\n",
    "sys.setrecursionlimit(int(1e9))\n",
    "\n",
    "def dfs(node, computers, visited):\n",
    "    visited[node] = True\n",
    "    for i in range(len(computers[node])):\n",
    "        if computers[node][i] == 1 and not visited[i]:\n",
    "            dfs(i, computers, visited)\n",
    "    \n",
    "    \n",
    "def solution(n, computers):\n",
    "    answer = 0\n",
    "    visited = [False for _ in range(n)]\n",
    "    for i in range(n):\n",
    "        if not visited[i]:\n",
    "            dfs(i, computers, visited)\n",
    "            answer +=1\n",
    "    return answer"
   ]
  }
 ],
 "metadata": {
  "kernelspec": {
   "display_name": "Python 3",
   "language": "python",
   "name": "python3"
  },
  "language_info": {
   "codemirror_mode": {
    "name": "ipython",
    "version": 3
   },
   "file_extension": ".py",
   "mimetype": "text/x-python",
   "name": "python",
   "nbconvert_exporter": "python",
   "pygments_lexer": "ipython3",
   "version": "3.9.2"
  }
 },
 "nbformat": 4,
 "nbformat_minor": 5
}
