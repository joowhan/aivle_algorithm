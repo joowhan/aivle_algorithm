{
 "cells": [
  {
   "cell_type": "code",
   "execution_count": null,
   "id": "755e6dc1-cfb7-4f38-b9ea-8055a59d82f3",
   "metadata": {},
   "outputs": [],
   "source": [
    "from collections import deque\n",
    "while True:\n",
    "    w,h = map(int, input().split())\n",
    "    if w==0 and h == 0:\n",
    "        break\n",
    "    graph=[]\n",
    "    for i in range(h):\n",
    "        graph.append(list(map(int, input().split())))\n",
    "    \n",
    "    visited = [[0]*w for _ in range(h)]\n",
    "    count = 0\n",
    "    \n",
    "    dx = [-1,1,0,0,-1,-1,1,1]\n",
    "    dy = [0,0,-1,1,1,-1,1,-1]\n",
    "    \n",
    "    for i in range(h):\n",
    "        for j in range(w):\n",
    "            queue = deque()\n",
    "            if graph[i][j] == 1 and visited[i][j] == 0:\n",
    "                queue.append([i,j])\n",
    "                visited[i][j] = 1\n",
    "                count +=1\n",
    "                while queue:\n",
    "                    x,y = queue.popleft()\n",
    "                    for k in range(8):\n",
    "                        nx = x+dx[k]\n",
    "                        ny = y+dy[k]\n",
    "                        if nx>=h or nx<0 or ny>=w or ny<0:\n",
    "                            continue\n",
    "                        if graph[nx][ny] == 1 and visited[nx][ny] == 0:\n",
    "                            visited[nx][ny] = 1\n",
    "                            queue.append([nx,ny])\n",
    "    print(count)"
   ]
  },
  {
   "cell_type": "code",
   "execution_count": null,
   "id": "6d54e9b9-0aaa-4fc0-911c-e30979c61f7d",
   "metadata": {},
   "outputs": [],
   "source": []
  }
 ],
 "metadata": {
  "kernelspec": {
   "display_name": "Python 3",
   "language": "python",
   "name": "python3"
  },
  "language_info": {
   "codemirror_mode": {
    "name": "ipython",
    "version": 3
   },
   "file_extension": ".py",
   "mimetype": "text/x-python",
   "name": "python",
   "nbconvert_exporter": "python",
   "pygments_lexer": "ipython3",
   "version": "3.9.2"
  }
 },
 "nbformat": 4,
 "nbformat_minor": 5
}
