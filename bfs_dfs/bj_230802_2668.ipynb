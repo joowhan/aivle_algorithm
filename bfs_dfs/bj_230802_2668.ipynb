{
 "cells": [
  {
   "cell_type": "code",
   "execution_count": 1,
   "id": "4c12cbd3-3104-4bb3-8efa-64f7a8832dc5",
   "metadata": {},
   "outputs": [
    {
     "name": "stdin",
     "output_type": "stream",
     "text": [
      " 7\n"
     ]
    }
   ],
   "source": [
    "n = int(input())"
   ]
  },
  {
   "cell_type": "code",
   "execution_count": 4,
   "id": "f2c1e067-c330-4aa6-bf8b-39dd46c66c11",
   "metadata": {},
   "outputs": [
    {
     "name": "stdin",
     "output_type": "stream",
     "text": [
      " 3\n",
      " 1\n",
      " 1\n",
      " 5\n",
      " 5\n",
      " 4\n",
      " 6\n"
     ]
    }
   ],
   "source": [
    "arr =[-1]\n",
    "for _ in range(n):\n",
    "    arr.append(int(input()))"
   ]
  },
  {
   "cell_type": "code",
   "execution_count": null,
   "id": "8501231b-3f11-41d6-92ed-1c6f9481a67d",
   "metadata": {},
   "outputs": [],
   "source": [
    "# 하나의 노드를 추가할 때 2개의 값이 포함된다.\n",
    "# key: value 중에 있어야 한다.\n",
    "# value: key 값에 포함되어야 한다. \n",
    "visited=[False for _ in range(n+1)]\n",
    "finished = [False for _ in range(n+1)]\n",
    "\n",
    "def dfs(curr):\n",
    "    visited[curr] = True\n",
    "    next_val = arr[curr]\n",
    "    if not visited[next_val]:\n",
    "        dfs(next_val)\n",
    "    elif not finished[next_val]:\n",
    "        while next_val != curr:\n",
    "            result.append(next_val)\n",
    "            next_val = arr[next_val]\n",
    "        result.append(curr)\n",
    "    finished[curr] = True"
   ]
  }
 ],
 "metadata": {
  "kernelspec": {
   "display_name": "Python 3",
   "language": "python",
   "name": "python3"
  },
  "language_info": {
   "codemirror_mode": {
    "name": "ipython",
    "version": 3
   },
   "file_extension": ".py",
   "mimetype": "text/x-python",
   "name": "python",
   "nbconvert_exporter": "python",
   "pygments_lexer": "ipython3",
   "version": "3.9.2"
  }
 },
 "nbformat": 4,
 "nbformat_minor": 5
}
