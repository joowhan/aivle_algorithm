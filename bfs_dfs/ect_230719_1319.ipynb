{
 "cells": [
  {
   "cell_type": "markdown",
   "id": "dd67ca4e-91c7-4781-92c2-b24ab6fd278d",
   "metadata": {},
   "source": [
    "https://www.acmicpc.net/problem/14888"
   ]
  },
  {
   "cell_type": "code",
   "execution_count": 1,
   "id": "ac9f474e-9a75-4807-9c56-8dc8dc5af06c",
   "metadata": {},
   "outputs": [
    {
     "name": "stdin",
     "output_type": "stream",
     "text": [
      " 2\n"
     ]
    }
   ],
   "source": [
    "n = int(input())"
   ]
  },
  {
   "cell_type": "code",
   "execution_count": 2,
   "id": "182eb06c-1822-421f-8e9f-7d24f795acd2",
   "metadata": {},
   "outputs": [
    {
     "name": "stdin",
     "output_type": "stream",
     "text": [
      " 5 6\n"
     ]
    }
   ],
   "source": [
    "num = list(map(int, input().split()))"
   ]
  },
  {
   "cell_type": "code",
   "execution_count": 11,
   "id": "03a5c2d2-a2c0-497f-a43c-08e2e87c80f9",
   "metadata": {},
   "outputs": [
    {
     "name": "stdin",
     "output_type": "stream",
     "text": [
      " 0 0 1 0\n"
     ]
    }
   ],
   "source": [
    "sign = list(map(int, input().split()))"
   ]
  },
  {
   "cell_type": "code",
   "execution_count": 10,
   "id": "59656182-6bc5-423f-b18a-0670d0d0effa",
   "metadata": {},
   "outputs": [],
   "source": [
    "from itertools import product, permutations"
   ]
  },
  {
   "cell_type": "code",
   "execution_count": 38,
   "id": "56222c21-0e0b-4483-bf89-7dfecf92e9cf",
   "metadata": {},
   "outputs": [],
   "source": [
    "# cal=list(product(['+','-','*','/'], repeat=(n-1)))"
   ]
  },
  {
   "cell_type": "code",
   "execution_count": 15,
   "id": "3bc9cdf1-14bf-4b2d-a2d6-d34ba45d9c35",
   "metadata": {},
   "outputs": [],
   "source": [
    "operator=[]\n",
    "for i in range(len(sign)):\n",
    "    for j in range(sign[i]):\n",
    "        operator.append(i)"
   ]
  },
  {
   "cell_type": "code",
   "execution_count": 19,
   "id": "ba0b7dd6-4675-4f33-9693-ed5c6cf51e9f",
   "metadata": {},
   "outputs": [],
   "source": [
    "per = list(permutations(operator, n-1))"
   ]
  },
  {
   "cell_type": "code",
   "execution_count": 34,
   "id": "8ef072de-a8ca-4bdd-a2c7-83f8ff56afcc",
   "metadata": {},
   "outputs": [],
   "source": [
    "maxnum = -1e9\n",
    "minnum = 1e9\n",
    "for p in per:\n",
    "    temp = num[0]\n",
    "    for i in range(1,n):\n",
    "        if p[i-1] == 0:\n",
    "            temp +=num[i]\n",
    "        elif p[i-1] == 1:\n",
    "            temp -= num[i]\n",
    "        elif p[i-1] ==2:\n",
    "            temp *= num[i]\n",
    "        else:\n",
    "            temp = int(temp/num[i])"
   ]
  },
  {
   "cell_type": "code",
   "execution_count": 35,
   "id": "fe65ffb6-d885-48a5-a00a-f30c73725e3c",
   "metadata": {},
   "outputs": [],
   "source": [
    "if maxnum<temp:\n",
    "    maxnum = temp\n",
    "if minnum > temp:\n",
    "    minnum = temp"
   ]
  },
  {
   "cell_type": "code",
   "execution_count": 36,
   "id": "262b18fc-24d7-4221-82ff-758a5afdf571",
   "metadata": {},
   "outputs": [
    {
     "name": "stdout",
     "output_type": "stream",
     "text": [
      "30\n"
     ]
    }
   ],
   "source": [
    "print(maxnum)"
   ]
  },
  {
   "cell_type": "code",
   "execution_count": 37,
   "id": "bf1fdc92-931f-40b8-babf-6d6dd50a9ac0",
   "metadata": {},
   "outputs": [
    {
     "name": "stdout",
     "output_type": "stream",
     "text": [
      "30\n"
     ]
    }
   ],
   "source": [
    "print(minnum)"
   ]
  },
  {
   "cell_type": "code",
   "execution_count": null,
   "id": "01dee93f-5aea-4f1c-80ed-f9e33bbc1aec",
   "metadata": {},
   "outputs": [],
   "source": []
  }
 ],
 "metadata": {
  "kernelspec": {
   "display_name": "Python 3",
   "language": "python",
   "name": "python3"
  },
  "language_info": {
   "codemirror_mode": {
    "name": "ipython",
    "version": 3
   },
   "file_extension": ".py",
   "mimetype": "text/x-python",
   "name": "python",
   "nbconvert_exporter": "python",
   "pygments_lexer": "ipython3",
   "version": "3.9.2"
  }
 },
 "nbformat": 4,
 "nbformat_minor": 5
}
