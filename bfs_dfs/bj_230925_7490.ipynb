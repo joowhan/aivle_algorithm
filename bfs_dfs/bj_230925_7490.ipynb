{
 "cells": [
  {
   "cell_type": "code",
   "execution_count": 76,
   "id": "e025627e-d9e2-4b99-b051-53af81a8e47b",
   "metadata": {},
   "outputs": [
    {
     "name": "stdin",
     "output_type": "stream",
     "text": [
      " 2\n",
      " 3\n"
     ]
    },
    {
     "name": "stdout",
     "output_type": "stream",
     "text": [
      "1+2-3\n",
      "\n"
     ]
    },
    {
     "name": "stdin",
     "output_type": "stream",
     "text": [
      " 7\n"
     ]
    },
    {
     "name": "stdout",
     "output_type": "stream",
     "text": [
      "1+2-3+4-5-6+7\n",
      "1+2-3-4+5+6-7\n",
      "1-2 3+4+5+6+7\n",
      "1-2 3-4 5+6 7\n",
      "1-2+3+4-5+6-7\n",
      "1-2-3-4-5+6+7\n",
      "\n"
     ]
    }
   ],
   "source": [
    "from itertools import permutations\n",
    "c = int(input())\n",
    "answer =[]\n",
    "for _ in range(c):\n",
    "    n = int(input())\n",
    "    nums = [i for i in range(1,n+1)]\n",
    "    res=[]\n",
    "    dfs('1',1,n, res)\n",
    "    # answer.append(res)\n",
    "    for i in res:\n",
    "        print(i)\n",
    "    print()"
   ]
  },
  {
   "cell_type": "code",
   "execution_count": 69,
   "id": "d46d6c60-c78a-4553-9661-182eed7bdf2a",
   "metadata": {},
   "outputs": [
    {
     "name": "stdout",
     "output_type": "stream",
     "text": [
      "1+2-3\n",
      "\n",
      "1+2-3+4-5-6+7\n",
      "1+2-3-4+5+6-7\n",
      "1-2 3+4+5+6+7\n",
      "1-2 3-4 5+6 7\n",
      "1-2+3+4-5+6-7\n",
      "1-2-3-4-5+6+7\n",
      "\n"
     ]
    }
   ],
   "source": [
    "for zero in answer:\n",
    "    for z in zero:\n",
    "        print(z)\n",
    "    print()"
   ]
  },
  {
   "cell_type": "code",
   "execution_count": 74,
   "id": "f23195d6-a552-4d87-8f5d-215980d7daa9",
   "metadata": {},
   "outputs": [],
   "source": [
    "def dfs(formula, idx,n, res):\n",
    "    # print(formula, idx,n)\n",
    "    if idx >= n:\n",
    "        temp = formula.replace(' ','')\n",
    "        if eval(temp) == 0:\n",
    "            # print(formula)\n",
    "            res.append(formula)\n",
    "        return\n",
    "    # else:\n",
    "    # print(idx, nums[idx])\n",
    "    cnt = idx+1\n",
    "    dfs(formula+' '+str(nums[idx]), cnt,n,res)\n",
    "    dfs(formula+'+'+str(nums[idx]), cnt,n,res)\n",
    "    dfs(formula+'-'+str(nums[idx]), cnt,n,res)\n",
    "    return"
   ]
  },
  {
   "cell_type": "code",
   "execution_count": 59,
   "id": "369528e7-bcae-49ee-916b-de199d5393f9",
   "metadata": {},
   "outputs": [
    {
     "name": "stdout",
     "output_type": "stream",
     "text": [
      "1+2-3+4-5-6+7\n",
      "1+2-3-4+5+6-7\n",
      "1-2 3+4+5+6+7\n",
      "1-2 3-4 5+6 7\n",
      "1-2+3+4-5+6-7\n",
      "1-2-3-4-5+6+7\n"
     ]
    }
   ],
   "source": [
    "dfs('1',1,n)"
   ]
  },
  {
   "cell_type": "code",
   "execution_count": 72,
   "id": "90dd7ac7-28e8-43de-b9c3-d6816864c9b5",
   "metadata": {},
   "outputs": [
    {
     "name": "stdin",
     "output_type": "stream",
     "text": [
      " 2\n",
      " 3\n"
     ]
    },
    {
     "name": "stdout",
     "output_type": "stream",
     "text": [
      "1+2-3\n",
      "\n"
     ]
    },
    {
     "name": "stdin",
     "output_type": "stream",
     "text": [
      " 7\n"
     ]
    },
    {
     "name": "stdout",
     "output_type": "stream",
     "text": [
      "1+2-3+4-5-6+7\n",
      "1+2-3-4+5+6-7\n",
      "1-2 3+4+5+6+7\n",
      "1-2 3-4 5+6 7\n",
      "1-2+3+4-5+6-7\n",
      "1-2-3-4-5+6+7\n"
     ]
    }
   ],
   "source": [
    "import sys\n",
    "\n",
    "N = int(input())\n",
    "\n",
    "def dfs(s, cnt, n):\n",
    "    if cnt == n+1:\n",
    "        result = eval(s.replace(' ', ''))\n",
    "        if result == 0:\n",
    "            print(s)\n",
    "        return 0\n",
    "    \n",
    "    dfs(s+' '+str(cnt), cnt+1, n)\n",
    "    dfs(s+'+'+str(cnt), cnt+1, n)\n",
    "    dfs(s+'-'+str(cnt), cnt+1, n)\n",
    "    \n",
    "    return 0\n",
    "\n",
    "for i in range(N):\n",
    "    dfs('1', 2, int(input()))\n",
    "    if i != N-1:\n",
    "        print('')"
   ]
  },
  {
   "cell_type": "code",
   "execution_count": 1,
   "id": "90bd6dfa-09b8-4a47-a864-1ea1781c87fb",
   "metadata": {},
   "outputs": [
    {
     "name": "stdin",
     "output_type": "stream",
     "text": [
      " 2\n",
      " 3\n"
     ]
    },
    {
     "name": "stdout",
     "output_type": "stream",
     "text": [
      "1+2-3\n",
      "\n"
     ]
    },
    {
     "name": "stdin",
     "output_type": "stream",
     "text": [
      " 7\n"
     ]
    },
    {
     "name": "stdout",
     "output_type": "stream",
     "text": [
      "1+2-3+4-5-6+7\n",
      "1+2-3-4+5+6-7\n",
      "1-2 3+4+5+6+7\n",
      "1-2 3-4 5+6 7\n",
      "1-2+3+4-5+6-7\n",
      "1-2-3-4-5+6+7\n",
      "\n"
     ]
    }
   ],
   "source": [
    "import sys\n",
    "# sys.setrecursionlimit(10 ** 6)\n",
    "# input = sys.stdin.readline\n",
    "\n",
    "c = int(input())\n",
    "answer =[]\n",
    "def dfs(formula, idx,n, res):\n",
    "    # print(formula, idx,n)\n",
    "    if idx >= n:\n",
    "        temp = formula.replace(' ','')\n",
    "        if eval(temp) == 0:\n",
    "            # print(formula)\n",
    "            res.append(formula)\n",
    "        return\n",
    "    # else:\n",
    "    # print(idx, nums[idx])\n",
    "    cnt = idx+1\n",
    "    dfs(formula+' '+str(nums[idx]), cnt,n,res)\n",
    "    dfs(formula+'+'+str(nums[idx]), cnt,n,res)\n",
    "    dfs(formula+'-'+str(nums[idx]), cnt,n,res)\n",
    "    return\n",
    "for _ in range(c):\n",
    "    n = int(input())\n",
    "    nums = [i for i in range(1,n+1)]\n",
    "    res=[]\n",
    "    dfs('1',1,n, res)\n",
    "    for i in res:\n",
    "        print(i)\n",
    "    print()\n",
    "for zero in answer:\n",
    "    for z in zero:\n",
    "        print(z)\n",
    "    print()"
   ]
  },
  {
   "cell_type": "code",
   "execution_count": null,
   "id": "8cbbeb8b-747d-485a-a24e-f923d3d0ce63",
   "metadata": {},
   "outputs": [],
   "source": []
  }
 ],
 "metadata": {
  "kernelspec": {
   "display_name": "Python 3",
   "language": "python",
   "name": "python3"
  },
  "language_info": {
   "codemirror_mode": {
    "name": "ipython",
    "version": 3
   },
   "file_extension": ".py",
   "mimetype": "text/x-python",
   "name": "python",
   "nbconvert_exporter": "python",
   "pygments_lexer": "ipython3",
   "version": "3.9.2"
  }
 },
 "nbformat": 4,
 "nbformat_minor": 5
}
