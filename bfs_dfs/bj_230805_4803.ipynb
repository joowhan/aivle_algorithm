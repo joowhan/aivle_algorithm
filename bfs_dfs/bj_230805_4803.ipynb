{
 "cells": [
  {
   "cell_type": "code",
   "execution_count": null,
   "id": "ddd44f39-0aca-4b80-bf37-6b98326bb199",
   "metadata": {},
   "outputs": [],
   "source": [
    "case = 0\n",
    "while True:\n",
    "    n,m = map(int, input().split())\n",
    "    if n ==0 and m ==0:\n",
    "        break\n",
    "    case += 1\n",
    "    graph = [[] for _ in range(n+1)]\n",
    "    for i in range(m):\n",
    "        a,b = map(int, input().split())\n",
    "        graph[a].append(b)\n",
    "        graph[b].append(a)\n",
    "    "
   ]
  },
  {
   "cell_type": "code",
   "execution_count": 3,
   "id": "a4709a04-c210-4dfa-92a2-a0559decc39b",
   "metadata": {},
   "outputs": [
    {
     "name": "stdin",
     "output_type": "stream",
     "text": [
      " 6 3\n",
      " 1 2\n",
      " 2 3\n",
      " 3 4\n"
     ]
    }
   ],
   "source": [
    "n,m = map(int, input().split())\n",
    "# if n ==0 and m ==0:\n",
    "#     break\n",
    "# case += 1\n",
    "graph = [[] for _ in range(n+1)]\n",
    "for i in range(m):\n",
    "    a,b = map(int, input().split())\n",
    "    graph[a].append(b)"
   ]
  },
  {
   "cell_type": "code",
   "execution_count": 4,
   "id": "08ec3494-03ec-4ccf-a338-35a730b61cd0",
   "metadata": {},
   "outputs": [
    {
     "data": {
      "text/plain": [
       "[[], [2], [3], [4], [], [], []]"
      ]
     },
     "execution_count": 4,
     "metadata": {},
     "output_type": "execute_result"
    }
   ],
   "source": [
    "graph"
   ]
  }
 ],
 "metadata": {
  "kernelspec": {
   "display_name": "Python 3 (ipykernel)",
   "language": "python",
   "name": "python3"
  },
  "language_info": {
   "codemirror_mode": {
    "name": "ipython",
    "version": 3
   },
   "file_extension": ".py",
   "mimetype": "text/x-python",
   "name": "python",
   "nbconvert_exporter": "python",
   "pygments_lexer": "ipython3",
   "version": "3.9.15"
  }
 },
 "nbformat": 4,
 "nbformat_minor": 5
}
