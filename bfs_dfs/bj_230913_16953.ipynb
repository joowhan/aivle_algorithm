{
 "cells": [
  {
   "cell_type": "markdown",
   "id": "7c50a51b-7dee-4a62-8dfd-8a1a11d04af2",
   "metadata": {},
   "source": [
    "문제\n",
    "정수 A를 B로 바꾸려고 한다. 가능한 연산은 다음과 같은 두 가지이다.\n",
    "\n",
    "2를 곱한다.\\\n",
    "1을 수의 가장 오른쪽에 추가한다. \\\n",
    "A를 B로 바꾸는데 필요한 연산의 최솟값을 구해보자.\n",
    "\n",
    "입력\n",
    "첫째 줄에 A, B (1 ≤ A < B ≤ 109)가 주어진다.\n",
    "\n",
    "출력\n",
    "A를 B로 바꾸는데 필요한 연산의 최솟값에 1을 더한 값을 출력한다. 만들 수 없는 경우에는 -1을 출력한다."
   ]
  },
  {
   "cell_type": "code",
   "execution_count": 1,
   "id": "242cec56-8f14-4d79-91a1-5bfb6f1f3608",
   "metadata": {},
   "outputs": [
    {
     "name": "stdin",
     "output_type": "stream",
     "text": [
      " 2 162\n"
     ]
    }
   ],
   "source": [
    "a, b = map(int,input().split())"
   ]
  },
  {
   "cell_type": "code",
   "execution_count": 2,
   "id": "cf1f369c-866e-4197-bfff-79a3235dcc19",
   "metadata": {},
   "outputs": [],
   "source": [
    "\n",
    "from collections import deque"
   ]
  },
  {
   "cell_type": "code",
   "execution_count": 14,
   "id": "fc409bd9-9f03-4d2f-b90c-a5c80fccbe9f",
   "metadata": {},
   "outputs": [
    {
     "name": "stdin",
     "output_type": "stream",
     "text": [
      " 100 40021\n"
     ]
    },
    {
     "name": "stdout",
     "output_type": "stream",
     "text": [
      "5\n"
     ]
    }
   ],
   "source": [
    "from collections import deque\n",
    "\n",
    "a, b = map(int,input().split())\n",
    "\n",
    "cnt = 1\n",
    "que = deque([(a,cnt)])\n",
    "res = int(1e9)\n",
    "while que:\n",
    "    target, tmp = que.popleft()\n",
    "    num1 =target*2\n",
    "    num2 = int(str(target)+'1')\n",
    "    cnt =tmp +1\n",
    "    if num1 == b or num2 == b:\n",
    "        if cnt < res:\n",
    "            res = cnt\n",
    "    if num1<b:\n",
    "        que.append((num1, cnt))\n",
    "    if num2<b:\n",
    "        que.append((num2,cnt))\n",
    "    # print(que)\n",
    "if res ==int(1e9):\n",
    "    print(-1)\n",
    "else:\n",
    "    print(res)"
   ]
  },
  {
   "cell_type": "code",
   "execution_count": 4,
   "id": "6e67c93f-f3f4-4520-aa94-55a016e1cb4f",
   "metadata": {},
   "outputs": [
    {
     "name": "stdout",
     "output_type": "stream",
     "text": [
      "deque([(82, 5), (84, 6), (32, 7), (161, 7)])\n"
     ]
    }
   ],
   "source": [
    "print(que)"
   ]
  },
  {
   "cell_type": "code",
   "execution_count": null,
   "id": "62f1bfe2-b820-4df4-a839-00481fe9bc9a",
   "metadata": {},
   "outputs": [],
   "source": []
  }
 ],
 "metadata": {
  "kernelspec": {
   "display_name": "Python 3",
   "language": "python",
   "name": "python3"
  },
  "language_info": {
   "codemirror_mode": {
    "name": "ipython",
    "version": 3
   },
   "file_extension": ".py",
   "mimetype": "text/x-python",
   "name": "python",
   "nbconvert_exporter": "python",
   "pygments_lexer": "ipython3",
   "version": "3.9.2"
  }
 },
 "nbformat": 4,
 "nbformat_minor": 5
}
