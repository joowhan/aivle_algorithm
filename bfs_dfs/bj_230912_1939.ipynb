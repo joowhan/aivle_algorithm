{
 "cells": [
  {
   "cell_type": "markdown",
   "id": "98759c4f-2473-41c6-a16b-2220ce2a5e73",
   "metadata": {},
   "source": [
    "## 문제\n",
    "\n",
    "N(2 ≤ N ≤ 10,000)개의 섬으로 이루어진 나라가 있다. 이들 중 몇 개의 섬 사이에는 다리가 설치되어 있어서 차들이 다닐 수 있다.\n",
    "\n",
    "영식 중공업에서는 두 개의 섬에 공장을 세워 두고 물품을 생산하는 일을 하고 있다. 물품을 생산하다 보면 공장에서 다른 공장으로 생산 중이던 물품을 수송해야 할 일이 생기곤 한다.\\\n",
    "그런데 각각의 다리마다 중량제한이 있기 때문에 무턱대고 물품을 옮길 순 없다. 만약 중량제한을 초과하는 양의 물품이 다리를 지나게 되면 다리가 무너지게 된다.\n",
    "\n",
    "한 번의 이동에서 옮길 수 있는 물품들의 중량의 최댓값을 구하는 프로그램을 작성하시오.\n",
    "\n",
    "## 입력\n",
    "\n",
    "첫째 줄에 N, M(1 ≤ M ≤ 100,000)이 주어진다. 다음 M개의 줄에는 다리에 대한 정보를 나타내는 세 정수 A, B(1 ≤ A, B ≤ N), C(1 ≤ C ≤ 1,000,000,000)가 주어진다.\\\n",
    "이는 A번 섬과 B번 섬 사이에 중량제한이 C인 다리가 존재한다는 의미이다. 서로 같은 두 섬 사이에 여러 개의 다리가 있을 수도 있으며, **모든 다리는 양방향**이다.\\\n",
    "마지막 줄에는 공장이 위치해 있는 섬의 번호를 나타내는 서로 다른 두 정수가 주어진다. 공장이 있는 두 섬을 연결하는 경로는 항상 존재하는 데이터만 입력으로 주어진다."
   ]
  },
  {
   "cell_type": "code",
   "execution_count": null,
   "id": "32bbacc7-b147-4fac-8ada-ae9bb9426135",
   "metadata": {},
   "outputs": [],
   "source": [
    "# import sys\n",
    "# input = sys.stdin.readline\n",
    "n,m = map(int, input().split())\n",
    "\n",
    "graph=[[] for _ in range(n+1)]\n",
    "for i in range(m):\n",
    "    a,b,c = map(int, input().split())\n",
    "    graph[a].append((b,c))\n",
    "    graph[b].append((a,c))\n",
    "fac1, fac2 = map(int, input().split())\n",
    "\n",
    "from collections import deque\n",
    "def bfs(x,y, weight):\n",
    "    graph[x][0]\n",
    "    visited[x][y] = weight\n",
    "    que = deque([(x,y, weight)])\n",
    "    while que:\n",
    "        nx,ny, w = que.popleft()\n",
    "        # 만약 fac2에 도달했다면 멈추기\n",
    "        # 현재 위치에서 방문할 수 있는곳은 queue에 넣고 visited 처리하기 \n",
    "            #이미 방문한 곳은 추가하지 않는다. \n",
    "            # 추가를 할 때 w와 비교해서 더 작은 것을 넣는다. "
   ]
  }
 ],
 "metadata": {
  "kernelspec": {
   "display_name": "Python 3",
   "language": "python",
   "name": "python3"
  },
  "language_info": {
   "codemirror_mode": {
    "name": "ipython",
    "version": 3
   },
   "file_extension": ".py",
   "mimetype": "text/x-python",
   "name": "python",
   "nbconvert_exporter": "python",
   "pygments_lexer": "ipython3",
   "version": "3.9.2"
  }
 },
 "nbformat": 4,
 "nbformat_minor": 5
}
