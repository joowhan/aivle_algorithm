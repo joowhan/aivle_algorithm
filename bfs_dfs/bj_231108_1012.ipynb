{
 "cells": [
  {
   "cell_type": "code",
   "execution_count": 9,
   "id": "dac877d0-8035-4c5d-b568-73af6308531a",
   "metadata": {},
   "outputs": [
    {
     "name": "stdin",
     "output_type": "stream",
     "text": [
      " 1\n",
      " 10 10 1\n",
      " 5 5\n"
     ]
    },
    {
     "name": "stdout",
     "output_type": "stream",
     "text": [
      "1\n"
     ]
    }
   ],
   "source": [
    "from collections import deque\n",
    "\n",
    "test_case = int(input())\n",
    "\n",
    "for _ in range(test_case):\n",
    "    # 가로, 세로, 배추 개수\n",
    "    m,n,k = map(int, input().split())\n",
    "    graph = [[0 for i in range(m)] for i in range(n)]\n",
    "    visited = [[0 for i in range(m)] for i in range(n)]\n",
    "    for _ in range(k):\n",
    "        a,b = map(int, input().split())\n",
    "        graph[b][a] = 1\n",
    "        \n",
    "    dx = [-1,1,0,0]\n",
    "    dy = [0,0,-1,1]\n",
    "    cnt = 0\n",
    "    for i in range(n):\n",
    "        for j in range(m):\n",
    "            queue = deque()\n",
    "            if graph[i][j] == 1 and visited[i][j] ==0:\n",
    "                queue.append([i,j])\n",
    "                visited[i][j] = 1\n",
    "                cnt +=1\n",
    "            while queue:\n",
    "                x,y = queue.popleft()\n",
    "                for i in range(4):\n",
    "                    nx = dx[i]+x\n",
    "                    ny = dy[i]+y\n",
    "                    if nx>=n or nx<0 or ny>=m or ny < 0:\n",
    "                        continue\n",
    "                    if graph[nx][ny] ==1 and visited[nx][ny]==0:\n",
    "                        visited[nx][ny] = 1\n",
    "                        queue.append([nx,ny])\n",
    "    print(cnt)"
   ]
  },
  {
   "cell_type": "code",
   "execution_count": null,
   "id": "6d78f9d3-e0b6-416e-a459-ab6ebbda12d7",
   "metadata": {},
   "outputs": [],
   "source": [
    "from collections import deque\n",
    "import sys\n",
    "\n",
    "T = int(sys.stdin.readline())\n",
    "\n",
    "for _ in range(T):\n",
    "    m,n,k = map(int, sys.stdin.readline().split())\n",
    "    #가로, 세로, 배추개수\n",
    "    board = [[0 for i in range(m)] for i in range(n)]\n",
    "    visited = [[0 for i in range(m)] for i in range(n)]\n",
    "    \n",
    "    for _ in range(k):\n",
    "        x,y = map(int, sys.stdin.readline().split())\n",
    "        board[y][x] = 1\n",
    "    \n",
    "    dx = [-1,1,0,0]\n",
    "    dy = [0,0,-1,1]\n",
    "    \n",
    "    count = 0\n",
    "    for i in range(n):\n",
    "        for j in range(m):\n",
    "            q = deque()\n",
    "            if board[i][j] == 1 and visited[i][j] == 0:\n",
    "                count += 1\n",
    "                visited[i][j] = 1\n",
    "                q.append([i,j])\n",
    "            while q:\n",
    "                x,y = q.popleft()\n",
    "                for idx in range(4):\n",
    "                    nx = x + dx[idx]\n",
    "                    ny = y + dy[idx]\n",
    "                    if ny < 0 or ny >= m or nx < 0 or nx >= n:\n",
    "                        continue\n",
    "                    if visited[nx][ny] == 0 and board[nx][ny] == 1:\n",
    "                        visited[nx][ny] = 1\n",
    "                        q.append([nx,ny])\n",
    "    print(count)"
   ]
  }
 ],
 "metadata": {
  "kernelspec": {
   "display_name": "Python 3",
   "language": "python",
   "name": "python3"
  },
  "language_info": {
   "codemirror_mode": {
    "name": "ipython",
    "version": 3
   },
   "file_extension": ".py",
   "mimetype": "text/x-python",
   "name": "python",
   "nbconvert_exporter": "python",
   "pygments_lexer": "ipython3",
   "version": "3.9.2"
  }
 },
 "nbformat": 4,
 "nbformat_minor": 5
}
