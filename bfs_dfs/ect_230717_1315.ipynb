{
 "cells": [
  {
   "cell_type": "code",
   "execution_count": 19,
   "id": "5f6244aa-e8b6-47b6-a9e4-1b7d73d62b55",
   "metadata": {},
   "outputs": [
    {
     "name": "stdin",
     "output_type": "stream",
     "text": [
      " 4 4 1 1\n"
     ]
    }
   ],
   "source": [
    "n,m,k,x = map(int, input().split())"
   ]
  },
  {
   "cell_type": "code",
   "execution_count": 20,
   "id": "23627b79-3643-462c-bb31-494b3ceed28e",
   "metadata": {},
   "outputs": [
    {
     "name": "stdin",
     "output_type": "stream",
     "text": [
      " 1 2\n",
      " 1 3 \n",
      " 2 3\n",
      " 2 4\n"
     ]
    }
   ],
   "source": [
    "graph=[]\n",
    "graph=[[] for _ in range(n+1)]\n",
    "for i in range(m):\n",
    "    a,b = map(int, input().split())\n",
    "    graph[a].append(b)"
   ]
  },
  {
   "cell_type": "code",
   "execution_count": 21,
   "id": "7b88f0d6-e586-4f1f-9466-ef437ba1134e",
   "metadata": {},
   "outputs": [],
   "source": [
    "from collections import deque\n",
    "def bfs(graph,start,visited):\n",
    "    result=[]\n",
    "    queue = deque([start])\n",
    "    visited[start] = True\n",
    "    count = 0\n",
    "    while queue:\n",
    "        v = queue.popleft()\n",
    "        count += 1\n",
    "        for i in graph[v]:\n",
    "            if not visited[i]:\n",
    "                if count == k:\n",
    "                    result.append(i)\n",
    "                queue.append(i)\n",
    "                visited[i] = True\n",
    "    return result"
   ]
  },
  {
   "cell_type": "code",
   "execution_count": 23,
   "id": "2f6ae7ab-5e3e-41c4-a984-e354d6880933",
   "metadata": {},
   "outputs": [
    {
     "name": "stdout",
     "output_type": "stream",
     "text": [
      "2\n",
      "3\n"
     ]
    }
   ],
   "source": [
    "visited=[False]*(n+1)\n",
    "res = bfs(graph, x, visited)\n",
    "if len(res)<1:\n",
    "    print(-1)\n",
    "else:\n",
    "    for i in res:\n",
    "        print(i)"
   ]
  },
  {
   "cell_type": "code",
   "execution_count": null,
   "id": "d819bdcc-f036-4e6a-9065-02cbb6bef205",
   "metadata": {},
   "outputs": [],
   "source": []
  }
 ],
 "metadata": {
  "kernelspec": {
   "display_name": "Python 3",
   "language": "python",
   "name": "python3"
  },
  "language_info": {
   "codemirror_mode": {
    "name": "ipython",
    "version": 3
   },
   "file_extension": ".py",
   "mimetype": "text/x-python",
   "name": "python",
   "nbconvert_exporter": "python",
   "pygments_lexer": "ipython3",
   "version": "3.9.2"
  }
 },
 "nbformat": 4,
 "nbformat_minor": 5
}
