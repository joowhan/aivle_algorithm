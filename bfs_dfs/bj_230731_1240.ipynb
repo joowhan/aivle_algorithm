{
 "cells": [
  {
   "cell_type": "code",
   "execution_count": null,
   "id": "77089e60-e9b2-4800-bf38-2d56c4f3fcf8",
   "metadata": {},
   "outputs": [
    {
     "name": "stdin",
     "output_type": "stream",
     "text": [
      " 4 2\n"
     ]
    }
   ],
   "source": [
    "n,m = map(int, input().split())"
   ]
  },
  {
   "cell_type": "code",
   "execution_count": null,
   "id": "4c1e467b-d58b-452f-b6ee-73c39d17a2db",
   "metadata": {},
   "outputs": [
    {
     "name": "stdin",
     "output_type": "stream",
     "text": [
      " 2 1 2\n",
      " 4 3 2\n",
      " 1 4 3\n"
     ]
    }
   ],
   "source": [
    "#graph를 저장하는 방법\n",
    "graph=[[] for _ in range(n+1)]\n",
    "for _ in range(n-1):\n",
    "    a,b,c = map(int, input().split())\n",
    "    graph[a].append((b,c))\n",
    "    graph[b].append((a,c))\n"
   ]
  },
  {
   "cell_type": "code",
   "execution_count": null,
   "id": "fa3f9314-c43b-42dd-99db-ba3c5ee9f5b8",
   "metadata": {},
   "outputs": [
    {
     "data": {
      "text/plain": [
       "[[], [(2, 2), (4, 3)], [(1, 2)], [(4, 2)], [(3, 2), (1, 3)]]"
      ]
     },
     "execution_count": 4,
     "metadata": {},
     "output_type": "execute_result"
    }
   ],
   "source": [
    "graph"
   ]
  },
  {
   "cell_type": "code",
   "execution_count": 30,
   "id": "6410eea2-46f4-4b00-9fbe-b1238fb410ad",
   "metadata": {},
   "outputs": [],
   "source": [
    "def dfs(start, result):\n",
    "    #시작 노드의 모든 노드 탐색\n",
    "    # visited[start] = True\n",
    "    for node in graph[start]:\n",
    "        #target을 탐색\n",
    "        next_node,cost = node[0], node[1]\n",
    "        # 만약 목표값과 같다면(탈출 조건을 어떻게?) -> 까다롭다..!\n",
    "        # if next_node == end:\n",
    "        #     visited[next_node] = True\n",
    "        #     result += cost\n",
    "        #     return result\n",
    "        # 첫 방문\n",
    "        if visited[next_node] == False:\n",
    "            result = cost + dist[start]\n",
    "            visited[next_node] = True\n",
    "            dist[next_node] = result\n",
    "            dfs(next_node, result)\n",
    "        # print(temp, node)"
   ]
  },
  {
   "cell_type": "code",
   "execution_count": 32,
   "id": "40f0845a-16d3-4dfa-b583-0f327282a58d",
   "metadata": {},
   "outputs": [
    {
     "name": "stdin",
     "output_type": "stream",
     "text": [
      " 1 2\n",
      " 3 2\n"
     ]
    },
    {
     "name": "stdout",
     "output_type": "stream",
     "text": [
      "2\n",
      "7\n"
     ]
    }
   ],
   "source": [
    "import sys\n",
    "sys.setrecursionlimit(int(1e5))\n",
    "res=[]\n",
    "for _ in range(m):\n",
    "    start, end = map(int, input().split())\n",
    "    visited=[False for _ in range(n+1)]\n",
    "    dist= [-1 for _ in range(n+1)]\n",
    "    visited[start]=True\n",
    "    dist[start] =0\n",
    "    dfs(start, 0)\n",
    "    # print(end, dist)\n",
    "    res.append(dist[end])\n",
    "for answer in res:\n",
    "    print(answer)"
   ]
  },
  {
   "cell_type": "code",
   "execution_count": 30,
   "id": "e26aa4c4-6205-4ad3-ad52-1bd8d29a4f91",
   "metadata": {},
   "outputs": [
    {
     "data": {
      "text/plain": [
       "2"
      ]
     },
     "execution_count": 30,
     "metadata": {},
     "output_type": "execute_result"
    }
   ],
   "source": [
    "distA\n",
    "visited=[False for _ in range(n+1)]\n",
    "dist= [-1 for _ in range(n+1)]\n",
    "dfs(start, end, 0)"
   ]
  },
  {
   "cell_type": "code",
   "execution_count": 7,
   "id": "af2a9908-5269-44df-9ca2-c21261c3be61",
   "metadata": {},
   "outputs": [
    {
     "data": {
      "text/plain": [
       "[-1, 5, 7, -1, 2]"
      ]
     },
     "execution_count": 7,
     "metadata": {},
     "output_type": "execute_result"
    }
   ],
   "source": [
    "dist"
   ]
  },
  {
   "cell_type": "code",
   "execution_count": 3,
   "id": "7ca2387b-dbe9-4a5b-a90e-0fe01787e81f",
   "metadata": {},
   "outputs": [
    {
     "ename": "NameError",
     "evalue": "name 'start' is not defined",
     "output_type": "error",
     "traceback": [
      "\u001b[0;31m---------------------------------------------------------------------------\u001b[0m",
      "\u001b[0;31mNameError\u001b[0m                                 Traceback (most recent call last)",
      "\u001b[0;32m<ipython-input-3-f6fd1656d79b>\u001b[0m in \u001b[0;36m<module>\u001b[0;34m\u001b[0m\n\u001b[0;32m----> 1\u001b[0;31m \u001b[0mstart\u001b[0m\u001b[0;34m\u001b[0m\u001b[0;34m\u001b[0m\u001b[0m\n\u001b[0m",
      "\u001b[0;31mNameError\u001b[0m: name 'start' is not defined"
     ]
    }
   ],
   "source": [
    "start"
   ]
  },
  {
   "cell_type": "code",
   "execution_count": null,
   "id": "e80dc31d-183b-4af0-b974-ab457f8f1460",
   "metadata": {},
   "outputs": [],
   "source": []
  }
 ],
 "metadata": {
  "kernelspec": {
   "display_name": "Python 3",
   "language": "python",
   "name": "python3"
  },
  "language_info": {
   "codemirror_mode": {
    "name": "ipython",
    "version": 3
   },
   "file_extension": ".py",
   "mimetype": "text/x-python",
   "name": "python",
   "nbconvert_exporter": "python",
   "pygments_lexer": "ipython3",
   "version": "3.9.2"
  }
 },
 "nbformat": 4,
 "nbformat_minor": 5
}
