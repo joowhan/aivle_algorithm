{
 "cells": [
  {
   "cell_type": "code",
   "execution_count": null,
   "id": "03b5ceec-3388-441e-96d7-b572920a68fa",
   "metadata": {},
   "outputs": [],
   "source": [
    "import sys\n",
    "input = sys.stdin.readline\n",
    "\n",
    "n,m = map(int, input().split())\n",
    "\n",
    "graph=[[] for _ in range(n+1)]\n",
    "\n",
    "for i in range(m):\n",
    "    a,b = map(int, input().split())\n",
    "    graph[a].append(b)\n",
    "    graph[b].append(a)\n",
    "\n",
    "def dfs(x,visited):\n",
    "    s = 0\n",
    "    answer = 0\n",
    "    visited[x] = 1\n",
    "    for y in graph[x]:\n",
    "        if not visited[y]:\n",
    "            # visited[y] = 1\n",
    "            # print(y)\n",
    "            dfs(y, visited)\n",
    "            answer +=1\n",
    "    return answer\n",
    "visited = [0 for _ in range(n+1)]\n",
    "visited[1] = 1\n",
    "dfs(1, visited)\n",
    "print(sum(visited)-1)"
   ]
  }
 ],
 "metadata": {
  "kernelspec": {
   "display_name": "Python 3",
   "language": "python",
   "name": "python3"
  },
  "language_info": {
   "codemirror_mode": {
    "name": "ipython",
    "version": 3
   },
   "file_extension": ".py",
   "mimetype": "text/x-python",
   "name": "python",
   "nbconvert_exporter": "python",
   "pygments_lexer": "ipython3",
   "version": "3.9.2"
  }
 },
 "nbformat": 4,
 "nbformat_minor": 5
}
