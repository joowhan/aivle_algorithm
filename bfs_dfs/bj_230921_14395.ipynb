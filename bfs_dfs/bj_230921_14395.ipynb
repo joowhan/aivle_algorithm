{
 "cells": [
  {
   "cell_type": "code",
   "execution_count": 18,
   "id": "e64d8be8-23cb-4ce7-812e-8ee5b06e4b12",
   "metadata": {},
   "outputs": [
    {
     "name": "stdin",
     "output_type": "stream",
     "text": [
      " 10 1\n"
     ]
    }
   ],
   "source": [
    "s, t = map(int, input().split())"
   ]
  },
  {
   "cell_type": "code",
   "execution_count": 19,
   "id": "7b6135d2-b995-4457-b346-01258a6b9196",
   "metadata": {},
   "outputs": [],
   "source": [
    "from collections import deque\n",
    "def cal(i,temp):\n",
    "    if i==0:\n",
    "        temp *=temp\n",
    "    elif i==1:\n",
    "        temp +=temp\n",
    "    # elif i==2:\n",
    "    #     temp -=temp\n",
    "    elif i==2 and temp!=0:\n",
    "        temp /=temp\n",
    "    return temp\n",
    "\n",
    "opers = {0:'*',1:'+',2:'/'}\n",
    "\n",
    "def bfs(s,t):\n",
    "    if s== t:\n",
    "        return 0\n",
    "    \n",
    "    visited = set()\n",
    "    que = deque([(s, '')])\n",
    "    \n",
    "    while que:\n",
    "        x, op  = que.popleft()\n",
    "        if x == t:\n",
    "            return op\n",
    "        \n",
    "        for i in opers:\n",
    "            tmp = cal(i,x)\n",
    "            if tmp <= t and tmp != 0 and tmp not in visited:\n",
    "                swim = op +opers[i]\n",
    "                que.append((tmp, swim))\n",
    "                visited.add(tmp)\n",
    "    return -1"
   ]
  },
  {
   "cell_type": "code",
   "execution_count": 20,
   "id": "9c3e45fe-e656-4360-b5c5-26af1f516e92",
   "metadata": {
    "tags": []
   },
   "outputs": [
    {
     "name": "stdout",
     "output_type": "stream",
     "text": [
      "/\n"
     ]
    }
   ],
   "source": [
    "print(bfs(s,t))"
   ]
  },
  {
   "cell_type": "code",
   "execution_count": null,
   "id": "f3f4eefe-de57-4d7e-8698-62a0eafc0a71",
   "metadata": {},
   "outputs": [],
   "source": []
  }
 ],
 "metadata": {
  "kernelspec": {
   "display_name": "Python 3",
   "language": "python",
   "name": "python3"
  },
  "language_info": {
   "codemirror_mode": {
    "name": "ipython",
    "version": 3
   },
   "file_extension": ".py",
   "mimetype": "text/x-python",
   "name": "python",
   "nbconvert_exporter": "python",
   "pygments_lexer": "ipython3",
   "version": "3.9.2"
  }
 },
 "nbformat": 4,
 "nbformat_minor": 5
}
