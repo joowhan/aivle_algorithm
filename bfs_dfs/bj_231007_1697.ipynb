{
 "cells": [
  {
   "cell_type": "code",
   "execution_count": 7,
   "id": "8c68e138-5ea3-4456-aa5c-6bbb4353e7db",
   "metadata": {},
   "outputs": [
    {
     "name": "stdin",
     "output_type": "stream",
     "text": [
      " 5017\n"
     ]
    },
    {
     "ename": "ValueError",
     "evalue": "not enough values to unpack (expected 2, got 1)",
     "output_type": "error",
     "traceback": [
      "\u001b[0;31m---------------------------------------------------------------------------\u001b[0m",
      "\u001b[0;31mValueError\u001b[0m                                Traceback (most recent call last)",
      "\u001b[0;32m<ipython-input-7-d4f42304478d>\u001b[0m in \u001b[0;36m<module>\u001b[0;34m\u001b[0m\n\u001b[1;32m      1\u001b[0m \u001b[0;32mfrom\u001b[0m \u001b[0mcollections\u001b[0m \u001b[0;32mimport\u001b[0m \u001b[0mdeque\u001b[0m\u001b[0;34m\u001b[0m\u001b[0;34m\u001b[0m\u001b[0m\n\u001b[1;32m      2\u001b[0m \u001b[0;34m\u001b[0m\u001b[0m\n\u001b[0;32m----> 3\u001b[0;31m \u001b[0mn\u001b[0m\u001b[0;34m,\u001b[0m\u001b[0mk\u001b[0m \u001b[0;34m=\u001b[0m \u001b[0mmap\u001b[0m\u001b[0;34m(\u001b[0m\u001b[0mint\u001b[0m\u001b[0;34m,\u001b[0m \u001b[0minput\u001b[0m\u001b[0;34m(\u001b[0m\u001b[0;34m)\u001b[0m\u001b[0;34m.\u001b[0m\u001b[0msplit\u001b[0m\u001b[0;34m(\u001b[0m\u001b[0;34m)\u001b[0m\u001b[0;34m)\u001b[0m\u001b[0;34m\u001b[0m\u001b[0;34m\u001b[0m\u001b[0m\n\u001b[0m\u001b[1;32m      4\u001b[0m \u001b[0mvisited\u001b[0m \u001b[0;34m=\u001b[0m \u001b[0;34m[\u001b[0m\u001b[0;36m0\u001b[0m \u001b[0;32mfor\u001b[0m \u001b[0m_\u001b[0m \u001b[0;32min\u001b[0m \u001b[0mrange\u001b[0m\u001b[0;34m(\u001b[0m\u001b[0;36m100000\u001b[0m\u001b[0;34m)\u001b[0m\u001b[0;34m]\u001b[0m\u001b[0;34m\u001b[0m\u001b[0;34m\u001b[0m\u001b[0m\n\u001b[1;32m      5\u001b[0m \u001b[0mqueue\u001b[0m \u001b[0;34m=\u001b[0m \u001b[0mdeque\u001b[0m\u001b[0;34m(\u001b[0m\u001b[0;34m[\u001b[0m\u001b[0;34m(\u001b[0m\u001b[0mn\u001b[0m\u001b[0;34m,\u001b[0m\u001b[0;36m0\u001b[0m\u001b[0;34m)\u001b[0m\u001b[0;34m]\u001b[0m\u001b[0;34m)\u001b[0m\u001b[0;34m\u001b[0m\u001b[0;34m\u001b[0m\u001b[0m\n",
      "\u001b[0;31mValueError\u001b[0m: not enough values to unpack (expected 2, got 1)"
     ]
    }
   ],
   "source": [
    "from collections import deque\n",
    "\n",
    "n,k = map(int, input().split())\n",
    "visited = [0 for _ in range(100000+1)]\n",
    "queue = deque([(n,0)])\n",
    "visited[n] = 1\n",
    "\n",
    "while queue:\n",
    "    curr, sec = queue.popleft()\n",
    "    if curr == k:\n",
    "        print(sec)\n",
    "        break\n",
    "    if 0<=curr+1<=100000:\n",
    "        if visited[curr+1]==0:\n",
    "            queue.append((curr+1, sec+1))\n",
    "            visited[curr+1] = 1\n",
    "    if 0<=curr*2 <=100000:\n",
    "        if visited[curr*2]==0:\n",
    "            queue.append((curr*2, sec+1))\n",
    "            visited[curr*2] = 1\n",
    "    if 0<=curr-1<=100000:\n",
    "        if visited[curr-1]==0:\n",
    "            queue.append((curr-1, sec+1))\n",
    "            visited[curr-1] = 1"
   ]
  },
  {
   "cell_type": "code",
   "execution_count": null,
   "id": "b94f91e1-d3e1-4ab8-8bd3-846bdb099850",
   "metadata": {},
   "outputs": [],
   "source": [
    "from collections import deque\n",
    "\n",
    "n,k = map(int, input().split())\n",
    "\n",
    "def bfs(n,k):\n",
    "    last = max(n,k)\n",
    "    visited = [0 for i in range(100000+1)]\n",
    "    q = deque()\n",
    "    q.append(n)\n",
    "    visited[n] = 1\n",
    "    \n",
    "    while q:\n",
    "        cur = q.popleft()\n",
    "        if cur == k:\n",
    "            return visited[k]\n",
    "        for x in (cur+1,cur-1,cur*2):\n",
    "            if 0 <= x <= 100000 and visited[x] == 0:\n",
    "                visited[x] = visited[cur]+1\n",
    "                q.append(x)\n",
    "                \n",
    "answer = bfs(n,k)\n"
   ]
  }
 ],
 "metadata": {
  "kernelspec": {
   "display_name": "Python 3",
   "language": "python",
   "name": "python3"
  },
  "language_info": {
   "codemirror_mode": {
    "name": "ipython",
    "version": 3
   },
   "file_extension": ".py",
   "mimetype": "text/x-python",
   "name": "python",
   "nbconvert_exporter": "python",
   "pygments_lexer": "ipython3",
   "version": "3.9.2"
  }
 },
 "nbformat": 4,
 "nbformat_minor": 5
}
