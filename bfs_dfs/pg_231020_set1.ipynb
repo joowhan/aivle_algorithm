{
 "cells": [
  {
   "cell_type": "code",
   "execution_count": null,
   "id": "999eec48-44bb-4178-89ff-5bb197f714b7",
   "metadata": {},
   "outputs": [],
   "source": [
    "from collections import deque\n",
    "# 현재 수에 +,-를 붙이고 기존의 수와 더한다. \n",
    "# queue에 넣는다.\n",
    "\n",
    "def solution(numbers, target):\n",
    "    answer = 0\n",
    "    queue = deque([(numbers[0],0), (numbers[0]*(-1), 0)])\n",
    "    while queue:\n",
    "        num, i = queue.popleft()\n",
    "        i +=1\n",
    "        if i < len(numbers):\n",
    "            # +,-를 붙여서 queue에 집어넣기, i++\n",
    "            queue.append((num+numbers[i], i))\n",
    "            queue.append((num-numbers[i], i))\n",
    "        # for문 끝까지 탐색했을 때\n",
    "        else:  \n",
    "            if num == target:\n",
    "                answer +=1\n",
    "    return answer"
   ]
  }
 ],
 "metadata": {
  "kernelspec": {
   "display_name": "Python 3",
   "language": "python",
   "name": "python3"
  },
  "language_info": {
   "codemirror_mode": {
    "name": "ipython",
    "version": 3
   },
   "file_extension": ".py",
   "mimetype": "text/x-python",
   "name": "python",
   "nbconvert_exporter": "python",
   "pygments_lexer": "ipython3",
   "version": "3.9.2"
  }
 },
 "nbformat": 4,
 "nbformat_minor": 5
}
