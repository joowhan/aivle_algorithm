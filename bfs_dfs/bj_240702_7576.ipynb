{
 "cells": [
  {
   "cell_type": "code",
   "execution_count": 1,
   "id": "fdc5bc92-aa23-41a1-a882-5fdbdbabda17",
   "metadata": {},
   "outputs": [],
   "source": [
    "import sys\n",
    "#input=sys.stdin.readline\n",
    "\n",
    "dx=[-1,1,0,0]\n",
    "dy=[0,0,1,-1]\n",
    "\n",
    "def bfs():\n",
    "    \n",
    "\n",
    "m,n = map(int, input().split())\n",
    "visited=[[0 for _ in range(m)] for _ in range(n)]\n",
    "\n"
   ]
  },
  {
   "cell_type": "code",
   "execution_count": null,
   "id": "35ab16ea-5c96-4561-b86a-c10a8e9227f2",
   "metadata": {},
   "outputs": [],
   "source": [
    "    "
   ]
  }
 ],
 "metadata": {
  "kernelspec": {
   "display_name": "Python 3 (ipykernel)",
   "language": "python",
   "name": "python3"
  },
  "language_info": {
   "codemirror_mode": {
    "name": "ipython",
    "version": 3
   },
   "file_extension": ".py",
   "mimetype": "text/x-python",
   "name": "python",
   "nbconvert_exporter": "python",
   "pygments_lexer": "ipython3",
   "version": "3.8.18"
  }
 },
 "nbformat": 4,
 "nbformat_minor": 5
}
