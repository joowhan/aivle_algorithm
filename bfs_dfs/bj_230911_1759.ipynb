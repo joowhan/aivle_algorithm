{
 "cells": [
  {
   "cell_type": "markdown",
   "id": "384b9858-9083-4569-8a0e-0345d877828d",
   "metadata": {},
   "source": [
    "바로 어제 최백준 조교가 방 열쇠를 주머니에 넣은 채 깜빡하고 서울로 가 버리는 황당한 상황에 직면한 조교들은, 702호에 새로운 보안 시스템을 설치하기로 하였다. 이 보안 시스템은 열쇠가 아닌 암호로 동작하게 되어 있는 시스템이다.\\\n",
    "\n",
    "암호는 서로 다른 L개의 알파벳 소문자들로 구성되며 최소 한 개의 모음(a, e, i, o, u)과 최소 두 개의 자음으로 구성되어 있다고 알려져 있다. 또한 정렬된 문자열을 선호하는 조교들의 성향으로 미루어 보아 암호를 이루는 알파벳이 암호에서 증가하는 순서로 배열되었을 것이라고 추측된다. 즉, abc는 가능성이 있는 암호이지만 bac는 그렇지 않다.\\\n",
    "\n",
    "새 보안 시스템에서 조교들이 암호로 사용했을 법한 문자의 종류는 C가지가 있다고 한다. 이 알파벳을 입수한 민식, 영식 형제는 조교들의 방에 침투하기 위해 암호를 추측해 보려고 한다. C개의 문자들이 모두 주어졌을 때, 가능성 있는 암호들을 모두 구하는 프로그램을 작성하시오.\\\n",
    "\n",
    "입력\\\n",
    "첫째 줄에 두 정수 L, C가 주어진다. (3 ≤ L ≤ C ≤ 15) 다음 줄에는 C개의 문자들이 공백으로 구분되어 주어진다. 주어지는 문자들은 알파벳 소문자이며, 중복되는 것은 없다.\\\n",
    "\n",
    "출력\\\n",
    "각 줄에 하나씩, 사전식으로 가능성 있는 암호를 모두 출력한다."
   ]
  },
  {
   "cell_type": "code",
   "execution_count": 5,
   "id": "3eb1badc-db28-4c33-b8bb-b81cbc6e7372",
   "metadata": {},
   "outputs": [],
   "source": [
    "from itertools import combinations"
   ]
  },
  {
   "cell_type": "code",
   "execution_count": 2,
   "id": "a56e01aa-226a-401a-8e31-fef07107412f",
   "metadata": {},
   "outputs": [
    {
     "name": "stdin",
     "output_type": "stream",
     "text": [
      " 4 6\n"
     ]
    }
   ],
   "source": [
    "#서로 다른 L개의 알파벳, 문자의 종류는 C개 있다. 가능성 있는 암호는 총 몇개?\n",
    "# import sys\n",
    "# input = sys.stdin.readline\n",
    "l,c = map(int, input().split())"
   ]
  },
  {
   "cell_type": "code",
   "execution_count": 38,
   "id": "0458f489-8e59-4ed4-9dd3-6041fb53d1e8",
   "metadata": {},
   "outputs": [
    {
     "name": "stdin",
     "output_type": "stream",
     "text": [
      " a t c i s w\n"
     ]
    }
   ],
   "source": [
    "candidate = list(input().split())"
   ]
  },
  {
   "cell_type": "code",
   "execution_count": 27,
   "id": "6db174fe-2a41-4892-9705-37aac3178f84",
   "metadata": {},
   "outputs": [],
   "source": [
    "moeum = ['a','e', 'i', 'o', 'u']\n",
    "vowels =[]\n",
    "consonants = []\n",
    "# 자모 분리\n",
    "for alpha in candidate:\n",
    "    if alpha in moeum:\n",
    "        vowels.append(alpha)\n",
    "    else:\n",
    "        consonants.append(alpha)\n",
    "# 뽑는 것은 순서 상관 없도록, 중복 허용X   -> combinations로 뽑는다.   \n",
    "# vows 중 1개, cons 중 2개 \n",
    "# 여기에 있는 것들은 빼고 나머지(c-3) 중에서 l-3개 뽑기\n",
    "# 뽑은 총 l개를 증가하는 순서로 sort\n"
   ]
  },
  {
   "cell_type": "code",
   "execution_count": 30,
   "id": "85e62fca-d64f-4cd9-9bd8-df1b0b1c6f32",
   "metadata": {},
   "outputs": [],
   "source": [
    "vow = list(combinations(vowels,1))# 무조건 하나만 뽑는다. "
   ]
  },
  {
   "cell_type": "code",
   "execution_count": 31,
   "id": "ab7c0835-92f7-4ef5-8d60-0d2309f8162b",
   "metadata": {},
   "outputs": [],
   "source": [
    "cons = list(combinations(consonants,2))"
   ]
  },
  {
   "cell_type": "code",
   "execution_count": 58,
   "id": "4db04ff1-1d09-4ad0-8601-86a6e7007348",
   "metadata": {},
   "outputs": [
    {
     "name": "stdout",
     "output_type": "stream",
     "text": [
      "acit\n",
      "acst\n",
      "actw\n",
      "aist\n",
      "astw\n",
      "aitw\n",
      "acis\n",
      "acsw\n",
      "aciw\n",
      "aisw\n",
      "cist\n",
      "citw\n",
      "istw\n",
      "cisw\n"
     ]
    }
   ],
   "source": [
    "answer=[]\n",
    "for v in vow:\n",
    "    for j in cons:\n",
    "        password=[v[0], j[0], j[1]]\n",
    "        #for문으로 이 3개가 포함되지 않은 값들을 찾고, 여기서 다시 l-3개를 뽑는다?\n",
    "        temp=[]\n",
    "        for k in candidate:\n",
    "            if k != v[0] and k!=j[0] and k!=j[1]:\n",
    "                temp.append(k)\n",
    "        rest = list(combinations(temp,l-3))\n",
    "        # print(password)\n",
    "        for r in rest:\n",
    "            password=[v[0], j[0], j[1]]\n",
    "            password.append(r[0])\n",
    "            password.sort()\n",
    "            if password not in answer:\n",
    "                answer.append(password)\n",
    "            # print(\":\",answer)\n",
    "for a in answer:\n",
    "    print(''.join(a))"
   ]
  },
  {
   "cell_type": "code",
   "execution_count": 55,
   "id": "7542d91e-0f74-4dd2-bd2a-c73e1911b878",
   "metadata": {},
   "outputs": [
    {
     "name": "stdout",
     "output_type": "stream",
     "text": [
      "acit\n",
      "acst\n",
      "actw\n",
      "aist\n",
      "astw\n",
      "aitw\n",
      "acis\n",
      "acsw\n",
      "aciw\n",
      "aisw\n",
      "cist\n",
      "citw\n",
      "istw\n",
      "cisw\n"
     ]
    }
   ],
   "source": []
  },
  {
   "cell_type": "code",
   "execution_count": 59,
   "id": "54d1dfb3-17bd-4e33-ac0a-84f0e528ee5f",
   "metadata": {},
   "outputs": [
    {
     "name": "stdin",
     "output_type": "stream",
     "text": [
      " 4 6\n",
      " a t c i s w\n"
     ]
    },
    {
     "name": "stdout",
     "output_type": "stream",
     "text": [
      "acis\n",
      "acit\n",
      "aciw\n",
      "acst\n",
      "acsw\n",
      "actw\n",
      "aist\n",
      "aisw\n",
      "aitw\n",
      "astw\n",
      "cist\n",
      "cisw\n",
      "citw\n",
      "istw\n"
     ]
    }
   ],
   "source": [
    "from itertools import combinations\n",
    "# import sys\n",
    "# input = sys.stdin.readline\n",
    "l,c = map(int, input().split())\n",
    "candidate = list(input().split())\n",
    "\n",
    "vowels = ['a','e', 'i', 'o', 'u']\n",
    "candidate.sort()\n",
    "\n",
    "for password in combinations(candidate, l):\n",
    "    cnt = 0\n",
    "    for ch in password:\n",
    "        if ch in vowels:\n",
    "            cnt +=1\n",
    "    if cnt >=1 and l-cnt >=2:\n",
    "        print(''.join(password))\n"
   ]
  },
  {
   "cell_type": "code",
   "execution_count": null,
   "id": "9489ed90-b649-47ba-a036-3c7293bdf20d",
   "metadata": {},
   "outputs": [],
   "source": [
    "import copy\n",
    "# nCr\n",
    "string=[]\n",
    "result=[]\n",
    "visited=[]\n",
    "def combination(candidate, r, index):\n",
    "    # r개를 뽑았다면 result에 넣고 탐색 끝\n",
    "    if len(string) == r:\n",
    "        result.append(copy.deepcopy(string))\n",
    "        return\n",
    "    #index 0부터 탐색한다. 이미 뽑았다면 다음 인덱스부터 뽑는다. \n",
    "    for i in range(index, len(candidate)):\n",
    "        # 이미 뽑았다면\n",
    "        if i in visited:\n",
    "            continue\n",
    "        string.append(candidate[i])\n",
    "        visited.append(i)\n",
    "        combination(candidate, r, i+1)\n",
    "        string.pop()\n",
    "        visited.pop()"
   ]
  }
 ],
 "metadata": {
  "kernelspec": {
   "display_name": "Python 3",
   "language": "python",
   "name": "python3"
  },
  "language_info": {
   "codemirror_mode": {
    "name": "ipython",
    "version": 3
   },
   "file_extension": ".py",
   "mimetype": "text/x-python",
   "name": "python",
   "nbconvert_exporter": "python",
   "pygments_lexer": "ipython3",
   "version": "3.9.2"
  }
 },
 "nbformat": 4,
 "nbformat_minor": 5
}
