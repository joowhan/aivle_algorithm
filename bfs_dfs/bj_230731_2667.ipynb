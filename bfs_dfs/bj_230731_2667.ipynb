{
 "cells": [
  {
   "cell_type": "code",
   "execution_count": 1,
   "id": "5cbad3cb-8e56-4dfd-8a05-8b51c3900b56",
   "metadata": {},
   "outputs": [
    {
     "name": "stdin",
     "output_type": "stream",
     "text": [
      " 7\n"
     ]
    }
   ],
   "source": [
    "n = int(input())"
   ]
  },
  {
   "cell_type": "code",
   "execution_count": 6,
   "id": "11d66c15-0998-4724-8b26-3a7038d9ae41",
   "metadata": {},
   "outputs": [
    {
     "name": "stdin",
     "output_type": "stream",
     "text": [
      " 0110100\n",
      " 0110101\n",
      " 1110101\n",
      " 0000111\n",
      " 0100000\n",
      " 0111110\n",
      " 0111000\n"
     ]
    }
   ],
   "source": [
    "# 0110100\n",
    "# 0110101\n",
    "# 1110101\n",
    "# 0000111\n",
    "# 0100000\n",
    "# 0111110\n",
    "# 0111000\n",
    "graph =[]\n",
    "for _ in range(n):\n",
    "    graph.append(list(input()))"
   ]
  },
  {
   "cell_type": "code",
   "execution_count": 7,
   "id": "3f67253c-f8b9-4622-8a8c-be6a9d98ba7c",
   "metadata": {},
   "outputs": [
    {
     "data": {
      "text/plain": [
       "[['0', '1', '1', '0', '1', '0', '0'],\n",
       " ['0', '1', '1', '0', '1', '0', '1'],\n",
       " ['1', '1', '1', '0', '1', '0', '1'],\n",
       " ['0', '0', '0', '0', '1', '1', '1'],\n",
       " ['0', '1', '0', '0', '0', '0', '0'],\n",
       " ['0', '1', '1', '1', '1', '1', '0'],\n",
       " ['0', '1', '1', '1', '0', '0', '0']]"
      ]
     },
     "execution_count": 7,
     "metadata": {},
     "output_type": "execute_result"
    }
   ],
   "source": []
  },
  {
   "cell_type": "code",
   "execution_count": null,
   "id": "5723b3ba-f1b6-4a13-922b-ba9c42ff8214",
   "metadata": {},
   "outputs": [],
   "source": []
  }
 ],
 "metadata": {
  "kernelspec": {
   "display_name": "Python 3",
   "language": "python",
   "name": "python3"
  },
  "language_info": {
   "codemirror_mode": {
    "name": "ipython",
    "version": 3
   },
   "file_extension": ".py",
   "mimetype": "text/x-python",
   "name": "python",
   "nbconvert_exporter": "python",
   "pygments_lexer": "ipython3",
   "version": "3.9.2"
  }
 },
 "nbformat": 4,
 "nbformat_minor": 5
}
