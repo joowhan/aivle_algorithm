{
 "cells": [
  {
   "cell_type": "code",
   "execution_count": 1,
   "id": "5cbad3cb-8e56-4dfd-8a05-8b51c3900b56",
   "metadata": {},
   "outputs": [
    {
     "name": "stdin",
     "output_type": "stream",
     "text": [
      " 7\n"
     ]
    }
   ],
   "source": [
    "n = int(input())"
   ]
  },
  {
   "cell_type": "code",
   "execution_count": 2,
   "id": "11d66c15-0998-4724-8b26-3a7038d9ae41",
   "metadata": {},
   "outputs": [
    {
     "name": "stdin",
     "output_type": "stream",
     "text": [
      " 0110100\n",
      " 0110101\n",
      " 1110101\n",
      " 0000111\n",
      " 0100000\n",
      " 0111110\n",
      " 0111000\n"
     ]
    }
   ],
   "source": [
    "# 0110100\n",
    "# 0110101\n",
    "# 1110101\n",
    "# 0000111\n",
    "# 0100000\n",
    "# 0111110\n",
    "# 0111000\n",
    "graph =[]\n",
    "for _ in range(n):\n",
    "    graph.append(list(input()))"
   ]
  },
  {
   "cell_type": "code",
   "execution_count": 69,
   "id": "3f67253c-f8b9-4622-8a8c-be6a9d98ba7c",
   "metadata": {},
   "outputs": [],
   "source": [
    "dx = [-1,1,0,0]\n",
    "dy = [0,0,-1,1]\n",
    "\n",
    "def dfs(x,y):\n",
    "    result = 1\n",
    "    if x<0 or x>=n or y<0 or y>=n or graph[x][y]==0:\n",
    "        return 0\n",
    "    if graph[x][y] =='1':\n",
    "        graph[x][y] = '0'\n",
    "        for i in range(4):\n",
    "            nx = x+ dx[i]\n",
    "            ny = y+ dy[i]\n",
    "            result +=dfs(nx,ny)\n",
    "    else:\n",
    "        return 0\n",
    "    return result"
   ]
  },
  {
   "cell_type": "code",
   "execution_count": 77,
   "id": "5723b3ba-f1b6-4a13-922b-ba9c42ff8214",
   "metadata": {},
   "outputs": [
    {
     "name": "stdout",
     "output_type": "stream",
     "text": [
      "3\n",
      "7\n",
      "8\n",
      "9\n"
     ]
    }
   ],
   "source": [
    "addr = []\n",
    "for i in range(n):\n",
    "    for j in range(n):\n",
    "        if graph[i][j] =='1':\n",
    "            count = dfs(i,j)\n",
    "            if count >0:\n",
    "                addr.append(count)\n",
    "addr.sort()\n",
    "print(len(addr))\n",
    "for home in addr:\n",
    "    print(home)"
   ]
  },
  {
   "cell_type": "code",
   "execution_count": null,
   "id": "4afeec77-449b-46df-8005-f34343144886",
   "metadata": {},
   "outputs": [],
   "source": []
  },
  {
   "cell_type": "code",
   "execution_count": 76,
   "id": "4d1977f3-4056-4a1f-a2d6-baeaca02319e",
   "metadata": {},
   "outputs": [],
   "source": [
    "graph = [['0', '1', '1', '0', '1', '0', '0'],\n",
    " ['0', '1', '1', '0', '1', '0', '1'],\n",
    " ['1', '1', '1', '0', '1', '0', '1'],\n",
    " ['0', '0', '0', '0', '1', '1', '1'],\n",
    " ['0', '1', '0', '0', '0', '0', '0'],\n",
    " ['0', '1', '1', '1', '1', '1', '0'],\n",
    " ['0', '1', '1', '1', '0', '0', '0']]"
   ]
  },
  {
   "cell_type": "code",
   "execution_count": null,
   "id": "d3e75cb6-3787-4cc9-ad30-c430af43d40b",
   "metadata": {},
   "outputs": [],
   "source": []
  }
 ],
 "metadata": {
  "kernelspec": {
   "display_name": "Python 3",
   "language": "python",
   "name": "python3"
  },
  "language_info": {
   "codemirror_mode": {
    "name": "ipython",
    "version": 3
   },
   "file_extension": ".py",
   "mimetype": "text/x-python",
   "name": "python",
   "nbconvert_exporter": "python",
   "pygments_lexer": "ipython3",
   "version": "3.9.2"
  }
 },
 "nbformat": 4,
 "nbformat_minor": 5
}
