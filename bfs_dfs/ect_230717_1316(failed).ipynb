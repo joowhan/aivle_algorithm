{
 "cells": [
  {
   "cell_type": "code",
   "execution_count": 18,
   "id": "5fc50779-190b-4cae-ac02-3696a52ea07b",
   "metadata": {},
   "outputs": [],
   "source": [
    "from itertools import combinations\n",
    "from copy import deepcopy"
   ]
  },
  {
   "cell_type": "code",
   "execution_count": 6,
   "id": "f62385aa-0217-44a1-93d3-853c3f7cb1b2",
   "metadata": {},
   "outputs": [
    {
     "name": "stdin",
     "output_type": "stream",
     "text": [
      " 7 7\n"
     ]
    }
   ],
   "source": [
    "n,m = map(int, input().split())"
   ]
  },
  {
   "cell_type": "code",
   "execution_count": 19,
   "id": "243c0847-943b-4852-b763-98e486cd8696",
   "metadata": {},
   "outputs": [
    {
     "data": {
      "text/plain": [
       "18424"
      ]
     },
     "execution_count": 19,
     "metadata": {},
     "output_type": "execute_result"
    }
   ],
   "source": [
    "lis = []\n",
    "for i in range(n):\n",
    "    for j in range(m):\n",
    "        lis.append((i,j))\n",
    "comb = list(combinations(lis,3))\n",
    "len(comb)"
   ]
  },
  {
   "cell_type": "code",
   "execution_count": 5,
   "id": "a6120ad1-d283-4e67-9a77-efafa8a162ed",
   "metadata": {},
   "outputs": [],
   "source": [
    "# 모든 경우 고려 가능\n",
    "# 각 경우 마다 벽을 세운다\n",
    "# DFS를 통해 넓이를 탐색\n",
    "# 0의 수가 최대가 되면 기록"
   ]
  },
  {
   "cell_type": "code",
   "execution_count": 7,
   "id": "c5747f36-2fac-4101-a85a-136df39846e5",
   "metadata": {},
   "outputs": [
    {
     "name": "stdin",
     "output_type": "stream",
     "text": [
      " 2 0 0 0 1 1 0\n",
      " 0 0 1 0 1 2 0\n",
      " 0 1 1 0 1 0 0\n",
      " 0 1 0 0 0 0 0\n",
      " 0 0 0 0 0 1 1\n",
      " 0 1 0 0 0 0 0\n",
      " 0 1 0 0 0 0 0\n"
     ]
    }
   ],
   "source": [
    "graph = []\n",
    "for i in range(n):\n",
    "    graph.append(list(map(int, input().split())))"
   ]
  },
  {
   "cell_type": "code",
   "execution_count": 28,
   "id": "711dcf7d-242f-41dc-91ab-1ea89867a129",
   "metadata": {},
   "outputs": [],
   "source": [
    "dx=[-1,0,1,0]\n",
    "dy = [0,1,0,-1]"
   ]
  },
  {
   "cell_type": "code",
   "execution_count": 32,
   "id": "8dcca86d-5554-47a3-b116-a3a39996d670",
   "metadata": {},
   "outputs": [],
   "source": [
    "def dfs(i,j,temp):\n",
    "    for c in range(4):\n",
    "        x = i + dx[c]\n",
    "        y = j + dy[c]\n",
    "        if x>=0 and x<n and y>=0 and y<m:\n",
    "            if temp[x][y] == 0:\n",
    "                temp[x][y] = 2\n",
    "                dfs(x,y, temp)"
   ]
  },
  {
   "cell_type": "code",
   "execution_count": 41,
   "id": "94453508-c8e6-44ee-aff6-d4b28105dedb",
   "metadata": {},
   "outputs": [
    {
     "name": "stdout",
     "output_type": "stream",
     "text": [
      "[[1, 0, 0, 0, 1, 1, 0], [0, 0, 1, 0, 1, 1, 0], [0, 1, 1, 0, 1, 0, 0], [0, 1, 0, 0, 0, 0, 0], [0, 0, 0, 0, 0, 1, 1], [0, 1, 0, 0, 0, 0, 0], [0, 1, 0, 0, 0, 0, 0]]\n",
      "[[1, 0, 0, 0, 1, 1, 0], [0, 0, 1, 0, 1, 1, 0], [0, 1, 1, 0, 1, 0, 0], [0, 1, 0, 0, 0, 0, 0], [0, 0, 0, 0, 0, 1, 1], [0, 1, 0, 0, 0, 0, 0], [0, 1, 0, 0, 0, 0, 0]]\n",
      "[[1, 0, 0, 0, 1, 1, 0], [0, 0, 1, 0, 1, 1, 0], [0, 1, 1, 0, 1, 0, 0], [0, 1, 0, 0, 0, 0, 0], [0, 0, 0, 0, 0, 1, 1], [0, 1, 0, 0, 0, 0, 0], [0, 1, 0, 0, 0, 0, 0]]\n",
      "[[1, 0, 0, 0, 1, 1, 0], [0, 0, 1, 0, 1, 1, 0], [0, 1, 1, 0, 1, 0, 0], [0, 1, 0, 0, 0, 0, 0], [0, 0, 0, 0, 0, 1, 1], [0, 1, 0, 0, 0, 0, 0], [0, 1, 0, 0, 0, 0, 0]]\n",
      "[[1, 0, 0, 0, 1, 1, 0], [0, 0, 1, 0, 1, 1, 0], [0, 1, 1, 0, 1, 0, 0], [0, 1, 0, 0, 0, 0, 0], [0, 0, 0, 0, 0, 1, 1], [0, 1, 0, 0, 0, 0, 0], [0, 1, 0, 0, 0, 0, 0]]\n",
      "[[1, 0, 0, 0, 1, 1, 0], [0, 0, 1, 0, 1, 1, 0], [0, 1, 1, 0, 1, 0, 0], [0, 1, 0, 0, 0, 0, 0], [0, 0, 0, 0, 0, 1, 1], [0, 1, 0, 0, 0, 0, 0], [0, 1, 0, 0, 0, 0, 0]]\n",
      "[[1, 0, 0, 0, 1, 1, 0], [0, 0, 1, 0, 1, 1, 0], [0, 1, 1, 0, 1, 0, 0], [0, 1, 0, 0, 0, 0, 0], [0, 0, 0, 0, 0, 1, 1], [0, 1, 0, 0, 0, 0, 0], [0, 1, 0, 0, 0, 0, 0]]\n",
      "[[1, 0, 0, 0, 1, 1, 0], [0, 0, 1, 0, 1, 1, 0], [0, 1, 1, 0, 1, 0, 0], [0, 1, 0, 0, 0, 0, 0], [0, 0, 0, 0, 0, 1, 1], [0, 1, 0, 0, 0, 0, 0], [0, 1, 0, 0, 0, 0, 0]]\n",
      "[[1, 0, 0, 0, 1, 1, 0], [0, 0, 1, 0, 1, 1, 0], [0, 1, 1, 0, 1, 0, 0], [0, 1, 0, 0, 0, 0, 0], [0, 0, 0, 0, 0, 1, 1], [0, 1, 0, 0, 0, 0, 0], [0, 1, 0, 0, 0, 0, 0]]\n",
      "[[1, 0, 0, 0, 1, 1, 0], [0, 0, 1, 0, 1, 1, 0], [0, 1, 1, 0, 1, 0, 0], [0, 1, 0, 0, 0, 0, 0], [0, 0, 0, 0, 0, 1, 1], [0, 1, 0, 0, 0, 0, 0], [0, 1, 0, 0, 0, 0, 0]]\n",
      "[[1, 0, 0, 0, 1, 1, 0], [0, 0, 1, 0, 1, 1, 0], [0, 1, 1, 0, 1, 0, 0], [0, 1, 0, 0, 0, 0, 0], [0, 0, 0, 0, 0, 1, 1], [0, 1, 0, 0, 0, 0, 0], [0, 1, 0, 0, 0, 0, 0]]\n",
      "[[1, 0, 0, 0, 1, 1, 0], [0, 0, 1, 0, 1, 1, 0], [0, 1, 1, 0, 1, 0, 0], [0, 1, 0, 0, 0, 0, 0], [0, 0, 0, 0, 0, 1, 1], [0, 1, 0, 0, 0, 0, 0], [0, 1, 0, 0, 0, 0, 0]]\n"
     ]
    }
   ],
   "source": [
    "result = 0\n",
    "for c in comb:\n",
    "    temp = deepcopy(graph)\n",
    "    for wall in c:\n",
    "        temp[wall[0]][wall[1]] = 1\n",
    "    # dfs로 \n",
    "    for i in range(n):\n",
    "        for j in range(m):\n",
    "            if temp[i][j] == 2:\n",
    "                dfs(i,j,temp)\n",
    "    count =0\n",
    "    for i in range(n):\n",
    "        for j in range(m):\n",
    "            if temp[i][j] ==0:\n",
    "                count +=1\n",
    "    result = max(result, count)\n",
    "    if count ==35:\n",
    "        print(temp)"
   ]
  },
  {
   "cell_type": "code",
   "execution_count": 36,
   "id": "05eb5722-16dd-469b-8df5-a876b6c4c47b",
   "metadata": {},
   "outputs": [
    {
     "data": {
      "text/plain": [
       "35"
      ]
     },
     "execution_count": 36,
     "metadata": {},
     "output_type": "execute_result"
    }
   ],
   "source": [
    "result"
   ]
  },
  {
   "cell_type": "code",
   "execution_count": null,
   "id": "8934fadd-c3cc-41ca-84b7-a04a902a3f2e",
   "metadata": {},
   "outputs": [],
   "source": []
  }
 ],
 "metadata": {
  "kernelspec": {
   "display_name": "Python 3",
   "language": "python",
   "name": "python3"
  },
  "language_info": {
   "codemirror_mode": {
    "name": "ipython",
    "version": 3
   },
   "file_extension": ".py",
   "mimetype": "text/x-python",
   "name": "python",
   "nbconvert_exporter": "python",
   "pygments_lexer": "ipython3",
   "version": "3.9.2"
  }
 },
 "nbformat": 4,
 "nbformat_minor": 5
}
