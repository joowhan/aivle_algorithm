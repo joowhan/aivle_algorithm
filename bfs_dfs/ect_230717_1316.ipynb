{
 "cells": [
  {
   "cell_type": "code",
   "execution_count": 1,
   "id": "5fc50779-190b-4cae-ac02-3696a52ea07b",
   "metadata": {},
   "outputs": [],
   "source": [
    "from itertools import combinations"
   ]
  },
  {
   "cell_type": "code",
   "execution_count": 8,
   "id": "243c0847-943b-4852-b763-98e486cd8696",
   "metadata": {},
   "outputs": [
    {
     "data": {
      "text/plain": [
       "[(0, 1, 2),\n",
       " (0, 1, 3),\n",
       " (0, 1, 4),\n",
       " (0, 1, 5),\n",
       " (0, 1, 6),\n",
       " (0, 1, 7),\n",
       " (0, 1, 8),\n",
       " (0, 1, 9),\n",
       " (0, 1, 10),\n",
       " (0, 1, 11)]"
      ]
     },
     "execution_count": 8,
     "metadata": {},
     "output_type": "execute_result"
    }
   ],
   "source": [
    "lis = [i for i in range(64)]\n",
    "comb = list(combinations(lis,3))\n",
    "comb[:10]"
   ]
  },
  {
   "cell_type": "code",
   "execution_count": 5,
   "id": "a6120ad1-d283-4e67-9a77-efafa8a162ed",
   "metadata": {},
   "outputs": [],
   "source": [
    "# 모든 경우 고려 가능\n",
    "# 각 경우 마다 벽을 세운다\n",
    "# DFS를 통해 넓이를 탐색\n",
    "# 0의 수가 최대가 되면 기록"
   ]
  },
  {
   "cell_type": "code",
   "execution_count": 6,
   "id": "f62385aa-0217-44a1-93d3-853c3f7cb1b2",
   "metadata": {},
   "outputs": [
    {
     "name": "stdin",
     "output_type": "stream",
     "text": [
      " 7 7\n"
     ]
    }
   ],
   "source": [
    "n,m = map(int, input().split())"
   ]
  },
  {
   "cell_type": "code",
   "execution_count": 7,
   "id": "c5747f36-2fac-4101-a85a-136df39846e5",
   "metadata": {},
   "outputs": [
    {
     "name": "stdin",
     "output_type": "stream",
     "text": [
      " 2 0 0 0 1 1 0\n",
      " 0 0 1 0 1 2 0\n",
      " 0 1 1 0 1 0 0\n",
      " 0 1 0 0 0 0 0\n",
      " 0 0 0 0 0 1 1\n",
      " 0 1 0 0 0 0 0\n",
      " 0 1 0 0 0 0 0\n"
     ]
    }
   ],
   "source": [
    "graph = []\n",
    "for i in range(n):\n",
    "    graph.append(list(map(int, input().split())))"
   ]
  },
  {
   "cell_type": "code",
   "execution_count": null,
   "id": "711dcf7d-242f-41dc-91ab-1ea89867a129",
   "metadata": {},
   "outputs": [],
   "source": []
  }
 ],
 "metadata": {
  "kernelspec": {
   "display_name": "Python 3",
   "language": "python",
   "name": "python3"
  },
  "language_info": {
   "codemirror_mode": {
    "name": "ipython",
    "version": 3
   },
   "file_extension": ".py",
   "mimetype": "text/x-python",
   "name": "python",
   "nbconvert_exporter": "python",
   "pygments_lexer": "ipython3",
   "version": "3.9.2"
  }
 },
 "nbformat": 4,
 "nbformat_minor": 5
}
