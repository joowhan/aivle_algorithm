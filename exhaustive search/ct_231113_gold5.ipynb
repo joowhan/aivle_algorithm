{
 "cells": [
  {
   "cell_type": "code",
   "execution_count": null,
   "id": "bd180567-e145-4f91-b126-738f85b1c869",
   "metadata": {},
   "outputs": [],
   "source": [
    "# x<y<z, y-x <=z-y <=2*(y-x)\n",
    "N = int(input())\n",
    "cows =[]\n",
    "for _ in range(N):\n",
    "    cows.append(int(input()))\n",
    "\n",
    "cows.sort()\n",
    "answer = 0\n",
    "for i in range(N-2):\n",
    "    for j in range(i+1, N-1):\n",
    "        for k in range(j+1, N):\n",
    "            if cows[j]- cows[i] <= cows[k]-cows[j] <= 2*(cows[j]-cows[i]):\n",
    "                answer +=1\n",
    "print(answer)\n"
   ]
  }
 ],
 "metadata": {
  "kernelspec": {
   "display_name": "Python 3",
   "language": "python",
   "name": "python3"
  },
  "language_info": {
   "codemirror_mode": {
    "name": "ipython",
    "version": 3
   },
   "file_extension": ".py",
   "mimetype": "text/x-python",
   "name": "python",
   "nbconvert_exporter": "python",
   "pygments_lexer": "ipython3",
   "version": "3.9.2"
  }
 },
 "nbformat": 4,
 "nbformat_minor": 5
}
