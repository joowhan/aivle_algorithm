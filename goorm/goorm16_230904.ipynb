{
 "cells": [
  {
   "cell_type": "code",
   "execution_count": 1,
   "id": "8ff1fc1b-8ef8-42d4-a0d2-ac74bff9ee5a",
   "metadata": {},
   "outputs": [
    {
     "name": "stdin",
     "output_type": "stream",
     "text": [
      " 4 6\n"
     ]
    }
   ],
   "source": [
    "n,m = map(int, input().split())"
   ]
  },
  {
   "cell_type": "code",
   "execution_count": 11,
   "id": "431e102d-790c-4411-a6d7-e4ac21bd13a3",
   "metadata": {},
   "outputs": [
    {
     "name": "stdin",
     "output_type": "stream",
     "text": [
      " 2 3\n",
      " 4 1\n",
      " 1 2\n",
      " 3 4\n",
      " 1 4\n",
      " 2 4\n"
     ]
    },
    {
     "name": "stdout",
     "output_type": "stream",
     "text": [
      "[False, False, False, False, False] [1]\n",
      "[False, False, False, False, True] [1, 4]\n",
      "[False, False, False, False, True] [2]\n",
      "[False, False, False, False, True] [2]\n",
      "[False, False, False, False, True] [3]\n",
      "[False, True, False, False, True] [4, 1]\n"
     ]
    }
   ],
   "source": [
    "graph=[[] for _ in range(n+1)]\n",
    "visited=[False for _ in range(n+1)]\n",
    "union=[]\n",
    "for _ in range(m):\n",
    "    a,b = map(int, input().split())\n",
    "    graph[a].append(b)\n",
    "\n",
    "for i in range(1,n+1):\n",
    "    # [1,2,...]\n",
    "    temp=[i]\n",
    "    for node in graph[i]:\n",
    "        # 돌아오는 길이 있으면\n",
    "        flag = 0\n",
    "        if i in graph[node]:\n",
    "            # 첫 방문이라면 \n",
    "            if not visited[node]:\n",
    "                temp.append(node)\n",
    "                visited[node] = True\n",
    "            # 이미 방문한 노드라면\n",
    "            else:\n",
    "                for j in union:\n",
    "                    if node in j:\n",
    "                        j.append(node)\n",
    "                        flag = 1\n",
    "                        break\n",
    "        if flag !=1:\n",
    "            print(visited, temp)\n",
    "            union.append(temp)\n",
    "            flag = 0"
   ]
  },
  {
   "cell_type": "code",
   "execution_count": 3,
   "id": "4b9ba6e5-caaa-4598-b301-d882ed34cbe6",
   "metadata": {},
   "outputs": [
    {
     "name": "stdin",
     "output_type": "stream",
     "text": [
      " 2 3\n",
      " 4 1\n",
      " 1 2\n",
      " 3 4\n",
      " 1 4\n",
      " 2 4\n"
     ]
    }
   ],
   "source": [
    "graph=[[] for _ in range(n+1)]\n",
    "visited=[False for _ in range(n+1)]\n",
    "union=[]\n",
    "for _ in range(m):\n",
    "    a,b = map(int, input().split())\n",
    "    graph[a].append(b)"
   ]
  },
  {
   "cell_type": "code",
   "execution_count": 17,
   "id": "38c676e6-3196-494d-977a-9b656bdfcabb",
   "metadata": {},
   "outputs": [],
   "source": [
    "graph = [[], [2, 4], [3, 4], [4], [1]]\n",
    "visited=[False for _ in range(n+1)]\n",
    "union=[]"
   ]
  },
  {
   "cell_type": "code",
   "execution_count": 35,
   "id": "1de916ec-5dfb-44d6-8570-5dca84a8965c",
   "metadata": {},
   "outputs": [
    {
     "name": "stdout",
     "output_type": "stream",
     "text": [
      "3\n"
     ]
    }
   ],
   "source": [
    "from collections import deque\n",
    "graph = [[], [2, 4], [3, 4], [4], [1]]\n",
    "visited=[False for _ in range(n+1)]\n",
    "union=[]\n",
    "for i in range(1,n+1):\n",
    "    if visited[i]:\n",
    "        continue\n",
    "    queue = deque([i])\n",
    "    visited[i] = True\n",
    "    temp =[]\n",
    "    while queue:\n",
    "        curr = queue.popleft()\n",
    "        for node in graph[curr]:\n",
    "            if not visited[node] and curr in graph[node]:\n",
    "                visited[node] = True\n",
    "                queue.append(node)\n",
    "        \n",
    "        temp.append(curr)\n",
    "    union.append(temp)\n",
    "print(len(union))"
   ]
  },
  {
   "cell_type": "code",
   "execution_count": null,
   "id": "4ffffe5c-8700-4fb7-a865-d7ff62cead17",
   "metadata": {},
   "outputs": [],
   "source": [
    "# -*- coding: utf-8 -*-\n",
    "# UTF-8 encoding when using korean\n",
    "import sys\n",
    "from collections import deque\n",
    "\n",
    "input = sys.stdin.readline\n",
    "\n",
    "\n",
    "n,m = map(int, input().split())\n",
    "graph=[[] for _ in range(n+1)]\n",
    "visited=[False for _ in range(n+1)]\n",
    "union=[]\n",
    "for _ in range(m):\n",
    "    a,b = map(int, input().split())\n",
    "    graph[a].append(b)\n",
    "for i in range(1,n+1):\n",
    "    if visited[i]:\n",
    "        continue\n",
    "    queue = deque([i])\n",
    "    visited[i] = True\n",
    "    temp =[]\n",
    "    while queue:\n",
    "        curr = queue.popleft()\n",
    "        for node in graph[curr]:\n",
    "            if not visited[node] and curr in graph[node]:\n",
    "                visited[node] = True\n",
    "                queue.append(node)\n",
    "        \n",
    "        temp.append(curr)\n",
    "    union.append(temp)\n",
    "print(len(union))"
   ]
  }
 ],
 "metadata": {
  "kernelspec": {
   "display_name": "Python 3",
   "language": "python",
   "name": "python3"
  },
  "language_info": {
   "codemirror_mode": {
    "name": "ipython",
    "version": 3
   },
   "file_extension": ".py",
   "mimetype": "text/x-python",
   "name": "python",
   "nbconvert_exporter": "python",
   "pygments_lexer": "ipython3",
   "version": "3.9.2"
  }
 },
 "nbformat": 4,
 "nbformat_minor": 5
}
