{
 "cells": [
  {
   "cell_type": "code",
   "execution_count": null,
   "id": "883c93c1-8e4a-40ba-99c2-b8546c4a3833",
   "metadata": {},
   "outputs": [],
   "source": [
    "n =  int(input())\n",
    "t,m = map(int, input().split())\n",
    "c=[]\n",
    "for i in range(n):\n",
    "\tc.append(int(input()))\n",
    "minutes = m+ sum(c)\n",
    "times = ((minutes//60)+t)%24\n",
    "print(times, minutes%60)"
   ]
  }
 ],
 "metadata": {
  "kernelspec": {
   "display_name": "Python 3 (ipykernel)",
   "language": "python",
   "name": "python3"
  },
  "language_info": {
   "codemirror_mode": {
    "name": "ipython",
    "version": 3
   },
   "file_extension": ".py",
   "mimetype": "text/x-python",
   "name": "python",
   "nbconvert_exporter": "python",
   "pygments_lexer": "ipython3",
   "version": "3.9.15"
  }
 },
 "nbformat": 4,
 "nbformat_minor": 5
}
