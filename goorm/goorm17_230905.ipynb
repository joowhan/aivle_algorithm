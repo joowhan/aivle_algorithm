{
 "cells": [
  {
   "cell_type": "code",
   "execution_count": 1,
   "id": "f200c5c7-208a-4941-a55f-7a76b0cfb414",
   "metadata": {},
   "outputs": [
    {
     "name": "stdin",
     "output_type": "stream",
     "text": [
      " 6 6\n"
     ]
    }
   ],
   "source": [
    "n,m = map(int, input().split())"
   ]
  },
  {
   "cell_type": "code",
   "execution_count": 124,
   "id": "afb1d343-c41f-4e26-bc94-c73544a536e9",
   "metadata": {},
   "outputs": [
    {
     "name": "stdin",
     "output_type": "stream",
     "text": [
      " 2 3\n",
      " 5 3\n",
      " 2 6\n",
      " 1 2\n",
      " 1 4\n",
      " 5 4\n"
     ]
    }
   ],
   "source": [
    "import heapq\n",
    "graph=[[] for _ in range(n+1)]\n",
    "for i in range(1,m+1):\n",
    "    a,b = map(int, input().split())\n",
    "    # heapq.heappush(graph[a],b)\n",
    "    # # graph[b].heappush(a)\n",
    "    # heapq.heappush(graph[b],a)\n",
    "    graph[a].append(b)\n",
    "    graph[b].append(a)"
   ]
  },
  {
   "cell_type": "code",
   "execution_count": 129,
   "id": "cc55939f-5650-4069-9180-11940b814888",
   "metadata": {},
   "outputs": [],
   "source": [
    "# graph =[[], [3, 7], [4], [1, 5, 7], [2, 6], [3], [4], [3, 1]]\n",
    "# import heapq\n",
    "# graph=[[], [3, 7], [4], [1, 5, 7], [2, 6], [3], [4], [1, 3]]\n",
    "graph=[[], [2, 4], [1, 6, 3], [2, 5], [1, 5], [3, 4], [2]]"
   ]
  },
  {
   "cell_type": "code",
   "execution_count": 130,
   "id": "9f7ea1f5-b340-4222-b363-ce8433da0633",
   "metadata": {},
   "outputs": [],
   "source": [
    "visited=[False for _ in range(n+1)]\n",
    "from collections import deque"
   ]
  },
  {
   "cell_type": "code",
   "execution_count": 131,
   "id": "71f61c4e-f2d6-41d7-825b-04fbfe11e653",
   "metadata": {},
   "outputs": [
    {
     "name": "stdout",
     "output_type": "stream",
     "text": [
      "1 [1, 2, 4] 2\n",
      "2 [1, 2, 4, 6, 3] 4\n",
      "4 [1, 2, 4, 6, 3, 5] 5\n",
      "6 [1, 2, 4, 6, 3, 5] 5\n",
      "3 [1, 2, 4, 6, 3, 5] 6\n",
      "5 [1, 2, 4, 6, 3, 5] 6\n"
     ]
    }
   ],
   "source": [
    "density=[]\n",
    "for i in range(1, n+1):\n",
    "    if visited[i]:\n",
    "        continue\n",
    "    que = deque([i])\n",
    "    visited[i] = True\n",
    "    cnt = 0\n",
    "    temp =[i]\n",
    "    while que:\n",
    "        curr = que.popleft()\n",
    "        visited[curr] = True\n",
    "        for node in graph[curr]:\n",
    "\n",
    "            if not visited[node]:\n",
    "                #출발지를 도착지 리스트에서 뺀다. \n",
    "\n",
    "                if curr in graph[node]:\n",
    "                    graph[node].remove(curr)\n",
    "\n",
    "                visited[node] = True\n",
    "                que.append(node)\n",
    "                temp.append(node)\n",
    "                cnt +=1\n",
    "            elif visited[node] and node in temp:\n",
    "                if curr in graph[node]:\n",
    "                    graph[node].remove(curr)\n",
    "                cnt +=1\n",
    "\n",
    "    temp.sort()\n",
    "    density.append((temp, cnt))\n",
    "density.sort(reverse=True, key=lambda x:(x[1]/len(x[0]), -len(x[0]), -x[0][0] ))"
   ]
  },
  {
   "cell_type": "code",
   "execution_count": 135,
   "id": "34cad7ee-648b-4c29-9299-e7952936843e",
   "metadata": {},
   "outputs": [
    {
     "name": "stdout",
     "output_type": "stream",
     "text": [
      "1 2 3 4 5 6 "
     ]
    }
   ],
   "source": [
    "for i in density[0][0]:\n",
    "    print(i, end= ' ')"
   ]
  },
  {
   "cell_type": "code",
   "execution_count": 137,
   "id": "332f891c-5b6d-4666-9547-80d9b10cbe17",
   "metadata": {},
   "outputs": [
    {
     "name": "stdout",
     "output_type": "stream",
     "text": [
      "1 2 3 4 5 6\n"
     ]
    }
   ],
   "source": [
    "print(*sorted(density[0][0]))"
   ]
  },
  {
   "cell_type": "code",
   "execution_count": null,
   "id": "12329c81-da3e-4e77-a857-5b19a858ec54",
   "metadata": {},
   "outputs": [],
   "source": [
    "\tcnt //= 2\n",
    "\tcnt = cnt / len(temp)\n",
    "\tif cnt > answer:\n",
    "\t\tanswer = cnt\n",
    "\t\tarr = temp.copy()\n",
    "\telif cnt == answer:\n",
    "\t\tif len(temp) < len(arr):\n",
    "\t\t\tarr = temp.copy()"
   ]
  },
  {
   "cell_type": "code",
   "execution_count": null,
   "id": "b5d81db2-f788-464c-be4e-8fa80269cc40",
   "metadata": {},
   "outputs": [],
   "source": [
    "density=0\n",
    "result = 0\n",
    "dens=[]\n",
    "for i in range(1, n+1):\n",
    "    if visited[i]:\n",
    "        continue\n",
    "    que = deque([i])\n",
    "    visited[i] = True\n",
    "    cnt = 0\n",
    "    temp =[i]\n",
    "    while que:\n",
    "        curr = que.popleft()\n",
    "        visited[curr] = True\n",
    "        for node in graph[curr]:\n",
    "            cnt +=1\n",
    "            if not visited[node]:\n",
    "                temp.append(node)\n",
    "                visited[node] = True\n",
    "                que.append(node)\n",
    "    cnt //=2\n",
    "    density = cnt/len(temp)\n",
    "    if density > result:\n",
    "        result = density\n",
    "        dens = temp.copy()\n",
    "    elif result == density:\n",
    "        if len(temp) < len(dens):\n",
    "            dens = temp.copy()\n",
    "print(*sorted(dens))"
   ]
  },
  {
   "cell_type": "code",
   "execution_count": null,
   "id": "f7207a45-2a77-478d-9872-b5b125510a63",
   "metadata": {},
   "outputs": [],
   "source": [
    "# -*- coding: utf-8 -*-\n",
    "# UTF-8 encoding when using korean\n",
    "import sys\n",
    "from collections import deque\n",
    "import heapq\n",
    "input = sys.stdin.readline\n",
    "n,m = map(int, input().split())\n",
    "graph=[[] for _ in range(n+1)]\n",
    "for i in range(m):\n",
    "    a,b = map(int, input().split())\n",
    "    graph[a].append(b)\n",
    "    graph[b].append(a)\n",
    "\n",
    "visited=[False for _ in range(n+1)]\n",
    "density=0\n",
    "result = 0\n",
    "dens=[]\n",
    "for i in range(1, n+1):\n",
    "    if visited[i]:\n",
    "        continue\n",
    "    que = deque([i])\n",
    "    visited[i] = True\n",
    "    cnt = 0\n",
    "    temp =[i]\n",
    "    while que:\n",
    "        curr = que.popleft()\n",
    "        visited[curr] = True\n",
    "        for node in graph[curr]:\n",
    "            cnt +=1\n",
    "            if not visited[node]:\n",
    "                temp.append(node)\n",
    "                que.append(node)\n",
    "    cnt //=2\n",
    "    density = cnt/len(temp)\n",
    "    if density > result:\n",
    "        result = density\n",
    "        dens = temp.copy()\n",
    "    elif result == density:\n",
    "        if len(temp) < len(dens):\n",
    "            dens = temp.copy()\n",
    "print(*sorted(dens))\n"
   ]
  }
 ],
 "metadata": {
  "kernelspec": {
   "display_name": "Python 3",
   "language": "python",
   "name": "python3"
  },
  "language_info": {
   "codemirror_mode": {
    "name": "ipython",
    "version": 3
   },
   "file_extension": ".py",
   "mimetype": "text/x-python",
   "name": "python",
   "nbconvert_exporter": "python",
   "pygments_lexer": "ipython3",
   "version": "3.9.2"
  }
 },
 "nbformat": 4,
 "nbformat_minor": 5
}
