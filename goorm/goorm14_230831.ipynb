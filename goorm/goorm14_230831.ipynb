{
 "cells": [
  {
   "cell_type": "code",
   "execution_count": null,
   "id": "61862a80-8cb5-4f80-bd20-68892aac2976",
   "metadata": {},
   "outputs": [],
   "source": [
    "# -*- coding: utf-8 -*-\n",
    "# UTF-8 encoding when using korean\n",
    "import sys\n",
    "from collections import deque\n",
    "import heapq\n",
    "input = sys.stdin.readline\n",
    "\n",
    "n,m,k = map(int, input().split())\n",
    "\n",
    "graph=[[] for _ in range(n+1)]\n",
    "visited=[False for _ in range(n+1)]\n",
    "\n",
    "for i in range(m):\n",
    "\ta,b = map(int, input().split())\n",
    "\t# heapq.heappush(graph[a],b)\n",
    "\t# heapq.heappush(graph[b],a)\n",
    "\tgraph[a].append(b)\n",
    "\tgraph[b].append(a)\n",
    "for g in graph:\n",
    "\tg.sort()\n",
    "\n",
    "que = deque([k])\n",
    "visited[k] = True\n",
    "while que:\n",
    "\tflag=0\n",
    "\tcurr = que.popleft()\n",
    "\tvisited[curr] = True\n",
    "\tfor node in graph[curr]:\n",
    "\t\tif not visited[node]:\n",
    "\t\t\tque.append(node)\n",
    "\t\t\tflag=1\n",
    "\t\t\tbreak\n",
    "\tif flag == 0:\n",
    "\t\tres = curr\n",
    "\t\tbreak\n",
    "\n",
    "print(visited.count(True),res)"
   ]
  }
 ],
 "metadata": {
  "kernelspec": {
   "display_name": "Python 3",
   "language": "python",
   "name": "python3"
  },
  "language_info": {
   "codemirror_mode": {
    "name": "ipython",
    "version": 3
   },
   "file_extension": ".py",
   "mimetype": "text/x-python",
   "name": "python",
   "nbconvert_exporter": "python",
   "pygments_lexer": "ipython3",
   "version": "3.9.2"
  }
 },
 "nbformat": 4,
 "nbformat_minor": 5
}
