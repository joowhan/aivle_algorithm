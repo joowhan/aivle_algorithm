{
 "cells": [
  {
   "cell_type": "code",
   "execution_count": null,
   "id": "e0cfb432-f393-4ee6-bf7f-415ee897545d",
   "metadata": {},
   "outputs": [],
   "source": [
    "n,k = map(int,input().split())\n",
    "nums = list(map(int, input().split()))\n",
    "res=[]\n",
    "\n",
    "for i in range(n):\n",
    "\ttemp = list(bin(nums[i]))\n",
    "\tres.append((temp.count('1'), nums[i]))\n",
    "\n",
    "res.sort(key=lambda x:(-x[0],-x[1]))\n",
    "print(res[k-1][1])"
   ]
  },
  {
   "cell_type": "code",
   "execution_count": null,
   "id": "52738e18-3b5b-4998-92a6-d03854907c94",
   "metadata": {},
   "outputs": [],
   "source": []
  }
 ],
 "metadata": {
  "kernelspec": {
   "display_name": "Python 3 (ipykernel)",
   "language": "python",
   "name": "python3"
  },
  "language_info": {
   "codemirror_mode": {
    "name": "ipython",
    "version": 3
   },
   "file_extension": ".py",
   "mimetype": "text/x-python",
   "name": "python",
   "nbconvert_exporter": "python",
   "pygments_lexer": "ipython3",
   "version": "3.9.15"
  }
 },
 "nbformat": 4,
 "nbformat_minor": 5
}
