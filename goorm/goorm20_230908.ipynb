{
 "cells": [
  {
   "cell_type": "code",
   "execution_count": null,
   "id": "fbec50c8-848c-4cb1-bd14-e83f8f93df82",
   "metadata": {},
   "outputs": [],
   "source": [
    "# -*- coding: utf-8 -*-\n",
    "# UTF-8 encoding when using korean\n",
    "import sys\n",
    "input = sys.stdin.readline\n",
    "from collections import deque\n",
    "\n",
    "n,k,q = map(int, input().split())\n",
    "graph=[]\n",
    "dx = [-1,1,0,0]\n",
    "dy = [0,0,-1,1]\n",
    "\n",
    "for _ in range(n):\n",
    "\tgraph.append(list(input().rstrip()))\n",
    "\t\n",
    "for _ in range(q):\n",
    "\ty, x, a = input().split()\n",
    "\ty,x = int(y)-1, int(x)-1\n",
    "\tgraph[y][x] = a\n",
    "\tvisited = [[False for _ in range(n)] for _ in range(n)]\n",
    "\ttemp =[]\n",
    "\tcnt = 1\n",
    "\tque = deque([(y,x)])\n",
    "\tvisited[y][x] = True\n",
    "\twhile que:\n",
    "\t\tny,nx = que.popleft()\n",
    "\t\ttemp.append((ny,nx))\n",
    "\t\tfor i in range(4):\n",
    "\t\t\ttx = dx[i]+nx\n",
    "\t\t\tty = dy[i]+ny\n",
    "\t\t\tif tx >=n or tx<0 or ty>=n or ty <0:\n",
    "\t\t\t\tcontinue\n",
    "\t\t\tif graph[ty][tx] == a and not visited[ty][tx]:\n",
    "\t\t\t\tque.append((ty,tx))\n",
    "\t\t\t\tvisited[ty][tx] = True\n",
    "\t\t\t\t# temp.append((ty,tx))\n",
    "\t\t\t\tcnt +=1\n",
    "\tif cnt>=k:\n",
    "\t\tfor loc in temp:\n",
    "\t\t\tgraph[loc[0]][loc[1]] = '.'\n",
    "\n",
    "for line in graph:\n",
    "\tres = \"\".join(line)\n",
    "\tprint(res)\n",
    "\t\t\n",
    "\t\n",
    "\t\n",
    "\t\n",
    "\t"
   ]
  }
 ],
 "metadata": {
  "kernelspec": {
   "display_name": "Python 3",
   "language": "python",
   "name": "python3"
  },
  "language_info": {
   "codemirror_mode": {
    "name": "ipython",
    "version": 3
   },
   "file_extension": ".py",
   "mimetype": "text/x-python",
   "name": "python",
   "nbconvert_exporter": "python",
   "pygments_lexer": "ipython3",
   "version": "3.9.2"
  }
 },
 "nbformat": 4,
 "nbformat_minor": 5
}
