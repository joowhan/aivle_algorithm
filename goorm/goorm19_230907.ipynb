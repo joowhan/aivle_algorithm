{
 "cells": [
  {
   "cell_type": "code",
   "execution_count": 1,
   "id": "a17ce7e2-1286-44a0-81d6-78e4181ab21b",
   "metadata": {},
   "outputs": [
    {
     "name": "stdin",
     "output_type": "stream",
     "text": [
      " 5 5 1 4\n"
     ]
    }
   ],
   "source": [
    "n,m,s,e = map(int, input().split())"
   ]
  },
  {
   "cell_type": "code",
   "execution_count": 2,
   "id": "a3801671-cad7-4093-bf32-605c9c5e1b5b",
   "metadata": {},
   "outputs": [
    {
     "name": "stdin",
     "output_type": "stream",
     "text": [
      " 1 3\n",
      " 4 3\n",
      " 2 5\n",
      " 4 2\n",
      " 1 5\n"
     ]
    }
   ],
   "source": [
    "graph=[[] for _ in range(n+1)]\n",
    "for _ in range(m):\n",
    "    a,b = map(int, input().split())\n",
    "    graph[a].append(b)\n",
    "    graph[b].append(a)"
   ]
  },
  {
   "cell_type": "code",
   "execution_count": 4,
   "id": "dc76da94-dd3e-4521-9aee-6c97f16b79c6",
   "metadata": {},
   "outputs": [
    {
     "data": {
      "text/plain": [
       "[[], [3, 5], [5, 4], [1, 4], [3, 2], [2, 1]]"
      ]
     },
     "execution_count": 4,
     "metadata": {},
     "output_type": "execute_result"
    }
   ],
   "source": [
    "graph"
   ]
  },
  {
   "cell_type": "code",
   "execution_count": 6,
   "id": "d89327e2-d164-436b-a20d-211903641dc6",
   "metadata": {},
   "outputs": [
    {
     "name": "stdout",
     "output_type": "stream",
     "text": [
      "-1\n",
      "3\n",
      "4\n",
      "-1\n",
      "3\n"
     ]
    }
   ],
   "source": [
    "from collections import deque\n",
    "for fixed in range(1,n+1):\n",
    "    if fixed == s or fixed == e:\n",
    "        print(-1)\n",
    "        continue\n",
    "    visited = [0 for _ in range(n+1)]\n",
    "    queue = deque([s])\n",
    "    visited[s] = 1\n",
    "    flag = 0\n",
    "    while queue:\n",
    "        curr = queue.popleft()\n",
    "        if curr == fixed:\n",
    "            continue\n",
    "        if curr == e:\n",
    "            print(visited[curr])\n",
    "            flag=1\n",
    "            break\n",
    "        for node in graph[curr]:\n",
    "            #첫 방문이고 공사중도 아니라면\n",
    "            if not visited[node] and fixed != node:\n",
    "                visited[node] = visited[curr] + 1\n",
    "                queue.append(node)\n",
    "    if flag == 0:\n",
    "        print(-1)\n",
    "            "
   ]
  },
  {
   "cell_type": "code",
   "execution_count": null,
   "id": "8a061baa-e3ad-4073-9b7d-adce3cd3564b",
   "metadata": {},
   "outputs": [],
   "source": []
  }
 ],
 "metadata": {
  "kernelspec": {
   "display_name": "Python 3",
   "language": "python",
   "name": "python3"
  },
  "language_info": {
   "codemirror_mode": {
    "name": "ipython",
    "version": 3
   },
   "file_extension": ".py",
   "mimetype": "text/x-python",
   "name": "python",
   "nbconvert_exporter": "python",
   "pygments_lexer": "ipython3",
   "version": "3.9.2"
  }
 },
 "nbformat": 4,
 "nbformat_minor": 5
}
