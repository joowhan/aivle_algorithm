{
 "cells": [
  {
   "cell_type": "code",
   "execution_count": null,
   "id": "e138426f-ee32-4b07-8303-94ecd2e032eb",
   "metadata": {},
   "outputs": [],
   "source": [
    "# -*- coding: utf-8 -*-\n",
    "# UTF-8 encoding when using korean\n",
    "items = [14,7,1]\n",
    "n = int(input())\n",
    "count = 0\n",
    "while n!=0:\n",
    "\tfor item in items:\n",
    "\t\ttemp = n//item\n",
    "\t\tif temp >0:\n",
    "\t\t\tcount += temp\n",
    "\t\t\tn -= (item*temp)\n",
    "print(count)"
   ]
  }
 ],
 "metadata": {
  "kernelspec": {
   "display_name": "Python 3 (ipykernel)",
   "language": "python",
   "name": "python3"
  },
  "language_info": {
   "codemirror_mode": {
    "name": "ipython",
    "version": 3
   },
   "file_extension": ".py",
   "mimetype": "text/x-python",
   "name": "python",
   "nbconvert_exporter": "python",
   "pygments_lexer": "ipython3",
   "version": "3.9.15"
  }
 },
 "nbformat": 4,
 "nbformat_minor": 5
}
