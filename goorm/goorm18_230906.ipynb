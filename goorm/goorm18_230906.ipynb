{
 "cells": [
  {
   "cell_type": "code",
   "execution_count": 1,
   "id": "8f64564c-b9c0-4837-b17d-c5d85387f079",
   "metadata": {},
   "outputs": [
    {
     "name": "stdin",
     "output_type": "stream",
     "text": [
      " 3 5\n"
     ]
    }
   ],
   "source": [
    "n,m = map(int, input().split())"
   ]
  },
  {
   "cell_type": "code",
   "execution_count": 29,
   "id": "428f498a-fbac-4259-9b8e-4e6f33a21a8f",
   "metadata": {},
   "outputs": [
    {
     "name": "stdin",
     "output_type": "stream",
     "text": [
      " 2 1 R\n",
      " 1 1 D\n",
      " 2 3 L\n",
      " 3 3 U\n",
      " 2 2 D\n"
     ]
    }
   ],
   "source": [
    "graph=[[[] for _ in range(n)] for _ in range(n)]\n",
    "for i in range(m):\n",
    "    x,y,d = input().split()\n",
    "    x,y = int(x)-1, int(y)-1\n",
    "    if d =='L':\n",
    "        for j in range(y+1):\n",
    "            graph[x][j].append(0)\n",
    "    elif d =='R':\n",
    "        for j in range(y,n):\n",
    "            graph[x][j].append(0)\n",
    "    elif d =='D':\n",
    "        for j in range(x,n):\n",
    "            graph[j][y].append(1)\n",
    "    else:\n",
    "        for j in range(x+1):\n",
    "            graph[j][y].append(1)"
   ]
  },
  {
   "cell_type": "code",
   "execution_count": 39,
   "id": "8f26b49d-b66d-4362-8069-636725d707b2",
   "metadata": {},
   "outputs": [
    {
     "name": "stdout",
     "output_type": "stream",
     "text": [
      "[0, 1, 0] 4\n",
      "[0, 0, 1] 4\n",
      "[0, 0, 1] 4\n",
      "12\n"
     ]
    }
   ],
   "source": [
    "res = 0\n",
    "for rect in graph:\n",
    "    for line in rect:\n",
    "        if 0 in line and 1 in line:\n",
    "            print(line, line.count(0) * line.count(0))\n",
    "            res += (line.count(0) * line.count(1))\n",
    "print(res)"
   ]
  },
  {
   "cell_type": "code",
   "execution_count": 36,
   "id": "9886782e-bcf8-4470-b393-dfce0b7d5d22",
   "metadata": {},
   "outputs": [
    {
     "data": {
      "text/plain": [
       "[[[1], [], [1]], [[0, 1, 0], [0, 0, 1], [0, 0, 1]], [[1], [1], [1]]]"
      ]
     },
     "execution_count": 36,
     "metadata": {},
     "output_type": "execute_result"
    }
   ],
   "source": [
    "graph"
   ]
  },
  {
   "cell_type": "code",
   "execution_count": null,
   "id": "8637e070-6193-42a6-b766-5173b0500d10",
   "metadata": {},
   "outputs": [],
   "source": []
  }
 ],
 "metadata": {
  "kernelspec": {
   "display_name": "Python 3",
   "language": "python",
   "name": "python3"
  },
  "language_info": {
   "codemirror_mode": {
    "name": "ipython",
    "version": 3
   },
   "file_extension": ".py",
   "mimetype": "text/x-python",
   "name": "python",
   "nbconvert_exporter": "python",
   "pygments_lexer": "ipython3",
   "version": "3.9.2"
  }
 },
 "nbformat": 4,
 "nbformat_minor": 5
}
