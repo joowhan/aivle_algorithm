{
 "cells": [
  {
   "cell_type": "code",
   "execution_count": null,
   "id": "57f4450a-712a-4143-bb3e-4326627a42e8",
   "metadata": {},
   "outputs": [],
   "source": [
    "# -*- coding: utf-8 -*-\n",
    "# UTF-8 encoding when using korean\n",
    "import sys\n",
    "input = sys.stdin.readline\n",
    "\n",
    "n,k = map(int, input().split())\n",
    "res=[]\n",
    "\n",
    "# 포만감을 비용으로 나눈 값을 정렬\n",
    "# \n",
    "for i in range(n):\n",
    "\tp,c = map(int, input().split())\n",
    "\tfor i in range(p):\n",
    "\t\tres.append(c//p)\n",
    "\n",
    "res.sort(reverse=True)\n",
    "\n",
    "# print(res)\n",
    "print(sum(res[:k]))\n"
   ]
  },
  {
   "cell_type": "code",
   "execution_count": 13,
   "id": "b6ba3123-7b77-4954-b307-f5b64c00c334",
   "metadata": {},
   "outputs": [
    {
     "name": "stdin",
     "output_type": "stream",
     "text": [
      " 6 13\n"
     ]
    }
   ],
   "source": [
    "n,k = map(int, input().split())"
   ]
  },
  {
   "cell_type": "code",
   "execution_count": 7,
   "id": "74bfa2fc-1a73-4d2d-8b75-654ccf24cac6",
   "metadata": {},
   "outputs": [
    {
     "name": "stdin",
     "output_type": "stream",
     "text": [
      " 2 8\n",
      " 7 35\n",
      " 1 5\n",
      " 3 12\n",
      " 10 30\n",
      " 1 7\n"
     ]
    }
   ],
   "source": [
    "# 6 13\n",
    "# 2 8\n",
    "# 7 35\n",
    "# 1 5\n",
    "# 3 12\n",
    "# 10 30\n",
    "# 1 7\n",
    "res=[]\n",
    "for i in range(n):\n",
    "    p,c = map(int, input().split())\n",
    "    per = c//p\n",
    "    #per price, number of fruits\n",
    "    res.append((per,p))"
   ]
  },
  {
   "cell_type": "code",
   "execution_count": 10,
   "id": "ba872ccf-c69a-43c5-9632-6e6541544718",
   "metadata": {},
   "outputs": [],
   "source": [
    "res.sort(reverse=True, key=lambda x:x[0])"
   ]
  },
  {
   "cell_type": "code",
   "execution_count": 14,
   "id": "64587686-3e26-44a1-98cf-88ebeb75d405",
   "metadata": {},
   "outputs": [],
   "source": [
    "result = 0\n",
    "for i in range(n):\n",
    "    if k>=res[i][1]:\n",
    "        result += (res[i][1]*res[i][0])\n",
    "        k-=res[i][1]\n",
    "    else:\n",
    "        result +=(k*res[i][0])\n",
    "        break"
   ]
  },
  {
   "cell_type": "code",
   "execution_count": 15,
   "id": "e292d344-f146-4b8d-96a6-014a0576ac2a",
   "metadata": {},
   "outputs": [
    {
     "data": {
      "text/plain": [
       "63"
      ]
     },
     "execution_count": 15,
     "metadata": {},
     "output_type": "execute_result"
    }
   ],
   "source": [
    "result"
   ]
  },
  {
   "cell_type": "code",
   "execution_count": null,
   "id": "1014dc18-67fb-4967-8d33-954cfc3f18df",
   "metadata": {},
   "outputs": [],
   "source": []
  }
 ],
 "metadata": {
  "kernelspec": {
   "display_name": "Python 3",
   "language": "python",
   "name": "python3"
  },
  "language_info": {
   "codemirror_mode": {
    "name": "ipython",
    "version": 3
   },
   "file_extension": ".py",
   "mimetype": "text/x-python",
   "name": "python",
   "nbconvert_exporter": "python",
   "pygments_lexer": "ipython3",
   "version": "3.9.2"
  }
 },
 "nbformat": 4,
 "nbformat_minor": 5
}
