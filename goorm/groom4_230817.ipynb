{
 "cells": [
  {
   "cell_type": "code",
   "execution_count": null,
   "id": "7367b011-5312-44e6-af5d-064fb426e931",
   "metadata": {},
   "outputs": [],
   "source": [
    "def is_sorted(temp):\n",
    "\tfor i in range(1, len(temp)):\n",
    "\t\tif temp[i] < temp[i-1]:\n",
    "\t\t\treturn False\n",
    "\treturn True\n",
    "\n",
    "n = input()\n",
    "lis= list(map(int,input().split()))\n",
    "std = lis.index(max(lis))\n",
    "front  = lis[:std+1]\n",
    "back = list(reversed(lis[std:]))\n",
    "if is_sorted(front) and is_sorted(back):\n",
    "\tprint(sum(lis))\n",
    "else:\n",
    "\tprint(0)"
   ]
  }
 ],
 "metadata": {
  "kernelspec": {
   "display_name": "Python 3 (ipykernel)",
   "language": "python",
   "name": "python3"
  },
  "language_info": {
   "codemirror_mode": {
    "name": "ipython",
    "version": 3
   },
   "file_extension": ".py",
   "mimetype": "text/x-python",
   "name": "python",
   "nbconvert_exporter": "python",
   "pygments_lexer": "ipython3",
   "version": "3.9.15"
  }
 },
 "nbformat": 4,
 "nbformat_minor": 5
}
