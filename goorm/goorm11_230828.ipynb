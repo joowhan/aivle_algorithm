{
 "cells": [
  {
   "cell_type": "code",
   "execution_count": 18,
   "id": "19722028-b7b5-4317-8547-d97b99df4504",
   "metadata": {},
   "outputs": [
    {
     "data": {
      "text/plain": [
       "3"
      ]
     },
     "execution_count": 18,
     "metadata": {},
     "output_type": "execute_result"
    }
   ],
   "source": [
    "n = int(input())\n",
    "a,b = list(map(int, input().split()))\n",
    "only_b = n//b\n",
    "if n%b==0:\n",
    "    print(only_b)\n",
    "else:\n",
    "    # a로 나눌 수 없다면\n",
    "    only_a = -1\n",
    "    rest = n%b\n",
    "    if rest%a ==0:\n",
    "        print(only_b + (n%b)//a)\n",
    "\t\t# a가 너무 작거나, a로 나눠떨어지지 않을 때\n",
    "    else:\n",
    "        temp = n%b\n",
    "\t\t\t\t# b를 더해준다.\n",
    "        for i in range(only_b-1,-1,-1):\n",
    "            temp += b\n",
    "            if temp % a==0:\n",
    "                only_a = temp//a\n",
    "                print(only_a+ i)\n",
    "                break\n",
    "\t\t\t\t# a가 끝까지 업데이트 안되었다면\n",
    "        if only_a ==-1:\n",
    "            print(-1)"
   ]
  },
  {
   "cell_type": "code",
   "execution_count": 24,
   "id": "522b791b-c5e3-4963-88db-3d6ad812ea95",
   "metadata": {},
   "outputs": [
    {
     "name": "stdout",
     "output_type": "stream",
     "text": [
      "772\n"
     ]
    }
   ],
   "source": [
    "# 13으로 나눠 떨어지나? YES or NO\n",
    "# No -> for문으로 13으로 나누고 나머지가 a로 나눠떨어지나?\n",
    "    # 만약 나눠떨어지지 않으면 i 증가, 나눠떨어지면 기록하기 이 역시 i 증가\n",
    "    # for문을 끝까지 돌았을 때 기록된 a가 없으면 -1 출력\\\n",
    "only_b = n//b\n",
    "if n%b==0:\n",
    "    print(only_b)\n",
    "else:\n",
    "    # a로 나눌 수 없다면\n",
    "    only_a = -1\n",
    "    # a가 너무 작거나, a로 나눠떨어지지 않을 때\n",
    "    rest = n%b\n",
    "    if rest%a ==0:\n",
    "        print(only_b + (n%b)//a)\n",
    "    else:\n",
    "        temp = n%b\n",
    "        for i in range(only_b-1,-1,-1):\n",
    "            temp +=b\n",
    "            if temp % a==0:\n",
    "                only_a = temp//a\n",
    "                print(only_a+ i)\n",
    "                break\n",
    "        \n",
    "        if only_a ==-1:\n",
    "            print(-1)\n",
    "        "
   ]
  }
 ],
 "metadata": {
  "kernelspec": {
   "display_name": "Python 3 (ipykernel)",
   "language": "python",
   "name": "python3"
  },
  "language_info": {
   "codemirror_mode": {
    "name": "ipython",
    "version": 3
   },
   "file_extension": ".py",
   "mimetype": "text/x-python",
   "name": "python",
   "nbconvert_exporter": "python",
   "pygments_lexer": "ipython3",
   "version": "3.9.15"
  }
 },
 "nbformat": 4,
 "nbformat_minor": 5
}
