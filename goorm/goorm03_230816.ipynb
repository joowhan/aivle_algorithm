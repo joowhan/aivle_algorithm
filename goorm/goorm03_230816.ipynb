{
 "cells": [
  {
   "cell_type": "code",
   "execution_count": null,
   "id": "4e9003f9-9338-4383-b52b-b2ff85adae4d",
   "metadata": {},
   "outputs": [],
   "source": [
    "t = int(input())\n",
    "res = 0\n",
    "for i in range(t):\n",
    "\ta,s,b = input().split()\n",
    "\tif s =='+':\n",
    "\t\tres +=(int(a)+int(b))\n",
    "\telif s =='-':\n",
    "\t\tres +=(int(a)-int(b))\n",
    "\telif s =='/':\n",
    "\t\tres +=(int(a)//int(b))\n",
    "\telif s =='*':\n",
    "\t\tres +=(int(a)*int(b))\n",
    "print(res)"
   ]
  }
 ],
 "metadata": {
  "kernelspec": {
   "display_name": "Python 3 (ipykernel)",
   "language": "python",
   "name": "python3"
  },
  "language_info": {
   "codemirror_mode": {
    "name": "ipython",
    "version": 3
   },
   "file_extension": ".py",
   "mimetype": "text/x-python",
   "name": "python",
   "nbconvert_exporter": "python",
   "pygments_lexer": "ipython3",
   "version": "3.9.15"
  }
 },
 "nbformat": 4,
 "nbformat_minor": 5
}
