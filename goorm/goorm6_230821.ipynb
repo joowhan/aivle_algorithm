{
 "cells": [
  {
   "cell_type": "code",
   "execution_count": null,
   "id": "8fd24ac6-eef6-4e85-99ac-202cc6256c34",
   "metadata": {},
   "outputs": [],
   "source": [
    "# -*- coding: utf-8 -*-\n",
    "# UTF-8 encoding when using korean\n",
    "from itertools import combinations\n",
    "\n",
    "n = int(input())\n",
    "s = input()\n",
    "idx = [i for i in range(1,n)]\n",
    "sub_s = []\n",
    "sub_idx = list(combinations(idx,2))#a,b,cd - a bc, d - ab, c,d\n",
    "result =[]\n",
    "for sub in sub_idx:\n",
    "\ts1,s2,s3 = s[:sub[0]], s[sub[0]:sub[1]], s[sub[1]:]\n",
    "\tsub_s.append(s1)\n",
    "\tsub_s.append(s2)\n",
    "\tsub_s.append(s3)\n",
    "\tresult.append((s1,s2,s3))\n",
    "sub_s = sorted(list(set(sub_s)))\n",
    "max_num = 0\n",
    "for res in result:\n",
    "\ttemp = 3\n",
    "\tfor i in range(3):\n",
    "\t\ttemp += sub_s.index(res[i])\n",
    "\tif max_num < temp:\n",
    "\t\tmax_num = temp\n",
    "\t\t\n",
    "print(max_num)"
   ]
  }
 ],
 "metadata": {
  "kernelspec": {
   "display_name": "Python 3 (ipykernel)",
   "language": "python",
   "name": "python3"
  },
  "language_info": {
   "codemirror_mode": {
    "name": "ipython",
    "version": 3
   },
   "file_extension": ".py",
   "mimetype": "text/x-python",
   "name": "python",
   "nbconvert_exporter": "python",
   "pygments_lexer": "ipython3",
   "version": "3.9.15"
  }
 },
 "nbformat": 4,
 "nbformat_minor": 5
}
