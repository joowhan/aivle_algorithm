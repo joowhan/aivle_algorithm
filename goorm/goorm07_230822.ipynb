{
 "cells": [
  {
   "cell_type": "code",
   "execution_count": null,
   "id": "22c4610b-6564-4b60-9564-1fceb0135f0c",
   "metadata": {},
   "outputs": [],
   "source": [
    "# -*- coding: utf-8 -*-\n",
    "# UTF-8 encoding when using korean\n",
    "n, k = map(int, input().split())\n",
    "game =[]\n",
    "for i in range(n):\n",
    "\tgame.append(list(map(int, input().split())))\n",
    "\n",
    "dx=[-1,1,0,0,-1,-1,1,1]\n",
    "dy=[0,0,-1,1,-1,1,-1,1]\n",
    "\n",
    "def find_goorm(i,j):\n",
    "\tnum = 0\n",
    "\tfor t in range(8):\n",
    "\t\tnx = dx[t] + i\n",
    "\t\tny = dy[t] + j\n",
    "\t\tif nx>=n or nx<0 or ny>=n or ny<0:\n",
    "\t\t\tcontinue\n",
    "\t\tif game[nx][ny] == 1:\n",
    "\t\t\tnum +=1\n",
    "\treturn num\n",
    "\t\t\n",
    "count = 0\t\n",
    "for i in range(n):\n",
    "\tfor j in range(n):\n",
    "\t\tif game[i][j] != 1:\n",
    "\t\t\tgoorms = find_goorm(i,j)\n",
    "\t\t\tif goorms == k:\n",
    "\t\t\t\tcount +=1\n",
    "print(count)"
   ]
  }
 ],
 "metadata": {
  "kernelspec": {
   "display_name": "Python 3 (ipykernel)",
   "language": "python",
   "name": "python3"
  },
  "language_info": {
   "codemirror_mode": {
    "name": "ipython",
    "version": 3
   },
   "file_extension": ".py",
   "mimetype": "text/x-python",
   "name": "python",
   "nbconvert_exporter": "python",
   "pygments_lexer": "ipython3",
   "version": "3.9.15"
  }
 },
 "nbformat": 4,
 "nbformat_minor": 5
}
