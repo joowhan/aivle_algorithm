{
 "cells": [
  {
   "cell_type": "code",
   "execution_count": null,
   "id": "25a8e78d-8005-4dbe-8100-2dc851b1800c",
   "metadata": {},
   "outputs": [],
   "source": [
    "# -*- coding: utf-8 -*-\n",
    "# UTF-8 encoding when using korean\n",
    "n,k = map(int, input().split())\n",
    "ground = []\n",
    "boommap =[]\n",
    "dx=[-1,1,0,0]\n",
    "dy=[0,0,-1,1]\n",
    "def boom(y,x):\n",
    "\tif x>=n or x<0 or y>=n or y<0:\n",
    "\t\treturn\n",
    "\tif ground[y][x] =='#':\n",
    "\t\treturn\n",
    "\telif ground[y][x] == '@':\n",
    "\t\tboommap[y][x] += 2\n",
    "\telse:\n",
    "\t\tboommap[y][x] += 1\n",
    "\t\t\n",
    "for i in range(n):\n",
    "\tground.append(list(input().split()))\n",
    "\tboommap.append([0 for _ in range(n)])\n",
    "\n",
    "for i in range(k):\n",
    "\ty,x = map(int, input().split())\n",
    "\ty,x = y-1,x-1\n",
    "\tboom(y,x)\n",
    "\tfor i in range(4):\n",
    "\t\tboom(y+dy[i],x+dx[i])\n",
    "\t\n",
    "res =0\n",
    "for bm in boommap:\n",
    "\ttemp = max(bm)\n",
    "\tif res < int(temp):\n",
    "\t\tres = int(temp)\n",
    "print(res)"
   ]
  }
 ],
 "metadata": {
  "kernelspec": {
   "display_name": "Python 3 (ipykernel)",
   "language": "python",
   "name": "python3"
  },
  "language_info": {
   "codemirror_mode": {
    "name": "ipython",
    "version": 3
   },
   "file_extension": ".py",
   "mimetype": "text/x-python",
   "name": "python",
   "nbconvert_exporter": "python",
   "pygments_lexer": "ipython3",
   "version": "3.9.15"
  }
 },
 "nbformat": 4,
 "nbformat_minor": 5
}
