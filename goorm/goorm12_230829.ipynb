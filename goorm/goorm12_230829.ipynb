{
 "cells": [
  {
   "cell_type": "code",
   "execution_count": null,
   "id": "55ec52f8-3cf5-49ba-b499-f9192ac9c518",
   "metadata": {},
   "outputs": [],
   "source": [
    "# -*- coding: utf-8 -*-\n",
    "# UTF-8 encoding when using korean\n",
    "import sys\n",
    "from collections import deque\n",
    "input = sys.stdin.readline\n",
    "# sys.setrecursionlimit(1000)\n",
    "\n",
    "dx = [-1,1,0,0]\n",
    "dy = [0,0,-1,1]\n",
    "\n",
    "def bfs(x,y):\n",
    "\tq = deque([(x,y)])\n",
    "\twhile q:\n",
    "\t\tnx,ny = q.popleft()\n",
    "\t\t# print(nx,ny)\n",
    "\t\tif visited[nx][ny] == False:\n",
    "\t\t\tvisited[nx][ny] = True\n",
    "\t\t\tfor i in range(4):\n",
    "\t\t\t\ttx, ty = nx+dx[i], ny+dy[i]\n",
    "\t\t\t\tif tx>=n or tx<0 or ty>=n or ty<0:\n",
    "\t\t\t\t\tcontinue\n",
    "\t\t\t\tif graph[tx][ty] == 1 and visited[tx][ty] == False:\n",
    "\t\t\t\t\tq.append((tx,ty))\n",
    "n = int(input())\n",
    "\n",
    "graph =[] \n",
    "visited=[[False for _ in range(n)] for _ in range(n)]\n",
    "\n",
    "for i in range(n):\n",
    "\tgraph.append(list(map(int, input().split())))\n",
    "\t\n",
    "count = 0\n",
    "for i in range(n):\n",
    "\tfor j in range(n):\n",
    "\t\tif visited[i][j] == False and graph[i][j] ==1:\n",
    "\t\t\tbfs(i,j)\n",
    "\t\t\tcount +=1\n",
    "print(count)"
   ]
  }
 ],
 "metadata": {
  "kernelspec": {
   "display_name": "Python 3",
   "language": "python",
   "name": "python3"
  },
  "language_info": {
   "codemirror_mode": {
    "name": "ipython",
    "version": 3
   },
   "file_extension": ".py",
   "mimetype": "text/x-python",
   "name": "python",
   "nbconvert_exporter": "python",
   "pygments_lexer": "ipython3",
   "version": "3.9.2"
  }
 },
 "nbformat": 4,
 "nbformat_minor": 5
}
