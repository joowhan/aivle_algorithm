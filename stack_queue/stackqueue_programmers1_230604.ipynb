{
 "cells": [
  {
   "cell_type": "code",
   "execution_count": 1,
   "id": "0f79b288-a459-4e87-abfd-2de62ec30d58",
   "metadata": {},
   "outputs": [
    {
     "ename": "TypeError",
     "evalue": "can only concatenate list (not \"int\") to list",
     "output_type": "error",
     "traceback": [
      "\u001b[0;31m---------------------------------------------------------------------------\u001b[0m",
      "\u001b[0;31mTypeError\u001b[0m                                 Traceback (most recent call last)",
      "\u001b[0;32m<ipython-input-1-ae02c8b89073>\u001b[0m in \u001b[0;36m<module>\u001b[0;34m\u001b[0m\n\u001b[0;32m----> 1\u001b[0;31m \u001b[0;34m[\u001b[0m\u001b[0;36m1\u001b[0m\u001b[0;34m,\u001b[0m\u001b[0;36m2\u001b[0m\u001b[0;34m]\u001b[0m\u001b[0;34m+\u001b[0m\u001b[0;36m3\u001b[0m\u001b[0;34m\u001b[0m\u001b[0;34m\u001b[0m\u001b[0m\n\u001b[0m",
      "\u001b[0;31mTypeError\u001b[0m: can only concatenate list (not \"int\") to list"
     ]
    }
   ],
   "source": [
    "[1,2]+3"
   ]
  },
  {
   "cell_type": "code",
   "execution_count": 32,
   "id": "c26e6ce9-eb73-49b5-8427-0807eecaa13e",
   "metadata": {},
   "outputs": [],
   "source": [
    "progresses = [95, 90, 99, 99, 80, 99]"
   ]
  },
  {
   "cell_type": "code",
   "execution_count": 33,
   "id": "2b7a0930-f945-401d-bc74-6c5aa0c138ee",
   "metadata": {},
   "outputs": [],
   "source": [
    "speeds = [1, 1, 1, 1, 1, 1]"
   ]
  },
  {
   "cell_type": "code",
   "execution_count": 34,
   "id": "59b6b3c4-956f-473a-8cfb-1cf5b4a0d56d",
   "metadata": {},
   "outputs": [
    {
     "name": "stdout",
     "output_type": "stream",
     "text": [
      "current:  [96, 91, 100, 100, 81, 100]\n",
      "current:  [97, 92, 101, 101, 82, 101]\n",
      "current:  [98, 93, 102, 102, 83, 102]\n",
      "current:  [99, 94, 103, 103, 84, 103]\n",
      "current:  [100, 95, 104, 104, 85, 104]\n",
      "[95, 104, 104, 85, 104] [1]\n",
      "current:  [96, 105, 105, 86, 105]\n",
      "current:  [97, 106, 106, 87, 106]\n",
      "current:  [98, 107, 107, 88, 107]\n",
      "current:  [99, 108, 108, 89, 108]\n",
      "current:  [100, 109, 109, 90, 109]\n",
      "[90, 109] [1, 3]\n",
      "current:  [91, 110]\n",
      "current:  [92, 111]\n",
      "current:  [93, 112]\n",
      "current:  [94, 113]\n",
      "current:  [95, 114]\n",
      "current:  [96, 115]\n",
      "current:  [97, 116]\n",
      "current:  [98, 117]\n",
      "current:  [99, 118]\n",
      "current:  [100, 119]\n"
     ]
    }
   ],
   "source": [
    "answer = []\n",
    "while True:\n",
    "    if len(progresses) <=0:\n",
    "        break\n",
    "    temp =[]\n",
    "    progresses = [progresses[i]+speeds[i] for i in range(len(progresses))]\n",
    "    # print(\"current: \",progresses)\n",
    "    if progresses[0] >=100:\n",
    "        for i in range(len(progresses)):\n",
    "            if progresses[i] <100:\n",
    "                answer.append(i)\n",
    "                progresses = progresses[i:]\n",
    "                # print(progresses, answer)\n",
    "                break\n",
    "            elif i == (len(progresses)-1):\n",
    "                answer.append(i+1)\n",
    "                progresses= []"
   ]
  },
  {
   "cell_type": "code",
   "execution_count": 35,
   "id": "bcedd6b8-81de-42d1-93b0-54a7f24eea0e",
   "metadata": {},
   "outputs": [
    {
     "data": {
      "text/plain": [
       "[1, 3, 2]"
      ]
     },
     "execution_count": 35,
     "metadata": {},
     "output_type": "execute_result"
    }
   ],
   "source": [
    "answer"
   ]
  },
  {
   "cell_type": "code",
   "execution_count": null,
   "id": "c9f3d0c5-f674-4c28-a63c-d297799db12f",
   "metadata": {},
   "outputs": [],
   "source": []
  }
 ],
 "metadata": {
  "kernelspec": {
   "display_name": "Python 3",
   "language": "python",
   "name": "python3"
  },
  "language_info": {
   "codemirror_mode": {
    "name": "ipython",
    "version": 3
   },
   "file_extension": ".py",
   "mimetype": "text/x-python",
   "name": "python",
   "nbconvert_exporter": "python",
   "pygments_lexer": "ipython3",
   "version": "3.9.2"
  }
 },
 "nbformat": 4,
 "nbformat_minor": 5
}
