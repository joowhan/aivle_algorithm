{
 "cells": [
  {
   "cell_type": "code",
   "execution_count": 26,
   "id": "a4ffdb31-0bfd-4275-8412-8c123b2b38bc",
   "metadata": {},
   "outputs": [
    {
     "name": "stdin",
     "output_type": "stream",
     "text": [
      " 6\n"
     ]
    }
   ],
   "source": [
    "n = int(input())"
   ]
  },
  {
   "cell_type": "code",
   "execution_count": 27,
   "id": "7d363897-e46c-407d-9d18-2369b06c135d",
   "metadata": {},
   "outputs": [
    {
     "name": "stdin",
     "output_type": "stream",
     "text": [
      " 39 38 9 35 39 20\n"
     ]
    }
   ],
   "source": [
    "tree = list(map(int, input().split()))"
   ]
  },
  {
   "cell_type": "code",
   "execution_count": 19,
   "id": "3153ff8a-b43e-4b35-a610-c3fc1cd8ab06",
   "metadata": {},
   "outputs": [
    {
     "name": "stdout",
     "output_type": "stream",
     "text": [
      "7\n"
     ]
    }
   ],
   "source": [
    "max_num = tree.count(max(tree))\n",
    "if max_num==1:\n",
    "    print(2 + max_num + max(tree))\n",
    "else:\n",
    "    print(2 + max_num-1 + max(tree))"
   ]
  },
  {
   "cell_type": "code",
   "execution_count": 33,
   "id": "711c6237-9061-493e-9e66-053e910db602",
   "metadata": {},
   "outputs": [
    {
     "name": "stdout",
     "output_type": "stream",
     "text": [
      "42\n"
     ]
    }
   ],
   "source": [
    "greedy=[i for i in range(n)]\n",
    "tree.sort(reverse=True)\n",
    "for i in range(n):\n",
    "    greedy[i] += tree[i]\n",
    "print(max(greedy)+2)"
   ]
  },
  {
   "cell_type": "code",
   "execution_count": null,
   "id": "1fc3dd61-fb9b-41bd-b560-0537b82ea74d",
   "metadata": {},
   "outputs": [],
   "source": []
  }
 ],
 "metadata": {
  "kernelspec": {
   "display_name": "Python 3",
   "language": "python",
   "name": "python3"
  },
  "language_info": {
   "codemirror_mode": {
    "name": "ipython",
    "version": 3
   },
   "file_extension": ".py",
   "mimetype": "text/x-python",
   "name": "python",
   "nbconvert_exporter": "python",
   "pygments_lexer": "ipython3",
   "version": "3.9.2"
  }
 },
 "nbformat": 4,
 "nbformat_minor": 5
}
