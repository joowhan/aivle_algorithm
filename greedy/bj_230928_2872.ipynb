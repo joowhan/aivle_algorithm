{
 "cells": [
  {
   "cell_type": "code",
   "execution_count": 27,
   "id": "34d81b3d-3c24-484d-89dc-1d8121524d98",
   "metadata": {},
   "outputs": [
    {
     "name": "stdin",
     "output_type": "stream",
     "text": [
      " 5\n"
     ]
    }
   ],
   "source": [
    "n = int(input())"
   ]
  },
  {
   "cell_type": "code",
   "execution_count": 28,
   "id": "d25a9f30-6161-4816-99ac-69222041d7e2",
   "metadata": {},
   "outputs": [
    {
     "name": "stdin",
     "output_type": "stream",
     "text": [
      " 3\n",
      " 2\n",
      " 5\n",
      " 4\n",
      " 1\n"
     ]
    }
   ],
   "source": [
    "lis=[]\n",
    "for _ in range(n):\n",
    "    lis.append(int(input()))"
   ]
  },
  {
   "cell_type": "code",
   "execution_count": 29,
   "id": "be720c18-f033-4be4-9400-297f2c73969d",
   "metadata": {},
   "outputs": [],
   "source": [
    "max_val = max(lis)-1\n",
    "max_idx = lis.index(max(lis))"
   ]
  },
  {
   "cell_type": "code",
   "execution_count": 30,
   "id": "2aca16d5-1148-4f92-b9c7-738ef286dd17",
   "metadata": {},
   "outputs": [],
   "source": [
    "cnt = 1\n",
    "for i in range(max_idx-1,-1,-1):\n",
    "    if lis[i] == max_val:\n",
    "        max_val -=1\n",
    "        cnt +=1"
   ]
  },
  {
   "cell_type": "code",
   "execution_count": 31,
   "id": "cd7634a1-6574-4c0d-9e55-d510261457c4",
   "metadata": {},
   "outputs": [
    {
     "data": {
      "text/plain": [
       "4"
      ]
     },
     "execution_count": 31,
     "metadata": {},
     "output_type": "execute_result"
    }
   ],
   "source": [
    "n-cnt"
   ]
  },
  {
   "cell_type": "code",
   "execution_count": null,
   "id": "9293322e-f520-4f22-b82e-c55433813cbe",
   "metadata": {},
   "outputs": [],
   "source": []
  }
 ],
 "metadata": {
  "kernelspec": {
   "display_name": "Python 3",
   "language": "python",
   "name": "python3"
  },
  "language_info": {
   "codemirror_mode": {
    "name": "ipython",
    "version": 3
   },
   "file_extension": ".py",
   "mimetype": "text/x-python",
   "name": "python",
   "nbconvert_exporter": "python",
   "pygments_lexer": "ipython3",
   "version": "3.9.2"
  }
 },
 "nbformat": 4,
 "nbformat_minor": 5
}
