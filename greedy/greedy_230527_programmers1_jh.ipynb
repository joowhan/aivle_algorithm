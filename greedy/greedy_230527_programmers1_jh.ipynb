{
 "cells": [
  {
   "cell_type": "markdown",
   "id": "cc4032c7-d51b-4a4c-9147-437ae1761623",
   "metadata": {},
   "source": [
    "https://school.programmers.co.kr/learn/courses/30/lessons/42862?language=python3#"
   ]
  },
  {
   "cell_type": "code",
   "execution_count": 1,
   "id": "cf2b9d0a-d24c-47f0-94ef-dee4fcd5b3f0",
   "metadata": {},
   "outputs": [],
   "source": [
    "def solution(n, lost, reserve):\n",
    "    set_reserve = set(reserve) - set(lost)\n",
    "    set_lost = set(lost) - set(reserve)\n",
    "    answer = 0\n",
    "    for clothes in set_reserve:\n",
    "        if clothes-1 in set_lost:\n",
    "            set_lost.remove(clothes-1)\n",
    "        elif clothes+1 in set_lost:\n",
    "            set_lost.remove(clothes+1)\n",
    "    answer = n - len(set_lost)\n",
    "    return answer"
   ]
  },
  {
   "cell_type": "code",
   "execution_count": null,
   "id": "3cac5fff-ee6b-4c0c-a310-df1acf5e9789",
   "metadata": {},
   "outputs": [],
   "source": []
  }
 ],
 "metadata": {
  "kernelspec": {
   "display_name": "Python 3 (ipykernel)",
   "language": "python",
   "name": "python3"
  },
  "language_info": {
   "codemirror_mode": {
    "name": "ipython",
    "version": 3
   },
   "file_extension": ".py",
   "mimetype": "text/x-python",
   "name": "python",
   "nbconvert_exporter": "python",
   "pygments_lexer": "ipython3",
   "version": "3.9.13"
  }
 },
 "nbformat": 4,
 "nbformat_minor": 5
}
