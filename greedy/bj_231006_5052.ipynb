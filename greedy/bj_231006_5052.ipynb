{
 "cells": [
  {
   "cell_type": "code",
   "execution_count": 22,
   "id": "179916fd-9d8c-4113-b382-566b99f3e7d5",
   "metadata": {},
   "outputs": [
    {
     "name": "stdin",
     "output_type": "stream",
     "text": [
      " 1\n",
      " 5\n",
      " 113\n",
      " 12340\n",
      " 123440\n",
      " 12345\n",
      " 98346\n"
     ]
    },
    {
     "name": "stdout",
     "output_type": "stream",
     "text": [
      "YES\n"
     ]
    }
   ],
   "source": [
    "t = int(input())\n",
    "def greedy(lis):\n",
    "    lis.sort(key = lambda x: len(x))\n",
    "    # print(lis)\n",
    "    for p in range(n-1):\n",
    "        temp = lis[:p]+lis[p+1:]\n",
    "        for phone in temp:\n",
    "            if lis[p] in phone:\n",
    "                print(lis[p], phone)\n",
    "                return 'NO'\n",
    "    return 'YES'\n",
    "\n",
    "for _ in range(t):\n",
    "    n = int(input())\n",
    "    answer ='YES'\n",
    "    lis = []\n",
    "    for i in range(n):\n",
    "        lis.append(input())\n",
    "    answer = greedy(lis)\n",
    "    print(answer)"
   ]
  },
  {
   "cell_type": "code",
   "execution_count": 23,
   "id": "09a49ed6-0283-43d2-8670-61d9112dbde0",
   "metadata": {},
   "outputs": [
    {
     "name": "stdout",
     "output_type": "stream",
     "text": [
      "['113', '12340', '123440', '12345', '98346']\n",
      "['113', '12340', '123440', '12345', '98346']\n"
     ]
    }
   ],
   "source": [
    "lis=['113','12340','123440','12345','98346']\n",
    "lis.sort()\n",
    "print(lis)\n",
    "temp = lis[:p]+lis[p+1:]\n",
    "print(temp)"
   ]
  },
  {
   "cell_type": "code",
   "execution_count": 25,
   "id": "99cda896-c3ee-4a09-b1ac-1eeb141c4069",
   "metadata": {},
   "outputs": [
    {
     "name": "stdin",
     "output_type": "stream",
     "text": [
      " 1\n",
      " 5\n",
      " 113\n",
      " 12340\n",
      " 123440\n",
      " 12345\n",
      " 98346\n"
     ]
    },
    {
     "name": "stdout",
     "output_type": "stream",
     "text": [
      "YES\n"
     ]
    }
   ],
   "source": [
    "t = int(input())\n",
    "def greedy(lis):\n",
    "    lis.sort()\n",
    "    # print(lis)\n",
    "    for p in range(n-1):\n",
    "        if lis[p] == lis[p+1][:len(lis[p])]:\n",
    "            return 'NO'\n",
    "    return 'YES'\n",
    "\n",
    "for _ in range(t):\n",
    "    n = int(input())\n",
    "    answer ='YES'\n",
    "    lis = []\n",
    "    for i in range(n):\n",
    "        lis.append(input().strip())\n",
    "    answer = greedy(lis)\n",
    "    print(answer)"
   ]
  },
  {
   "cell_type": "code",
   "execution_count": null,
   "id": "70e86366-33c8-4a07-99e4-7e9ad9a23c0b",
   "metadata": {},
   "outputs": [],
   "source": []
  }
 ],
 "metadata": {
  "kernelspec": {
   "display_name": "Python 3",
   "language": "python",
   "name": "python3"
  },
  "language_info": {
   "codemirror_mode": {
    "name": "ipython",
    "version": 3
   },
   "file_extension": ".py",
   "mimetype": "text/x-python",
   "name": "python",
   "nbconvert_exporter": "python",
   "pygments_lexer": "ipython3",
   "version": "3.9.2"
  }
 },
 "nbformat": 4,
 "nbformat_minor": 5
}
