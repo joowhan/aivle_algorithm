{
 "cells": [
  {
   "cell_type": "code",
   "execution_count": 116,
   "id": "ec1a4b0c-f03a-49cc-8b52-0c1d1c15f0e5",
   "metadata": {},
   "outputs": [
    {
     "name": "stdin",
     "output_type": "stream",
     "text": [
      " 4 2\n"
     ]
    }
   ],
   "source": [
    "n, k = map(int, input().split())"
   ]
  },
  {
   "cell_type": "code",
   "execution_count": 85,
   "id": "a61d74e7-2536-4c11-9e02-4045234acec6",
   "metadata": {},
   "outputs": [
    {
     "name": "stdin",
     "output_type": "stream",
     "text": [
      " 1934\n"
     ]
    }
   ],
   "source": [
    "num = list(map(int,input()))"
   ]
  },
  {
   "cell_type": "code",
   "execution_count": 29,
   "id": "d1b75a8e-f45c-4a5f-99e3-27ac121929ca",
   "metadata": {},
   "outputs": [
    {
     "data": {
      "text/plain": [
       "[1, 2, 3, 1, 2, 3, 4]"
      ]
     },
     "execution_count": 29,
     "metadata": {},
     "output_type": "execute_result"
    }
   ],
   "source": [
    "num"
   ]
  },
  {
   "cell_type": "code",
   "execution_count": 34,
   "id": "5f174a4d-0a36-4664-a194-94ba834d3037",
   "metadata": {},
   "outputs": [],
   "source": [
    "from itertools import permutations"
   ]
  },
  {
   "cell_type": "code",
   "execution_count": 40,
   "id": "86ae3edf-addd-47f8-a864-d5cde3b75fa4",
   "metadata": {},
   "outputs": [],
   "source": [
    "from itertools import permutations\n",
    "answer=0\n",
    "res = max(list(permutations(num,n-k)))\n",
    "for i in range(len(res)-1,-1,-1):\n",
    "    answer+=(10**(len(res)-1-i))*res[i]"
   ]
  },
  {
   "cell_type": "code",
   "execution_count": 41,
   "id": "f1155b94-3c93-4b80-a1d4-1912ad1a1ea5",
   "metadata": {},
   "outputs": [
    {
     "data": {
      "text/plain": [
       "(4, 3, 3, 2)"
      ]
     },
     "execution_count": 41,
     "metadata": {},
     "output_type": "execute_result"
    }
   ],
   "source": [
    "res"
   ]
  },
  {
   "cell_type": "code",
   "execution_count": 56,
   "id": "169d686c-f826-441a-9e88-fb1b0bc4714d",
   "metadata": {},
   "outputs": [
    {
     "data": {
      "text/plain": [
       "[1, 2, 3, 1, 2, 3, 4]"
      ]
     },
     "execution_count": 56,
     "metadata": {},
     "output_type": "execute_result"
    }
   ],
   "source": [
    "num"
   ]
  },
  {
   "cell_type": "code",
   "execution_count": 45,
   "id": "2da379ee-c499-4a16-800b-57463ed26e15",
   "metadata": {},
   "outputs": [],
   "source": [
    "from collections import deque"
   ]
  },
  {
   "cell_type": "code",
   "execution_count": 103,
   "id": "887d2655-36ad-4d0d-9d5b-831280cccaf0",
   "metadata": {},
   "outputs": [],
   "source": [
    "stack = deque([num[0]])"
   ]
  },
  {
   "cell_type": "code",
   "execution_count": 104,
   "id": "4daf745b-dd85-4430-b9eb-c5608b0743a2",
   "metadata": {},
   "outputs": [],
   "source": [
    "for i in range(1,n):\n",
    "    while len(stack)>0 and k>0:\n",
    "        if num[i] > stack[-1]:\n",
    "            stack.pop()\n",
    "            k-=1\n",
    "            # print(stack)\n",
    "        else:\n",
    "            break\n",
    "    stack.append(num[i])"
   ]
  },
  {
   "cell_type": "code",
   "execution_count": 112,
   "id": "a0e5ec95-c37f-4dc5-86da-8e012a3911a4",
   "metadata": {
    "tags": []
   },
   "outputs": [
    {
     "name": "stdout",
     "output_type": "stream",
     "text": [
      "94\n"
     ]
    }
   ],
   "source": [
    "res = 0\n",
    "for i in range(len(stack)):\n",
    "    res += (10**(len(stack)-1-i)) * stack[i]\n",
    "print(res)"
   ]
  },
  {
   "cell_type": "code",
   "execution_count": 133,
   "id": "dd9c023b-2570-4591-b224-c26093405082",
   "metadata": {},
   "outputs": [
    {
     "name": "stdin",
     "output_type": "stream",
     "text": [
      " 10 4\n",
      " 4177252841\n"
     ]
    },
    {
     "data": {
      "text/plain": [
       "775841"
      ]
     },
     "execution_count": 133,
     "metadata": {},
     "output_type": "execute_result"
    }
   ],
   "source": [
    "n, k = map(int, input().split())\n",
    "num = list(input())\n",
    "stack=[]\n",
    "deleted=0\n",
    "for i in range(n):\n",
    "    while len(stack)>0 and num[i] > stack[-1]:\n",
    "        if deleted==k:\n",
    "            break\n",
    "            # print(k)\n",
    "            # print(stack)\n",
    "        else:\n",
    "            stack.pop()\n",
    "            deleted +=1\n",
    "    stack.append(num[i])\n",
    "for i in range(k-deleted):\n",
    "    stack.pop()\n",
    "int(''.join(stack))"
   ]
  },
  {
   "cell_type": "code",
   "execution_count": 129,
   "id": "fb61b137-0af0-4291-be90-da4183f9b8ac",
   "metadata": {},
   "outputs": [
    {
     "data": {
      "text/plain": [
       "94"
      ]
     },
     "execution_count": 129,
     "metadata": {},
     "output_type": "execute_result"
    }
   ],
   "source": [
    "int(''.join(stack))"
   ]
  },
  {
   "cell_type": "code",
   "execution_count": 125,
   "id": "166438a7-bc7e-4cdf-b676-dca2eb6efba1",
   "metadata": {},
   "outputs": [
    {
     "data": {
      "text/plain": [
       "1"
      ]
     },
     "execution_count": 125,
     "metadata": {},
     "output_type": "execute_result"
    }
   ],
   "source": [
    "k"
   ]
  },
  {
   "cell_type": "code",
   "execution_count": 134,
   "id": "6b252fe9-8d83-4018-a3af-fe5cab7d3a3e",
   "metadata": {},
   "outputs": [
    {
     "name": "stdin",
     "output_type": "stream",
     "text": [
      " 4 2\n",
      " 1934\n"
     ]
    },
    {
     "data": {
      "text/plain": [
       "94"
      ]
     },
     "execution_count": 134,
     "metadata": {},
     "output_type": "execute_result"
    }
   ],
   "source": [
    "n, k = map(int, input().split())\n",
    "num = input().strip()\n",
    "stack=[]\n",
    "deleted=0\n",
    "for i in num:\n",
    "    while len(stack)>0 and i > stack[-1]:\n",
    "        if deleted==k:\n",
    "            break\n",
    "            # print(k)\n",
    "            # print(stack)\n",
    "        else:\n",
    "            stack.pop()\n",
    "            deleted +=1\n",
    "    stack.append(i)\n",
    "for i in range(k-deleted):\n",
    "    stack.pop()\n",
    "int(''.join(stack))"
   ]
  },
  {
   "cell_type": "code",
   "execution_count": 135,
   "id": "e37a4716-e7b1-4e9e-ac82-010ed0009216",
   "metadata": {},
   "outputs": [
    {
     "ename": "ValueError",
     "evalue": "not enough values to unpack (expected 2, got 0)",
     "output_type": "error",
     "traceback": [
      "\u001b[0;31m---------------------------------------------------------------------------\u001b[0m",
      "\u001b[0;31mValueError\u001b[0m                                Traceback (most recent call last)",
      "\u001b[0;32m<ipython-input-135-ad920acdb1f2>\u001b[0m in \u001b[0;36m<module>\u001b[0;34m\u001b[0m\n\u001b[1;32m      1\u001b[0m \u001b[0;32mimport\u001b[0m \u001b[0msys\u001b[0m\u001b[0;34m\u001b[0m\u001b[0;34m\u001b[0m\u001b[0m\n\u001b[1;32m      2\u001b[0m \u001b[0minput\u001b[0m \u001b[0;34m=\u001b[0m \u001b[0msys\u001b[0m\u001b[0;34m.\u001b[0m\u001b[0mstdin\u001b[0m\u001b[0;34m.\u001b[0m\u001b[0mreadline\u001b[0m\u001b[0;34m\u001b[0m\u001b[0;34m\u001b[0m\u001b[0m\n\u001b[0;32m----> 3\u001b[0;31m \u001b[0mn\u001b[0m\u001b[0;34m,\u001b[0m \u001b[0mk\u001b[0m \u001b[0;34m=\u001b[0m \u001b[0mmap\u001b[0m\u001b[0;34m(\u001b[0m\u001b[0mint\u001b[0m\u001b[0;34m,\u001b[0m \u001b[0minput\u001b[0m\u001b[0;34m(\u001b[0m\u001b[0;34m)\u001b[0m\u001b[0;34m.\u001b[0m\u001b[0msplit\u001b[0m\u001b[0;34m(\u001b[0m\u001b[0;34m)\u001b[0m\u001b[0;34m)\u001b[0m\u001b[0;34m\u001b[0m\u001b[0;34m\u001b[0m\u001b[0m\n\u001b[0m\u001b[1;32m      4\u001b[0m \u001b[0mnum\u001b[0m \u001b[0;34m=\u001b[0m \u001b[0minput\u001b[0m\u001b[0;34m(\u001b[0m\u001b[0;34m)\u001b[0m\u001b[0;34m.\u001b[0m\u001b[0mstrip\u001b[0m\u001b[0;34m(\u001b[0m\u001b[0;34m)\u001b[0m\u001b[0;34m\u001b[0m\u001b[0;34m\u001b[0m\u001b[0m\n\u001b[1;32m      5\u001b[0m \u001b[0mstack\u001b[0m\u001b[0;34m=\u001b[0m\u001b[0;34m[\u001b[0m\u001b[0;34m]\u001b[0m\u001b[0;34m\u001b[0m\u001b[0;34m\u001b[0m\u001b[0m\n",
      "\u001b[0;31mValueError\u001b[0m: not enough values to unpack (expected 2, got 0)"
     ]
    }
   ],
   "source": [
    "import sys\n",
    "input = sys.stdin.readline\n",
    "n, k = map(int, input().split())\n",
    "num = input().strip()\n",
    "stack=[]\n",
    "deleted=0\n",
    "for i in num:\n",
    "    while len(stack)>0 and i > stack[-1]:\n",
    "        if deleted==k:\n",
    "            break\n",
    "            # print(k)\n",
    "            # print(stack)\n",
    "        else:\n",
    "            stack.pop()\n",
    "            deleted +=1\n",
    "    stack.append(i)\n",
    "for i in range(k-deleted):\n",
    "    stack.pop()\n",
    "int(''.join(stack))"
   ]
  },
  {
   "cell_type": "code",
   "execution_count": null,
   "id": "ab59aac4-74b6-4f44-87a0-6d0c812f7134",
   "metadata": {},
   "outputs": [],
   "source": []
  }
 ],
 "metadata": {
  "kernelspec": {
   "display_name": "Python 3 (ipykernel)",
   "language": "python",
   "name": "python3"
  },
  "language_info": {
   "codemirror_mode": {
    "name": "ipython",
    "version": 3
   },
   "file_extension": ".py",
   "mimetype": "text/x-python",
   "name": "python",
   "nbconvert_exporter": "python",
   "pygments_lexer": "ipython3",
   "version": "3.9.15"
  }
 },
 "nbformat": 4,
 "nbformat_minor": 5
}
