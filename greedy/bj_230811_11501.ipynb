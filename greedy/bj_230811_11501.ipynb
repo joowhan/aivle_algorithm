{
 "cells": [
  {
   "cell_type": "markdown",
   "id": "52262edb-b0bd-4d84-a4f3-b2df2098ba6d",
   "metadata": {},
   "source": [
    "https://www.acmicpc.net/problem/11501"
   ]
  },
  {
   "cell_type": "code",
   "execution_count": 17,
   "id": "fedb0313-fd95-4acb-b0d9-c1ba9f9fdd44",
   "metadata": {},
   "outputs": [
    {
     "name": "stdin",
     "output_type": "stream",
     "text": [
      " 3\n"
     ]
    }
   ],
   "source": [
    "t = int(input())"
   ]
  },
  {
   "cell_type": "code",
   "execution_count": 21,
   "id": "5c7658ec-4d04-49f8-b54e-030faf8e83d7",
   "metadata": {},
   "outputs": [
    {
     "name": "stdin",
     "output_type": "stream",
     "text": [
      " 3\n",
      " 10 7 6\n",
      " 3\n",
      " 3 5 9\n",
      " 5\n",
      " 1 1 3 1 2\n"
     ]
    },
    {
     "name": "stdout",
     "output_type": "stream",
     "text": [
      "0\n",
      "10\n",
      "5\n"
     ]
    }
   ],
   "source": [
    "# error\n",
    "t = int(input())\n",
    "result = []\n",
    "for _ in range(t):\n",
    "    n = int(input())\n",
    "    stocks = list(map(int, input().split()))\n",
    "    res = 0\n",
    "    # i는 파는 날짜, j는 지금까지의 수익 계산\n",
    "    k=0\n",
    "    flag = 0\n",
    "    for i in range(1, n):\n",
    "        temp = 0\n",
    "        # 주식이 오르고 있을 때 -> 한번 팔아보기 -> 최대가 되었다면 값을 교체한다.\n",
    "        if stocks[i] >= stocks[i-1]:\n",
    "            for j in range(k,i):\n",
    "                temp += (stocks[i] - stocks[j])\n",
    "            if flag == 1:\n",
    "                flag = 0\n",
    "                temp +=res\n",
    "            res = max(res, temp)\n",
    "        #떨어지면 기다리기, 위치 저장하기    \n",
    "        elif flag == 0 and stocks[i] < stocks[i-1]:\n",
    "            k = i\n",
    "            flag = 1\n",
    "        \n",
    "    result.append(res)\n",
    "\n",
    "for ans in result:\n",
    "    print(ans)"
   ]
  },
  {
   "cell_type": "code",
   "execution_count": 5,
   "id": "4fc13145-9e1f-45c8-9339-f507f2690693",
   "metadata": {},
   "outputs": [
    {
     "name": "stdin",
     "output_type": "stream",
     "text": [
      " 1\n",
      " 8\n",
      " 7 8 10 9 12 7 4 5\n"
     ]
    }
   ],
   "source": [
    "t = int(input())\n",
    "for _ in range(t):\n",
    "    n = int(input())\n",
    "    stocks = list(map(int, input().split()))\n",
    "    temp = [0 for _ in range(n)]\n",
    "    for i in range(n-1):\n",
    "        profit= max(stocks[i+1:]) - stocks[i]\n",
    "        if profit >=0:\n",
    "            temp[i] = profit\n",
    "print(sum(temp))"
   ]
  },
  {
   "cell_type": "code",
   "execution_count": 9,
   "id": "480a61e7-c67f-4bc7-b58b-fc47790968a8",
   "metadata": {},
   "outputs": [
    {
     "name": "stdout",
     "output_type": "stream",
     "text": [
      "15\n"
     ]
    }
   ],
   "source": [
    "print(sum(temp))"
   ]
  },
  {
   "cell_type": "code",
   "execution_count": 4,
   "id": "e1ad5bab-6ccd-4afc-86e3-9a86ff4e6f84",
   "metadata": {},
   "outputs": [
    {
     "data": {
      "text/plain": [
       "[5, 4, 2, 3, 1]"
      ]
     },
     "execution_count": 4,
     "metadata": {},
     "output_type": "execute_result"
    }
   ],
   "source": [
    "result"
   ]
  },
  {
   "cell_type": "code",
   "execution_count": 15,
   "id": "dd66182a-fd6c-48b8-a364-32fbd87d2e75",
   "metadata": {},
   "outputs": [
    {
     "name": "stdin",
     "output_type": "stream",
     "text": [
      " 1\n",
      " 8\n",
      " 7 8 10 9 12 7 4 5\n"
     ]
    },
    {
     "name": "stdout",
     "output_type": "stream",
     "text": [
      "15\n"
     ]
    }
   ],
   "source": [
    "import sys\n",
    "input = sys.stdin.readline\n",
    "t = int(input())\n",
    "for _ in range(t):\n",
    "    n = int(input())\n",
    "    stocks = list(map(int, input().split()))\n",
    "    temp = [0 for _ in range(n)]\n",
    "    # 당일도 포함\n",
    "    for i in range(n-1,-1,-1):\n",
    "        temp[i] = max(stocks[i:])\n",
    "    res = 0\n",
    "    for i in range(n):\n",
    "        res += max(temp[i] - stocks[i],0)\n",
    "print(res)"
   ]
  },
  {
   "cell_type": "code",
   "execution_count": 12,
   "id": "6af49a28-9ab6-456b-9b2a-d148d6a6dcc8",
   "metadata": {},
   "outputs": [
    {
     "data": {
      "text/plain": [
       "0"
      ]
     },
     "execution_count": 12,
     "metadata": {},
     "output_type": "execute_result"
    }
   ],
   "source": [
    "res"
   ]
  },
  {
   "cell_type": "code",
   "execution_count": null,
   "id": "3833dd8a-68b4-490f-88a7-280e2353687b",
   "metadata": {},
   "outputs": [],
   "source": []
  }
 ],
 "metadata": {
  "kernelspec": {
   "display_name": "Python 3",
   "language": "python",
   "name": "python3"
  },
  "language_info": {
   "codemirror_mode": {
    "name": "ipython",
    "version": 3
   },
   "file_extension": ".py",
   "mimetype": "text/x-python",
   "name": "python",
   "nbconvert_exporter": "python",
   "pygments_lexer": "ipython3",
   "version": "3.9.2"
  }
 },
 "nbformat": 4,
 "nbformat_minor": 5
}
