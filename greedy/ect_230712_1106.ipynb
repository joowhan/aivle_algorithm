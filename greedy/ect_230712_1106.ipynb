{
 "cells": [
  {
   "cell_type": "code",
   "execution_count": 1,
   "id": "3479eac3-a33b-4e11-8d94-7f0efffb2004",
   "metadata": {},
   "outputs": [],
   "source": [
    "#failed solution\n",
    "def solution(food_times, k):\n",
    "    answer = 0\n",
    "    x=0\n",
    "    for i in range(k):        \n",
    "        if answer >= len(food_times):\n",
    "            answer = 0\n",
    "        if food_times[answer] <=0:\n",
    "            answer +=1\n",
    "        print(answer)\n",
    "        food_times[answer] -=1\n",
    "        answer +=1\n",
    "    return answer%len(food_times)+1"
   ]
  },
  {
   "cell_type": "code",
   "execution_count": null,
   "id": "72c2b483-635c-4bce-823f-5f51dc3bd849",
   "metadata": {},
   "outputs": [],
   "source": []
  }
 ],
 "metadata": {
  "kernelspec": {
   "display_name": "Python 3",
   "language": "python",
   "name": "python3"
  },
  "language_info": {
   "codemirror_mode": {
    "name": "ipython",
    "version": 3
   },
   "file_extension": ".py",
   "mimetype": "text/x-python",
   "name": "python",
   "nbconvert_exporter": "python",
   "pygments_lexer": "ipython3",
   "version": "3.9.2"
  }
 },
 "nbformat": 4,
 "nbformat_minor": 5
}
