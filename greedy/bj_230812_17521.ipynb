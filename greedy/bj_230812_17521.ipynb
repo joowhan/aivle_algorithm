{
 "cells": [
  {
   "cell_type": "code",
   "execution_count": 1,
   "id": "989cf509-a76b-497e-8a68-8a5508b1121d",
   "metadata": {},
   "outputs": [
    {
     "name": "stdin",
     "output_type": "stream",
     "text": [
      " 10 24\n"
     ]
    }
   ],
   "source": [
    "# import sys\n",
    "# input = sys.stdin.readline\n",
    "n,w = map(int, input().split())"
   ]
  },
  {
   "cell_type": "code",
   "execution_count": 3,
   "id": "c680d920-07b5-44fa-a959-60e3e4d91ca5",
   "metadata": {},
   "outputs": [
    {
     "name": "stdin",
     "output_type": "stream",
     "text": [
      " 5\n",
      " 7\n",
      " 5\n",
      " 4\n",
      " 2\n",
      " 7\n",
      " 8\n",
      " 5\n",
      " 3\n",
      " 4\n"
     ]
    }
   ],
   "source": [
    "coins=[]\n",
    "profit=[0 for _ in range(n)]\n",
    "for i in range(n):\n",
    "    coins.append(int(input()))\n",
    "for i in range(n-1,-1,-1):\n",
    "    profit[i] = max(coins[i:])"
   ]
  },
  {
   "cell_type": "code",
   "execution_count": 4,
   "id": "40c32a52-4e8c-41e5-9738-4df51a647cc4",
   "metadata": {},
   "outputs": [
    {
     "data": {
      "text/plain": [
       "[8, 8, 8, 8, 8, 8, 8, 5, 4, 4]"
      ]
     },
     "execution_count": 4,
     "metadata": {},
     "output_type": "execute_result"
    }
   ],
   "source": [
    "profit"
   ]
  },
  {
   "cell_type": "code",
   "execution_count": 5,
   "id": "44657ab7-0853-4d05-ab75-5c3136d8a32d",
   "metadata": {},
   "outputs": [],
   "source": [
    "for i in range(n):\n",
    "    profit[i] = max(0, profit[i]-coins[i])"
   ]
  },
  {
   "cell_type": "code",
   "execution_count": 6,
   "id": "e1e56c87-44dc-4d88-83e5-ea4d9cff9967",
   "metadata": {},
   "outputs": [
    {
     "data": {
      "text/plain": [
       "[3, 1, 3, 4, 6, 1, 0, 0, 1, 0]"
      ]
     },
     "execution_count": 6,
     "metadata": {},
     "output_type": "execute_result"
    }
   ],
   "source": [
    "profit"
   ]
  },
  {
   "cell_type": "code",
   "execution_count": 7,
   "id": "d973fb6e-a25d-4985-b05f-d6d8d37610ec",
   "metadata": {},
   "outputs": [],
   "source": [
    "highest = 50\n",
    "lowest = 0"
   ]
  },
  {
   "cell_type": "code",
   "execution_count": 8,
   "id": "6815bb94-cc41-4af3-8c29-53c9f7a4fa4d",
   "metadata": {},
   "outputs": [
    {
     "data": {
      "text/plain": [
       "[5, 7, 5, 4, 2, 7, 8, 5, 3, 4]"
      ]
     },
     "execution_count": 8,
     "metadata": {},
     "output_type": "execute_result"
    }
   ],
   "source": [
    "#그냥 줄었다가 늘어나는 점, 늘었다가 줄어드는 점을 발견하면??\n",
    "coins"
   ]
  },
  {
   "cell_type": "code",
   "execution_count": 64,
   "id": "43cb09a7-78b9-4969-8720-501ff2ee650a",
   "metadata": {},
   "outputs": [
    {
     "name": "stdin",
     "output_type": "stream",
     "text": [
      " 5 15\n",
      " 5\n",
      " 4\n",
      " 4\n",
      " 2\n",
      " 7\n"
     ]
    }
   ],
   "source": [
    "#2\n",
    "n,w = map(int, input().split())\n",
    "coins=[51]\n",
    "profit=[0 for _ in range(n)]\n",
    "for i in range(n):\n",
    "    coins.append(int(input()))"
   ]
  },
  {
   "cell_type": "code",
   "execution_count": 65,
   "id": "c98303e8-cb8f-46c1-a1c7-6fba81e7af10",
   "metadata": {},
   "outputs": [],
   "source": [
    "coins.append(0)"
   ]
  },
  {
   "cell_type": "code",
   "execution_count": 66,
   "id": "f003abbd-c6ab-42df-8fb5-3bcba8bd448e",
   "metadata": {},
   "outputs": [
    {
     "data": {
      "text/plain": [
       "[51, 5, 4, 4, 2, 7, 0]"
      ]
     },
     "execution_count": 66,
     "metadata": {},
     "output_type": "execute_result"
    }
   ],
   "source": [
    "coins"
   ]
  },
  {
   "cell_type": "code",
   "execution_count": 58,
   "id": "05e4ac51-4a8b-410f-b3fd-523c0a1be414",
   "metadata": {},
   "outputs": [],
   "source": [
    "w = 15"
   ]
  },
  {
   "cell_type": "code",
   "execution_count": 71,
   "id": "c97c1d5a-0696-4abc-8c23-166485f7c3a7",
   "metadata": {},
   "outputs": [
    {
     "name": "stdin",
     "output_type": "stream",
     "text": [
      " 7 54\n",
      " 7\n",
      " 5\n",
      " 5\n",
      " 4\n",
      " 2\n",
      " 2\n",
      " 1\n"
     ]
    },
    {
     "name": "stdout",
     "output_type": "stream",
     "text": [
      "54\n"
     ]
    }
   ],
   "source": [
    "n,w = map(int, input().split())\n",
    "coins=[51]\n",
    "profit=[0 for _ in range(n)]\n",
    "for i in range(n):\n",
    "    coins.append(int(input()))\n",
    "    \n",
    "num = 0\n",
    "# res = 0\n",
    "coins.append(0)\n",
    "for i in range(1,n+1):\n",
    "    #local minimum -> 최대한 사기\n",
    "    if coins[i] < coins[i-1] and coins[i] < coins[i+1]:\n",
    "        num = w//coins[i]\n",
    "        w -= (num*coins[i])\n",
    "\n",
    "    elif coins[i] > coins[i-1] and coins[i] > coins[i+1]:\n",
    "        w += (num*coins[i])\n",
    "        num = 0\n",
    "print(w)"
   ]
  },
  {
   "cell_type": "code",
   "execution_count": 68,
   "id": "2e8dd2ea-9ac3-4953-b557-1ff9b6bfadf3",
   "metadata": {},
   "outputs": [
    {
     "data": {
      "text/plain": [
       "50"
      ]
     },
     "execution_count": 68,
     "metadata": {},
     "output_type": "execute_result"
    }
   ],
   "source": [
    "w"
   ]
  },
  {
   "cell_type": "code",
   "execution_count": null,
   "id": "b34480d7-7055-4397-ab10-600b70fdf70a",
   "metadata": {},
   "outputs": [],
   "source": []
  }
 ],
 "metadata": {
  "kernelspec": {
   "display_name": "Python 3 (ipykernel)",
   "language": "python",
   "name": "python3"
  },
  "language_info": {
   "codemirror_mode": {
    "name": "ipython",
    "version": 3
   },
   "file_extension": ".py",
   "mimetype": "text/x-python",
   "name": "python",
   "nbconvert_exporter": "python",
   "pygments_lexer": "ipython3",
   "version": "3.9.15"
  }
 },
 "nbformat": 4,
 "nbformat_minor": 5
}
