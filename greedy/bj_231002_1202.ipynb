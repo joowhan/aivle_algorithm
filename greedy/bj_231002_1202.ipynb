{
 "cells": [
  {
   "cell_type": "code",
   "execution_count": 58,
   "metadata": {},
   "outputs": [
    {
     "name": "stdin",
     "output_type": "stream",
     "text": [
      " 3 2\n",
      " 1 65\n",
      " 5 23\n",
      " 2 99\n",
      " 10\n",
      " 2\n"
     ]
    }
   ],
   "source": [
    "import heapq\n",
    "\n",
    "n,k = map(int, input().split())\n",
    "jewelry =[]\n",
    "bags=[]\n",
    "for i in range(n):\n",
    "    a,b = map(int, input().split())\n",
    "    jewelry.append((a,b))\n",
    "for i in range(k):\n",
    "    heapq.heappush(bags, int(input()))"
   ]
  },
  {
   "cell_type": "code",
   "execution_count": 59,
   "metadata": {},
   "outputs": [
    {
     "name": "stdout",
     "output_type": "stream",
     "text": [
      "[-99, -65] 2\n",
      "[-65, -23] 3\n"
     ]
    }
   ],
   "source": [
    "jewelry.sort(key=lambda x:x[0])\n",
    "answer = 0\n",
    "idx =0\n",
    "temp =[]\n",
    "while bags:\n",
    "    weight = heapq.heappop(bags)\n",
    "    max_value = 0\n",
    "    for i in range(idx, n):\n",
    "        if jewelry[i][0]>weight:\n",
    "            break\n",
    "        else:\n",
    "            heapq.heappush(temp, -jewelry[i][1])\n",
    "            idx +=1\n",
    "#     print(temp, idx)\n",
    "    answer += -heapq.heappop(temp)"
   ]
  },
  {
   "cell_type": "code",
   "execution_count": 60,
   "metadata": {},
   "outputs": [
    {
     "data": {
      "text/plain": [
       "164"
      ]
     },
     "execution_count": 60,
     "metadata": {},
     "output_type": "execute_result"
    }
   ],
   "source": [
    "import heapq\n",
    "# import sys\n",
    "# input = sys.stdin.readline\n",
    "\n",
    "n,k = map(int, input().split())\n",
    "jewelry =[]\n",
    "bags=[]\n",
    "for i in range(n):\n",
    "    a,b = map(int, input().split())\n",
    "    jewelry.append((a,b))\n",
    "for i in range(k):\n",
    "    heapq.heappush(bags, int(input()))\n",
    "    \n",
    "jewelry.sort(key=lambda x:x[0])\n",
    "answer = 0\n",
    "idx =0\n",
    "temp =[]\n",
    "while bags:\n",
    "    weight = heapq.heappop(bags)\n",
    "    max_value = 0\n",
    "    while idx < n:\n",
    "        if jewelry[idx][0]>weight:\n",
    "            break\n",
    "        else:\n",
    "            heapq.heappush(temp, -jewelry[idx][1])\n",
    "            idx +=1\n",
    "    if temp:\n",
    "        answer += -heapq.heappop(temp)\n",
    "print(answer)"
   ]
  }
 ],
 "metadata": {
  "kernelspec": {
   "display_name": "Python 3",
   "language": "python",
   "name": "python3"
  },
  "language_info": {
   "codemirror_mode": {
    "name": "ipython",
    "version": 3
   },
   "file_extension": ".py",
   "mimetype": "text/x-python",
   "name": "python",
   "nbconvert_exporter": "python",
   "pygments_lexer": "ipython3",
   "version": "3.8.5"
  }
 },
 "nbformat": 4,
 "nbformat_minor": 4
}
