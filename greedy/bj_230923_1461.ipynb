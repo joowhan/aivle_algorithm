{
 "cells": [
  {
   "cell_type": "code",
   "execution_count": 13,
   "id": "d901addd-8499-4a9d-b4f4-d198d3da153e",
   "metadata": {},
   "outputs": [
    {
     "name": "stdin",
     "output_type": "stream",
     "text": [
      " 7 2\n"
     ]
    }
   ],
   "source": [
    "n,m = map(int, input().split())"
   ]
  },
  {
   "cell_type": "code",
   "execution_count": 28,
   "id": "d1220924-3d84-40e0-b598-11c6e575c9b6",
   "metadata": {},
   "outputs": [
    {
     "name": "stdin",
     "output_type": "stream",
     "text": [
      " -37 2 -6 -39 -29 11 -28\n"
     ]
    }
   ],
   "source": [
    "books = list(map(int, input().split()))"
   ]
  },
  {
   "cell_type": "code",
   "execution_count": 29,
   "id": "22906fb2-e41a-469a-88d4-9e49433a869f",
   "metadata": {},
   "outputs": [
    {
     "data": {
      "text/plain": [
       "[-37, 2, -6, -39, -29, 11, -28]"
      ]
     },
     "execution_count": 29,
     "metadata": {},
     "output_type": "execute_result"
    }
   ],
   "source": [
    "books"
   ]
  },
  {
   "cell_type": "code",
   "execution_count": 44,
   "id": "86fedbae-0838-4b2c-8426-ec37ede38a29",
   "metadata": {},
   "outputs": [
    {
     "name": "stdout",
     "output_type": "stream",
     "text": [
      "131\n"
     ]
    }
   ],
   "source": [
    "import heapq\n",
    "\n",
    "neg = []\n",
    "pos=[]\n",
    "result = 0\n",
    "farthest =  max(max(books), - min(books))\n",
    "\n",
    "for book in books:\n",
    "    if book <0:\n",
    "        heapq.heappush(neg, book)\n",
    "    else:\n",
    "        heapq.heappush(pos,-book)\n",
    "while pos:\n",
    "    result += heapq.heappop(pos)\n",
    "    for _ in range(m-1):\n",
    "        if len(pos)>0:\n",
    "            heapq.heappop(pos)\n",
    "while neg:\n",
    "    result += heapq.heappop(neg)\n",
    "    for _ in range(m-1):\n",
    "        if len(neg)>0:\n",
    "            heapq.heappop(neg)\n",
    "print(-result*2 - farthest)"
   ]
  },
  {
   "cell_type": "code",
   "execution_count": 35,
   "id": "0b58bc23-e97e-49da-9c12-0b3e0420bd91",
   "metadata": {},
   "outputs": [
    {
     "data": {
      "text/plain": [
       "[-39, -29, -37, -6, -28]"
      ]
     },
     "execution_count": 35,
     "metadata": {},
     "output_type": "execute_result"
    }
   ],
   "source": []
  },
  {
   "cell_type": "code",
   "execution_count": 37,
   "id": "469f1497-e0e5-4d76-9182-cd80cb6e7a9b",
   "metadata": {},
   "outputs": [
    {
     "data": {
      "text/plain": [
       "131"
      ]
     },
     "execution_count": 37,
     "metadata": {},
     "output_type": "execute_result"
    }
   ],
   "source": [
    "29*2++12+22+39"
   ]
  },
  {
   "cell_type": "code",
   "execution_count": 39,
   "id": "19b24117-f311-4dd6-a447-919df09c8e31",
   "metadata": {},
   "outputs": [
    {
     "data": {
      "text/plain": [
       "39"
      ]
     },
     "execution_count": 39,
     "metadata": {},
     "output_type": "execute_result"
    }
   ],
   "source": [
    "farthest =  max(max(books), - min(books))"
   ]
  },
  {
   "cell_type": "code",
   "execution_count": null,
   "id": "3a6de2d2-66c8-4b87-86a8-91d8e088eacf",
   "metadata": {},
   "outputs": [],
   "source": []
  }
 ],
 "metadata": {
  "kernelspec": {
   "display_name": "Python 3",
   "language": "python",
   "name": "python3"
  },
  "language_info": {
   "codemirror_mode": {
    "name": "ipython",
    "version": 3
   },
   "file_extension": ".py",
   "mimetype": "text/x-python",
   "name": "python",
   "nbconvert_exporter": "python",
   "pygments_lexer": "ipython3",
   "version": "3.9.2"
  }
 },
 "nbformat": 4,
 "nbformat_minor": 5
}
