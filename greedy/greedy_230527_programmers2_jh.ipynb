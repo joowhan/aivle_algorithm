{
 "cells": [
  {
   "cell_type": "code",
   "execution_count": 1,
   "id": "61153f41-9c51-4453-a064-610e63883c81",
   "metadata": {},
   "outputs": [
    {
     "name": "stdout",
     "output_type": "stream",
     "text": [
      "65\n"
     ]
    }
   ],
   "source": [
    "print(ord('A'))"
   ]
  },
  {
   "cell_type": "markdown",
   "id": "c2dadce1-ebcc-47c1-ae8e-ce77c20f955f",
   "metadata": {},
   "source": [
    "▲ - 다음 알파벳\\\n",
    "▼ - 이전 알파벳 (A에서 아래쪽으로 이동하면 Z로)\\\n",
    "◀ - 커서를 왼쪽으로 이동 (첫 번째 위치에서 왼쪽으로 이동하면 마지막 문자에 커서)\\\n",
    "▶ - 커서를 오른쪽으로 이동 (마지막 위치에서 오른쪽으로 이동하면 첫 번째 문자에 커서)"
   ]
  },
  {
   "cell_type": "code",
   "execution_count": 5,
   "id": "1913358c-19e5-46c3-b15d-b97f58973aaa",
   "metadata": {},
   "outputs": [
    {
     "data": {
      "text/plain": [
       "'AAA'"
      ]
     },
     "execution_count": 5,
     "metadata": {},
     "output_type": "execute_result"
    }
   ],
   "source": [
    "3 *'A'"
   ]
  },
  {
   "cell_type": "code",
   "execution_count": 7,
   "id": "5ecb5ebb-2f1e-4494-a2fe-a9b364922ff2",
   "metadata": {},
   "outputs": [
    {
     "data": {
      "text/plain": [
       "9"
      ]
     },
     "execution_count": 7,
     "metadata": {},
     "output_type": "execute_result"
    }
   ],
   "source": [
    "ord('J') - ord('A')"
   ]
  },
  {
   "cell_type": "code",
   "execution_count": 8,
   "id": "5c6256f4-f1ab-4a16-a375-2d1d551b5a7c",
   "metadata": {},
   "outputs": [
    {
     "ename": "SyntaxError",
     "evalue": "invalid syntax (135099157.py, line 1)",
     "output_type": "error",
     "traceback": [
      "\u001b[1;36m  File \u001b[1;32m\"C:\\Users\\User\\AppData\\Local\\Temp\\ipykernel_13340\\135099157.py\"\u001b[1;36m, line \u001b[1;32m1\u001b[0m\n\u001b[1;33m    if chr('65')\u001b[0m\n\u001b[1;37m                ^\u001b[0m\n\u001b[1;31mSyntaxError\u001b[0m\u001b[1;31m:\u001b[0m invalid syntax\n"
     ]
    }
   ],
   "source": [
    "if chr('65')"
   ]
  },
  {
   "cell_type": "code",
   "execution_count": 9,
   "id": "beb14d6a-fb3b-4755-8ae4-d1d3eaf132b6",
   "metadata": {},
   "outputs": [
    {
     "data": {
      "text/plain": [
       "'A'"
      ]
     },
     "execution_count": 9,
     "metadata": {},
     "output_type": "execute_result"
    }
   ],
   "source": [
    "chr(65)"
   ]
  },
  {
   "cell_type": "code",
   "execution_count": 14,
   "id": "9d8a5922-4014-4387-97fc-a293b09a8308",
   "metadata": {},
   "outputs": [
    {
     "data": {
      "text/plain": [
       "17"
      ]
     },
     "execution_count": 14,
     "metadata": {},
     "output_type": "execute_result"
    }
   ],
   "source": [
    "ord('Z') - ord('J') + ord('B') -ord('A')"
   ]
  },
  {
   "cell_type": "code",
   "execution_count": null,
   "id": "5bf5a856-5352-4335-86ad-62f6fe0a5d7e",
   "metadata": {},
   "outputs": [],
   "source": [
    "# 커서 이동은 언제? -> 현재 위치에서 조작해야하는 곳까지 가는 길 최소화\n",
    "# 위 아래 이동은 언제? -> 해당 알파벳으로 가야할 ㄸ ㅐ"
   ]
  },
  {
   "cell_type": "code",
   "execution_count": 1,
   "id": "74766bb8-8d52-4c06-8190-0747839af54e",
   "metadata": {},
   "outputs": [],
   "source": [
    "k = 'J'\n",
    "alphabet = ['A','B','C','D','E,','F','G','H','I','J','K','L','M','N','O','P','Q','R','S','T','U','V','W','X','Y','Z']"
   ]
  },
  {
   "cell_type": "code",
   "execution_count": 3,
   "id": "fb6e319c-d9b5-45f0-82cf-feadfbb30992",
   "metadata": {},
   "outputs": [
    {
     "data": {
      "text/plain": [
       "13.0"
      ]
     },
     "execution_count": 3,
     "metadata": {},
     "output_type": "execute_result"
    }
   ],
   "source": [
    "len(alphabet)/2"
   ]
  },
  {
   "cell_type": "code",
   "execution_count": 4,
   "id": "8ab22e6d-2a01-4983-85d0-9c8cf84843a2",
   "metadata": {},
   "outputs": [
    {
     "data": {
      "text/plain": [
       "'N'"
      ]
     },
     "execution_count": 4,
     "metadata": {},
     "output_type": "execute_result"
    }
   ],
   "source": [
    "alphabet[13]"
   ]
  },
  {
   "cell_type": "code",
   "execution_count": 8,
   "id": "d049b5d3-cd90-44b2-b5c4-8f17134fd442",
   "metadata": {},
   "outputs": [
    {
     "data": {
      "text/plain": [
       "12"
      ]
     },
     "execution_count": 8,
     "metadata": {},
     "output_type": "execute_result"
    }
   ],
   "source": [
    "len(alphabet[0:12])\n"
   ]
  },
  {
   "cell_type": "code",
   "execution_count": 9,
   "id": "b170fb6c-5000-4b64-b6ba-ccd73a96f3b0",
   "metadata": {},
   "outputs": [
    {
     "data": {
      "text/plain": [
       "14"
      ]
     },
     "execution_count": 9,
     "metadata": {},
     "output_type": "execute_result"
    }
   ],
   "source": [
    "len(alphabet[12:])"
   ]
  },
  {
   "cell_type": "code",
   "execution_count": 13,
   "id": "d8107ea2-0ad9-401b-ac26-ee22e17366fa",
   "metadata": {},
   "outputs": [],
   "source": [
    "name = 'JAN'\n",
    "name = list(name)\n",
    "origin = list(len(name)*'A')\n",
    "curr = 0\n",
    "for i in range(len(name)):\n",
    "    if name[i] == origin[i]:\n",
    "        continue\n",
    "    else:\n",
    "        #출발 위치에서 왼쪽으로 가는 것, 오른쪽으로 가는 것\n",
    "        if abs(i - curr) <"
   ]
  },
  {
   "cell_type": "code",
   "execution_count": 15,
   "id": "c68d2dbd-dfc9-42a6-9642-4ce864091100",
   "metadata": {},
   "outputs": [
    {
     "data": {
      "text/plain": [
       "['J', 'A', 'N']"
      ]
     },
     "execution_count": 15,
     "metadata": {},
     "output_type": "execute_result"
    }
   ],
   "source": [
    "name"
   ]
  },
  {
   "cell_type": "code",
   "execution_count": 16,
   "id": "2486310f-46bb-4b55-9ed4-882bcc09df86",
   "metadata": {},
   "outputs": [
    {
     "ename": "IndentationError",
     "evalue": "expected an indented block (3267044097.py, line 1)",
     "output_type": "error",
     "traceback": [
      "\u001b[1;36m  File \u001b[1;32m\"C:\\Users\\User\\AppData\\Local\\Temp\\ipykernel_29472\\3267044097.py\"\u001b[1;36m, line \u001b[1;32m1\u001b[0m\n\u001b[1;33m    def left():\u001b[0m\n\u001b[1;37m               ^\u001b[0m\n\u001b[1;31mIndentationError\u001b[0m\u001b[1;31m:\u001b[0m expected an indented block\n"
     ]
    }
   ],
   "source": [
    "def left():\n",
    "    "
   ]
  },
  {
   "cell_type": "code",
   "execution_count": null,
   "id": "bd810f87-0ac4-492d-82ba-266d03bc8dd6",
   "metadata": {},
   "outputs": [],
   "source": []
  }
 ],
 "metadata": {
  "kernelspec": {
   "display_name": "Python 3 (ipykernel)",
   "language": "python",
   "name": "python3"
  },
  "language_info": {
   "codemirror_mode": {
    "name": "ipython",
    "version": 3
   },
   "file_extension": ".py",
   "mimetype": "text/x-python",
   "name": "python",
   "nbconvert_exporter": "python",
   "pygments_lexer": "ipython3",
   "version": "3.9.13"
  }
 },
 "nbformat": 4,
 "nbformat_minor": 5
}
