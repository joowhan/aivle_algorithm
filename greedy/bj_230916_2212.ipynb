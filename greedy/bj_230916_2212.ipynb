{
 "cells": [
  {
   "cell_type": "code",
   "execution_count": 20,
   "id": "60bb6bd8-a9eb-4fa7-960e-3d38b9fdea5c",
   "metadata": {},
   "outputs": [
    {
     "name": "stdin",
     "output_type": "stream",
     "text": [
      " 6\n",
      " 2\n",
      " 1 6 9 3 6 7\n"
     ]
    },
    {
     "name": "stdout",
     "output_type": "stream",
     "text": [
      "5\n"
     ]
    }
   ],
   "source": [
    "import sys\n",
    "# input = sys.stdin.readline\n",
    "n = int(input())\n",
    "k = int(input())\n",
    "if k>=n:\n",
    "    print(0)\n",
    "else:\n",
    "    sensors = list(map(int, input().split()))\n",
    "    sensors.sort()\n",
    "    # 각 사이의 거리 구하기\n",
    "    dist = [0 for _ in range(n)]\n",
    "    for i in range(1,n):\n",
    "        dist[i] = sensors[i]-sensors[i-1]\n",
    "    dist.sort(reverse=True)\n",
    "\n",
    "    for i in range(k-1):\n",
    "        dist[i] = 0\n",
    "    print(sum(dist))"
   ]
  },
  {
   "cell_type": "code",
   "execution_count": 19,
   "id": "5e2df729-7ca5-4574-9794-6bcb22439612",
   "metadata": {},
   "outputs": [
    {
     "data": {
      "text/plain": [
       "[0, 0, 1, 2, 2]"
      ]
     },
     "execution_count": 19,
     "metadata": {},
     "output_type": "execute_result"
    }
   ],
   "source": [
    "dist"
   ]
  },
  {
   "cell_type": "code",
   "execution_count": 14,
   "id": "f490bc08-f395-4133-85b1-613ceeb39308",
   "metadata": {},
   "outputs": [
    {
     "data": {
      "text/plain": [
       "3"
      ]
     },
     "execution_count": 14,
     "metadata": {},
     "output_type": "execute_result"
    }
   ],
   "source": [
    "\n",
    "\n",
    "dist.pop(idx)"
   ]
  },
  {
   "cell_type": "code",
   "execution_count": 15,
   "id": "37813ccd-434f-4c2e-b0f6-b9f291876de7",
   "metadata": {},
   "outputs": [
    {
     "data": {
      "text/plain": [
       "[0, 2, 0, 1, 2]"
      ]
     },
     "execution_count": 15,
     "metadata": {},
     "output_type": "execute_result"
    }
   ],
   "source": [
    "dist"
   ]
  },
  {
   "cell_type": "code",
   "execution_count": null,
   "id": "88c4c763-a2e2-4ab2-b830-16a2350346e5",
   "metadata": {},
   "outputs": [],
   "source": []
  }
 ],
 "metadata": {
  "kernelspec": {
   "display_name": "Python 3",
   "language": "python",
   "name": "python3"
  },
  "language_info": {
   "codemirror_mode": {
    "name": "ipython",
    "version": 3
   },
   "file_extension": ".py",
   "mimetype": "text/x-python",
   "name": "python",
   "nbconvert_exporter": "python",
   "pygments_lexer": "ipython3",
   "version": "3.9.2"
  }
 },
 "nbformat": 4,
 "nbformat_minor": 5
}
