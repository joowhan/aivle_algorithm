{
 "cells": [
  {
   "cell_type": "code",
   "execution_count": 2,
   "id": "0a29e5a3-ca80-4265-b105-b41ab860ed2a",
   "metadata": {},
   "outputs": [],
   "source": [
    "#failed solution\n",
    "def solution(food_times, k):\n",
    "    answer = 0\n",
    "    x=0\n",
    "    for i in range(k):        \n",
    "        if answer >= len(food_times):\n",
    "            answer = 0\n",
    "        if food_times[answer] <=0:\n",
    "            answer +=1\n",
    "        print(answer)\n",
    "        food_times[answer] -=1\n",
    "        answer +=1\n",
    "    return answer%len(food_times)+1"
   ]
  },
  {
   "cell_type": "code",
   "execution_count": null,
   "id": "a37de7c9-f6c2-46fa-899f-869f5c34d83d",
   "metadata": {},
   "outputs": [],
   "source": []
  }
 ],
 "metadata": {
  "kernelspec": {
   "display_name": "Python 3 (ipykernel)",
   "language": "python",
   "name": "python3"
  },
  "language_info": {
   "codemirror_mode": {
    "name": "ipython",
    "version": 3
   },
   "file_extension": ".py",
   "mimetype": "text/x-python",
   "name": "python",
   "nbconvert_exporter": "python",
   "pygments_lexer": "ipython3",
   "version": "3.9.13"
  }
 },
 "nbformat": 4,
 "nbformat_minor": 5
}
