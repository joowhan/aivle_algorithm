{
 "cells": [
  {
   "cell_type": "code",
   "execution_count": 1,
   "id": "ed4ca4f3-8095-4ac3-8157-c4f0fb96caf3",
   "metadata": {},
   "outputs": [],
   "source": [
    "from itertools import combinations"
   ]
  },
  {
   "cell_type": "code",
   "execution_count": 2,
   "id": "52c0375b-7be5-4b10-ae4c-3844b8792315",
   "metadata": {},
   "outputs": [
    {
     "name": "stdin",
     "output_type": "stream",
     "text": [
      " 5 3\n"
     ]
    }
   ],
   "source": [
    "n,m = map(int,input().split())"
   ]
  },
  {
   "cell_type": "code",
   "execution_count": 3,
   "id": "aa204933-b050-4535-9801-a3bf21d85e82",
   "metadata": {},
   "outputs": [
    {
     "name": "stdin",
     "output_type": "stream",
     "text": [
      " 1 3 2 3 2\n"
     ]
    }
   ],
   "source": [
    "lis = list(map(int, input().split()))"
   ]
  },
  {
   "cell_type": "code",
   "execution_count": 7,
   "id": "bb6baed2-35cd-4ac9-ab70-215d33bebeee",
   "metadata": {},
   "outputs": [],
   "source": [
    "comb = list(combinations(lis, 2))\n",
    "res=0\n",
    "for ball in comb:\n",
    "    if ball[0] ==ball[1]:\n",
    "        res +=1"
   ]
  },
  {
   "cell_type": "code",
   "execution_count": 9,
   "id": "7ab79832-2067-4401-8660-39904fb66e11",
   "metadata": {},
   "outputs": [
    {
     "data": {
      "text/plain": [
       "8"
      ]
     },
     "execution_count": 9,
     "metadata": {},
     "output_type": "execute_result"
    }
   ],
   "source": [
    "len(comb)-res"
   ]
  },
  {
   "cell_type": "code",
   "execution_count": null,
   "id": "38ee24a2-ae39-485f-acf2-2f091413afb7",
   "metadata": {},
   "outputs": [],
   "source": []
  }
 ],
 "metadata": {
  "kernelspec": {
   "display_name": "Python 3 (ipykernel)",
   "language": "python",
   "name": "python3"
  },
  "language_info": {
   "codemirror_mode": {
    "name": "ipython",
    "version": 3
   },
   "file_extension": ".py",
   "mimetype": "text/x-python",
   "name": "python",
   "nbconvert_exporter": "python",
   "pygments_lexer": "ipython3",
   "version": "3.9.13"
  }
 },
 "nbformat": 4,
 "nbformat_minor": 5
}
